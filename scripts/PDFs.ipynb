{
 "cells": [
  {
   "cell_type": "code",
   "execution_count": 3,
   "id": "d5b2d86d",
   "metadata": {},
   "outputs": [
    {
     "ename": "ModuleNotFoundError",
     "evalue": "No module named 'PyPDF2'",
     "output_type": "error",
     "traceback": [
      "\u001b[0;31m---------------------------------------------------------------------------\u001b[0m",
      "\u001b[0;31mModuleNotFoundError\u001b[0m                       Traceback (most recent call last)",
      "\u001b[0;32m/tmp/ipykernel_1339/2992219870.py\u001b[0m in \u001b[0;36m<module>\u001b[0;34m\u001b[0m\n\u001b[1;32m      9\u001b[0m \u001b[0;34m\u001b[0m\u001b[0m\n\u001b[1;32m     10\u001b[0m \u001b[0;31m# For getting information about the pdfs\u001b[0m\u001b[0;34m\u001b[0m\u001b[0;34m\u001b[0m\u001b[0;34m\u001b[0m\u001b[0m\n\u001b[0;32m---> 11\u001b[0;31m \u001b[0;32mfrom\u001b[0m \u001b[0mPyPDF2\u001b[0m \u001b[0;32mimport\u001b[0m \u001b[0mPdfFileReader\u001b[0m\u001b[0;34m\u001b[0m\u001b[0;34m\u001b[0m\u001b[0m\n\u001b[0m\u001b[1;32m     12\u001b[0m \u001b[0;34m\u001b[0m\u001b[0m\n",
      "\u001b[0;31mModuleNotFoundError\u001b[0m: No module named 'PyPDF2'"
     ]
    }
   ],
   "source": [
    "import pandas as pd\n",
    "import numpy as np\n",
    "from bs4 import BeautifulSoup\n",
    "import requests\n",
    "\n",
    "\n",
    "# for input and output operations\n",
    "import io\n",
    " \n",
    "# For getting information about the pdfs\n",
    "from PyPDF2 import PdfFileReader\n",
    "\n"
   ]
  },
  {
   "cell_type": "code",
   "execution_count": null,
   "id": "64dceeee",
   "metadata": {},
   "outputs": [],
   "source": [
    "comb_projectsDF = pd.read_csv(\"comb_projectsDF.csv\", index_col=0)"
   ]
  },
  {
   "cell_type": "code",
   "execution_count": null,
   "id": "7b133143",
   "metadata": {},
   "outputs": [],
   "source": [
    "combDF_pdfs = comb_projectsDF[~comb_projectsDF[\"Report\"].isnull()][\"Report\"].tolist()"
   ]
  },
  {
   "cell_type": "code",
   "execution_count": 2,
   "id": "b854b4e5",
   "metadata": {},
   "outputs": [
    {
     "ename": "NameError",
     "evalue": "name 'combDF_pdfs' is not defined",
     "output_type": "error",
     "traceback": [
      "\u001b[0;31m---------------------------------------------------------------------------\u001b[0m",
      "\u001b[0;31mNameError\u001b[0m                                 Traceback (most recent call last)",
      "\u001b[0;32m/tmp/ipykernel_1339/2742956003.py\u001b[0m in \u001b[0;36m<module>\u001b[0;34m\u001b[0m\n\u001b[0;32m----> 1\u001b[0;31m \u001b[0mcombDF_pdfs\u001b[0m\u001b[0;34m\u001b[0m\u001b[0;34m\u001b[0m\u001b[0m\n\u001b[0m",
      "\u001b[0;31mNameError\u001b[0m: name 'combDF_pdfs' is not defined"
     ]
    }
   ],
   "source": [
    "combDF_pdfs"
   ]
  },
  {
   "cell_type": "code",
   "execution_count": null,
   "id": "10ad994e",
   "metadata": {},
   "outputs": [],
   "source": [
    "\"https://dsc-capstone.org/projects-2020-2021/reports/project_53.pdf\""
   ]
  },
  {
   "cell_type": "code",
   "execution_count": null,
   "id": "8acd2264",
   "metadata": {},
   "outputs": [],
   "source": []
  },
  {
   "cell_type": "code",
   "execution_count": null,
   "id": "a701b3c7",
   "metadata": {},
   "outputs": [],
   "source": [
    "def info(pdf_path):\n",
    "\n",
    "\t# used get method to get the pdf file\n",
    "\tresponse = requests.get(pdf_path)\n",
    "\n",
    "\t# response.content generate binary code for\n",
    "\t# string function\n",
    "\twith io.BytesIO(response.content) as f:\n",
    "\n",
    "\t\t# initialized the pdf\n",
    "\t\tpdf = PdfFileReader(f)\n",
    "\n",
    "\t\t# all info about pdf\n",
    "\t\tinformation = pdf.getDocumentInfo()\n",
    "\t\tnumber_of_pages = pdf.getNumPages()\n",
    "\n",
    "\ttxt = f\"\"\"\n",
    "\tInformation about {pdf_path}: \n",
    "\t\n",
    "\tAuthor: {information.author}\n",
    "\tCreator: {information.creator}\n",
    "\tProducer: {information.producer}\n",
    "\tSubject: {information.subject}\n",
    "\tTitle: {information.title}\n",
    "\tNumber of pages: {number_of_pages}\n",
    "\t\"\"\"\n",
    "\tprint(txt)\n",
    "\t\n",
    "\treturn information\n"
   ]
  },
  {
   "cell_type": "code",
   "execution_count": null,
   "id": "76fab3d4",
   "metadata": {},
   "outputs": [],
   "source": [
    "info(\"https://dsc-capstone.org/projects-2020-2021/reports/project_53.pdf\")"
   ]
  },
  {
   "cell_type": "code",
   "execution_count": null,
   "id": "5dd817f5",
   "metadata": {},
   "outputs": [],
   "source": []
  },
  {
   "cell_type": "code",
   "execution_count": null,
   "id": "a7e775ed",
   "metadata": {},
   "outputs": [],
   "source": []
  },
  {
   "cell_type": "code",
   "execution_count": null,
   "id": "55380568",
   "metadata": {},
   "outputs": [],
   "source": []
  },
  {
   "cell_type": "code",
   "execution_count": null,
   "id": "d49879b4",
   "metadata": {},
   "outputs": [],
   "source": []
  }
 ],
 "metadata": {
  "kernelspec": {
   "display_name": "Python 3 (ipykernel)",
   "language": "python",
   "name": "python3"
  },
  "language_info": {
   "codemirror_mode": {
    "name": "ipython",
    "version": 3
   },
   "file_extension": ".py",
   "mimetype": "text/x-python",
   "name": "python",
   "nbconvert_exporter": "python",
   "pygments_lexer": "ipython3",
   "version": "3.9.5"
  }
 },
 "nbformat": 4,
 "nbformat_minor": 5
}
