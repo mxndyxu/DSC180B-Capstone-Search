{
 "cells": [
  {
   "cell_type": "code",
   "execution_count": 1,
   "metadata": {},
   "outputs": [],
   "source": [
    "import numpy as np\n",
    "import pandas as pd\n"
   ]
  },
  {
   "cell_type": "code",
   "execution_count": 2,
   "metadata": {},
   "outputs": [],
   "source": [
    "test_run1 = [[3, 3, 3, 3, 3, 3, 3, 3, 3, 3], [3,3,3,3,3,3, 0, 0, 0, 0], [3, 3, 3, 3, 3, 3, 3, 3, 3, 3],\n",
    " [0, 0, 0, 0, 0, 3, 3, 3, 3, 3], [1, 1, 0, 0, 0, 0, 0, 0, 0,3], [3, 2, 2, 2, 2, 2, 0, 0, 0, 0],\n",
    " [3, 2, 1, 1, 1, 1, 1, 1, 1, 1], [3, 3, 3, 3, 3, 3, 3, 3, 3, 3], [3, 1, 1, 1, 1, 1, 1, 1, 1, 1],\n",
    " [3, 0, 0, 3, 1, 3, 3, 0, 1, 1], [0, 1, 1, 1, 1, 1, 3, 3, 3, 1], [1, 1, 1, 1 ,1, 1, 1, 3, 3, 1],\n",
    " [0, 0, 0, 0, 1, 1, 3, 1, 0, 0], [3], [3]]\n",
    "\n",
    "test_run2 = [[3, 3, 3, 3, 3, 3, 3, 3, 3, 3],[3,3,3,3,3,3],[3, 3, 3, 3, 3, 3, 3, 3, 3, 3],\n",
    "[3],[3, 3, 3, 3, 3, 3, 3, 3, 3, 3],[3, 0, 0, 0, 0, 0, 0, 0, 0, 0],\n",
    "[3, 2, 2, 2, 2, 2],[3, 0, 1, 1, 1, 1, 1, 1, 1, 1],[3],\n",
    "[3, 3, 3, 3, 3, 3, 3, 3, 3, 3],[3, 1, 1, 1, 1, 1, 1, 1, 1, 1],\n",
    "[3, 3, 3, 3, 0, 0, 0, 0, 1, 0],[3,3,3,1,1,1,1,0,1,1],[1, 1, 1, 1 ,1, 1, 1, 1, 3, 1],\n",
    "[3,1,0,0,0,0,0,0,0,0]]\n",
    "\n",
    "test_run3 = [[3, 3, 3, 3, 3, 3, 3, 3, 3, 3], [3,3,3,3,3,3], [3, 3, 3, 3, 3, 3, 3, 3, 3, 3],\n",
    "[3], [3, 3, 3, 3, 3, 3, 3, 3, 3, 3], [3, 0, 0, 0, 0, 0, 0, 0, 0, 0, 0, 0],\n",
    "[3, 2, 2, 2, 2, 2], [3, 0, 1, 1, 1, 1, 1, 1, 1, 1], [3],\n",
    "[3, 3, 3, 3, 3, 3, 3, 3, 3, 3], [3, 1, 1, 1, 1, 1, 1, 1, 1, 1], [3, 3, 3, 3, 0, 0, 0, 0, 1, 0],\n",
    "[3,3,3,1,1,1,1,0,1,1], [1, 1, 1, 1 ,1, 1, 1, 1, 3, 1], [3,1,0,0,0,0,0,0,0,0]]"
   ]
  },
  {
   "cell_type": "code",
   "execution_count": 3,
   "metadata": {},
   "outputs": [
    {
     "data": {
      "text/plain": [
       "15"
      ]
     },
     "execution_count": 3,
     "metadata": {},
     "output_type": "execute_result"
    }
   ],
   "source": [
    "len(test_run1)"
   ]
  },
  {
   "cell_type": "code",
   "execution_count": 32,
   "metadata": {},
   "outputs": [],
   "source": [
    "def calc_ndcg(lst):\n",
    "    dcg = 0\n",
    "    for i, val in enumerate(lst):\n",
    "        dcg += (val) / (np.log2(i + 2))\n",
    "\n",
    "    \n",
    "    idcg = 0\n",
    "    for i, val in enumerate(sorted(lst, reverse=True)):\n",
    "        idcg += (val) / (np.log2(i + 2))\n",
    "    \n",
    "    return (dcg / idcg)"
   ]
  },
  {
   "cell_type": "code",
   "execution_count": 33,
   "metadata": {},
   "outputs": [
    {
     "data": {
      "text/plain": [
       "1.0"
      ]
     },
     "execution_count": 33,
     "metadata": {},
     "output_type": "execute_result"
    }
   ],
   "source": [
    "calc_ndcg([3, 3, 3, 3, 3, 3, 3, 3, 3, 3])"
   ]
  },
  {
   "cell_type": "code",
   "execution_count": 34,
   "metadata": {},
   "outputs": [],
   "source": [
    "def calc_mean_ndcg(lst_of_res):\n",
    "    ndcgs = []\n",
    "    for lst in lst_of_res:\n",
    "        ndcgs.append(calc_ndcg(lst))\n",
    "    \n",
    "    return np.mean(ndcgs)"
   ]
  },
  {
   "cell_type": "code",
   "execution_count": 35,
   "metadata": {},
   "outputs": [
    {
     "data": {
      "text/plain": [
       "0.8542486809883225"
      ]
     },
     "execution_count": 35,
     "metadata": {},
     "output_type": "execute_result"
    }
   ],
   "source": [
    "calc_mean_ndcg(test_run1)"
   ]
  },
  {
   "cell_type": "code",
   "execution_count": 36,
   "metadata": {},
   "outputs": [
    {
     "data": {
      "text/plain": [
       "0.9811981582946292"
      ]
     },
     "execution_count": 36,
     "metadata": {},
     "output_type": "execute_result"
    }
   ],
   "source": [
    "calc_mean_ndcg(test_run2)"
   ]
  },
  {
   "cell_type": "code",
   "execution_count": 37,
   "metadata": {},
   "outputs": [
    {
     "data": {
      "text/plain": [
       "0.9811981582946292"
      ]
     },
     "execution_count": 37,
     "metadata": {},
     "output_type": "execute_result"
    }
   ],
   "source": [
    "calc_mean_ndcg(test_run3)"
   ]
  },
  {
   "cell_type": "code",
   "execution_count": null,
   "metadata": {},
   "outputs": [],
   "source": []
  }
 ],
 "metadata": {
  "kernelspec": {
   "display_name": "test2",
   "language": "python",
   "name": "python3"
  },
  "language_info": {
   "codemirror_mode": {
    "name": "ipython",
    "version": 3
   },
   "file_extension": ".py",
   "mimetype": "text/x-python",
   "name": "python",
   "nbconvert_exporter": "python",
   "pygments_lexer": "ipython3",
   "version": "3.11.5"
  }
 },
 "nbformat": 4,
 "nbformat_minor": 2
}
