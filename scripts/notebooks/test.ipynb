{
 "cells": [
  {
   "cell_type": "code",
   "execution_count": 1,
   "metadata": {},
   "outputs": [],
   "source": [
    "import pandas as pd"
   ]
  },
  {
   "cell_type": "code",
   "execution_count": 2,
   "metadata": {},
   "outputs": [
    {
     "data": {
      "text/plain": [
       "{'https://drive.google.com/file/d/1wyzuWBjGV1FWsr0bxHz5ml0VPE5hU7MS/view?usp=drivesdk': '../data/pdfs/poster_pdfs/0_pdf.pdf',\n",
       " 'https://drive.google.com/file/d/1qNdCDuVi9iCtT_K80sjAAzl3AlYuNww1/view?usp=drivesdk': '../data/pdfs/poster_pdfs/1_pdf.pdf',\n",
       " 'https://drive.google.com/file/d/1CptK273nCwx4fXM86fK3R5A-sVFzrxfL/view?usp=drivesdk': '../data/pdfs/poster_pdfs/2_pdf.pdf',\n",
       " 'https://drive.google.com/file/d/1o4sLaCsXra1achSoUnr1Ym_56YwINxWw/view?usp=drivesdk': '../data/pdfs/poster_pdfs/3_pdf.pdf',\n",
       " 'https://drive.google.com/file/d/1ye-njQP6-B3w0860eFhcCqgWDOGlClgl/view?usp=drivesdk': '../data/pdfs/poster_pdfs/4_pdf.pdf',\n",
       " 'https://drive.google.com/file/d/1ygjGh_qmmjd8mi-vK1iNE1dA1QgAje3U/view?usp=drivesdk': '../data/pdfs/poster_pdfs/5_pdf.pdf',\n",
       " 'https://drive.google.com/file/d/1aa5irUMdCY-Pe-P3WKA6H-zYESMau2qL/view?usp=drivesdk': '../data/pdfs/poster_pdfs/6_pdf.pdf',\n",
       " 'https://drive.google.com/file/d/1i8Ujjdo-Jp6m2bO_zB-KN3S9DQSauJO1/view?usp=drivesdk': '../data/pdfs/poster_pdfs/7_pdf.pdf',\n",
       " 'https://drive.google.com/file/d/1AffI7myw-qf1fGdqKxGZbazlY_7Gb4rw/view?usp=drivesdk': '../data/pdfs/poster_pdfs/8_pdf.pdf',\n",
       " 'https://drive.google.com/file/d/1MUaHsWwEtzWefYMtEEhWLy0iv40ishuv/view?usp=drivesdk': '../data/pdfs/poster_pdfs/9_pdf.pdf',\n",
       " 'https://drive.google.com/file/d/1kOeHboSKFNY3PiyqN6NLkHB9KsmdtSlb/view?usp=drivesdk': '../data/pdfs/poster_pdfs/10_pdf.pdf',\n",
       " 'https://drive.google.com/file/d/1M7jZeyONCmcX7iyuN-xcikFsWJqQiOGm/view?usp=drivesdk': '../data/pdfs/poster_pdfs/11_pdf.pdf',\n",
       " 'https://drive.google.com/file/d/19W2pH0bbXj1rGs7mfSV6ENo6TCIJOZk7/view?usp=drivesdk': '../data/pdfs/poster_pdfs/12_pdf.pdf',\n",
       " 'https://drive.google.com/file/d/1iKGE2HfmKvYFZvRuB6oxed3C4vfjiW0q/view?usp=drivesdk': '../data/pdfs/poster_pdfs/13_pdf.pdf',\n",
       " 'https://drive.google.com/file/d/1C0Dvh5BTlnEOotPIMtA_xKFm4WNzuTBX/view?usp=drivesdk': '../data/pdfs/poster_pdfs/14_pdf.pdf',\n",
       " 'https://drive.google.com/file/d/1b4Wr6ltINa-Q44nwssO4qHwpL9llTJ2f/view?usp=drivesdk': '../data/pdfs/poster_pdfs/15_pdf.pdf',\n",
       " 'https://drive.google.com/file/d/1zUP6ChZon1qe9DQKVbvIbz8Qq9cnBMok/view?usp=drivesdk': '../data/pdfs/poster_pdfs/16_pdf.pdf',\n",
       " 'https://drive.google.com/file/d/1tKiHF_ltAvNAzFSAwpgmmbl7avw2M27I/view?usp=drivesdk': '../data/pdfs/poster_pdfs/17_pdf.pdf',\n",
       " 'https://drive.google.com/file/d/1gIrmHNx2_GwLhDZ133HCNFn7FEU2dVIn/view?usp=drivesdk': '../data/pdfs/poster_pdfs/18_pdf.pdf',\n",
       " 'https://drive.google.com/file/d/1NgGj4UpNht-vNUfaABUweVx21UsqxA48/view?usp=drivesdk': '../data/pdfs/poster_pdfs/19_pdf.pdf',\n",
       " 'https://drive.google.com/file/d/1f0kCAG-FQWb3-6IWrJ1T9XNd7KO15ArF/view?usp=drivesdk': '../data/pdfs/poster_pdfs/20_pdf.pdf',\n",
       " 'https://drive.google.com/file/d/1Z_sGXsESxykQD-AsoRo-1AnuJeaqQKR5/view?usp=drivesdk': '../data/pdfs/poster_pdfs/21_pdf.pdf',\n",
       " 'https://drive.google.com/file/d/16u2GqZZZSz5l72ng758ZbQwmU24GRo36/view?usp=drivesdk': '../data/pdfs/poster_pdfs/22_pdf.pdf',\n",
       " 'https://drive.google.com/file/d/1yBr5ZQ84aeFzGMUcrIXpWZ_Lpsuys4eh/view?usp=drivesdk': '../data/pdfs/poster_pdfs/23_pdf.pdf',\n",
       " 'https://drive.google.com/file/d/1KtxBB9TybZwfkFu8zqbnGzST42aPkQN5/view?usp=drivesdk': '../data/pdfs/poster_pdfs/24_pdf.pdf',\n",
       " 'https://drive.google.com/file/d/1vITeH0qZGgxF_Z0XJQ0dOaIJx_qTv5Nj/view?usp=drivesdk': '../data/pdfs/poster_pdfs/25_pdf.pdf',\n",
       " 'https://drive.google.com/file/d/130Y3qjN2Cebh09qblp4o7mN3IWXZPcJy/view?usp=drivesdk': '../data/pdfs/poster_pdfs/26_pdf.pdf',\n",
       " 'https://drive.google.com/file/d/1LVCq91qyz7mOgYmrz1iUlgvsiYosbfDX/view?usp=drivesdk': '../data/pdfs/poster_pdfs/27_pdf.pdf',\n",
       " 'https://drive.google.com/file/d/12MgZATLwzI8YPPkRNufTYJvVKgMyPdfH/view?usp=drivesdk': '../data/pdfs/poster_pdfs/28_pdf.pdf',\n",
       " 'https://drive.google.com/file/d/16df6AgzYgigNHRHZur8AZHEg7FTVAb7l/view?usp=drivesdk': '../data/pdfs/poster_pdfs/29_pdf.pdf',\n",
       " 'https://drive.google.com/file/d/1DOY9-qMOsoCTTyfNKpg0BaX3MhXKZ_EM/view?usp=drivesdk': '../data/pdfs/poster_pdfs/30_pdf.pdf',\n",
       " 'https://drive.google.com/file/d/1sjxEMrzplhf3KgLBxlC5IPeJza5qpJsn/view?usp=drivesdk': '../data/pdfs/poster_pdfs/31_pdf.pdf',\n",
       " 'https://drive.google.com/file/d/1zPQEc08fNN-1eQBWr7ljxBEo4QJ6QvTu/view?usp=drivesdk': '../data/pdfs/poster_pdfs/32_pdf.pdf',\n",
       " 'https://drive.google.com/file/d/1Qk1aTauN8f6v_Sz30doSAbByJLBF305S/view?usp=drivesdk': '../data/pdfs/poster_pdfs/33_pdf.pdf',\n",
       " 'https://drive.google.com/file/d/1m3Gy5ldjGqiTkYX6XV3meAU44MSHP9dL/view?usp=drivesdk': '../data/pdfs/poster_pdfs/34_pdf.pdf',\n",
       " 'https://drive.google.com/file/d/1_5LxtvDnnn0_wNrwpJSVRjxOmAf68b0J/view?usp=drivesdk': '../data/pdfs/poster_pdfs/35_pdf.pdf',\n",
       " 'https://drive.google.com/file/d/1rZY_sfGIvEIO1drWLJLJGIVraNOPUC5L/view?usp=drivesdk': '../data/pdfs/poster_pdfs/36_pdf.pdf',\n",
       " 'https://drive.google.com/file/d/1T6M5VM9Sk2oVjS5KWMFmPlLo1LKZBEyO/view?usp=drivesdk': '../data/pdfs/poster_pdfs/37_pdf.pdf',\n",
       " 'https://drive.google.com/file/d/1V60ldBhs-OwgSTrZ9DR_Gj_p6F4VbcA_/view?usp=drivesdk': '../data/pdfs/poster_pdfs/38_pdf.pdf',\n",
       " 'https://drive.google.com/file/d/1BjS6ZcwmB4TsGctyS56vNxZsTev8F0zF/view?usp=drivesdk': '../data/pdfs/poster_pdfs/39_pdf.pdf',\n",
       " 'https://drive.google.com/file/d/16vgufdp9xgkmYjbAlJwZoexbTW92yI5Y/view?usp=drivesdk': '../data/pdfs/poster_pdfs/40_pdf.pdf',\n",
       " 'https://drive.google.com/file/d/1nQ_0AhbD1kauLRnFW9l199gv_LEPr0Ec/view?usp=drivesdk': '../data/pdfs/poster_pdfs/41_pdf.pdf',\n",
       " 'https://drive.google.com/file/d/1Sk7Ttb20bNryb6pgQ6DIOShOi1Fd6mGh/view?usp=drivesdk': '../data/pdfs/poster_pdfs/42_pdf.pdf',\n",
       " 'https://drive.google.com/file/d/1GgUirexlnhHoCEwiy7qBLzJ-s4npSRWW/view?usp=drivesdk': '../data/pdfs/poster_pdfs/43_pdf.pdf',\n",
       " 'https://drive.google.com/file/d/15XovpYw3eAMhe3RkNWX1NMKOYU56wHb0/view?usp=drivesdk': '../data/pdfs/poster_pdfs/44_pdf.pdf',\n",
       " 'https://drive.google.com/file/d/1Fnf2VpkIiEIo0r51Q19Gcb6iA1KPj36L/view?usp=drivesdk': '../data/pdfs/poster_pdfs/45_pdf.pdf',\n",
       " 'https://drive.google.com/file/d/1zuDZ1LgBUawGSnZ_qpPILettfygo343g/view?usp=drivesdk': '../data/pdfs/poster_pdfs/46_pdf.pdf',\n",
       " 'https://drive.google.com/file/d/1_EPfHNOpa4htesHFZ66yNJtGSkJgSJLa/view?usp=drivesdk': '../data/pdfs/poster_pdfs/47_pdf.pdf',\n",
       " 'https://drive.google.com/file/d/1Ri9haaMSME1uKvQQPZWmJemlTMuPRnok/view?usp=drivesdk': '../data/pdfs/poster_pdfs/48_pdf.pdf',\n",
       " 'https://drive.google.com/file/d/1PRPiISiHrhC1dhesHjzwVfGtARPgiemu/view?usp=drivesdk': '../data/pdfs/poster_pdfs/49_pdf.pdf',\n",
       " 'https://drive.google.com/file/d/1VsiIXG3CYeLJ-KCdiLdKLgavl5a5RE7o/view?usp=drivesdk': '../data/pdfs/poster_pdfs/50_pdf.pdf',\n",
       " 'https://drive.google.com/file/d/1aHUgSted9FVi-XuNwBtiwZMyes6bn7JS/view?usp=drivesdk': '../data/pdfs/poster_pdfs/51_pdf.pdf',\n",
       " 'https://drive.google.com/file/d/1d-ahdQEAwBxy_3mLM-QXOPNAIQ_TvAiN/view?usp=drivesdk': '../data/pdfs/poster_pdfs/52_pdf.pdf',\n",
       " 'https://drive.google.com/file/d/13wPDo3P2QiyMIum-6sYac6VxIrPZs3mM/view?usp=drivesdk': '../data/pdfs/poster_pdfs/53_pdf.pdf',\n",
       " 'https://drive.google.com/file/d/1XCZIBruco_yHtsCDHUuW436nVk9j5uwr/view?usp=drivesdk': '../data/pdfs/poster_pdfs/54_pdf.pdf',\n",
       " 'https://drive.google.com/file/d/1u0os3BdglShvWXPNe6rX03_oWegFYE_w/view?usp=drivesdk': '../data/pdfs/poster_pdfs/55_pdf.pdf',\n",
       " 'https://drive.google.com/file/d/1yJ2EiWQyIc9kA-kmm30YqsLdn3Lf_mCn/view?usp=drivesdk': '../data/pdfs/poster_pdfs/56_pdf.pdf',\n",
       " 'https://drive.google.com/file/d/1prmyy4H3QmzCm-rJTiUBtl7bP1oX8H2V/view?usp=drivesdk': '../data/pdfs/poster_pdfs/57_pdf.pdf',\n",
       " 'https://drive.google.com/file/d/1MRhqBWSuiBE9VimXrwj26__VRJsYxwXV/view?usp=drivesdk': '../data/pdfs/poster_pdfs/58_pdf.pdf',\n",
       " 'https://drive.google.com/file/d/14TEEnKOWJT1jHdKgAvF_KTrH47dZ3eau/view?usp=drivesdk': '../data/pdfs/poster_pdfs/59_pdf.pdf',\n",
       " 'https://drive.google.com/file/d/1UQg8NNSWwe62T7VlVmEUdwHZ9geA-cqz/view?usp=drivesdk': '../data/pdfs/poster_pdfs/60_pdf.pdf',\n",
       " 'https://drive.google.com/file/d/1fmxXjlZmDWbdOV1L-jkvQLmwGpmatsnc/view?usp=drivesdk': '../data/pdfs/poster_pdfs/61_pdf.pdf',\n",
       " 'https://drive.google.com/file/d/1eNoyy83jYJXLBQGPFG0bf-T8JxqVTqmU/view?usp=drivesdk': '../data/pdfs/poster_pdfs/62_pdf.pdf',\n",
       " 'https://drive.google.com/file/d/1ZbUDECItRBHyN1bDyLNnCDWzydw5fNP3/view?usp=drivesdk': '../data/pdfs/poster_pdfs/63_pdf.pdf',\n",
       " 'https://drive.google.com/file/d/1tiZzFn23mPv2GgIPWLb0iRCVGM1LPSMl/view?usp=drivesdk': '../data/pdfs/poster_pdfs/64_pdf.pdf',\n",
       " 'https://drive.google.com/file/d/1eigxdOn-8DmRpTvWlt0zbq38hhGgg_DZ/view?usp=drivesdk': '../data/pdfs/poster_pdfs/65_pdf.pdf'}"
      ]
     },
     "execution_count": 2,
     "metadata": {},
     "output_type": "execute_result"
    }
   ],
   "source": [
    "pd.read_pickle(\"../../data/poster_pdf_dict.pkl\")"
   ]
  },
  {
   "cell_type": "code",
   "execution_count": null,
   "metadata": {},
   "outputs": [],
   "source": []
  }
 ],
 "metadata": {
  "kernelspec": {
   "display_name": "test2",
   "language": "python",
   "name": "python3"
  },
  "language_info": {
   "codemirror_mode": {
    "name": "ipython",
    "version": 3
   },
   "file_extension": ".py",
   "mimetype": "text/x-python",
   "name": "python",
   "nbconvert_exporter": "python",
   "pygments_lexer": "ipython3",
   "version": "3.11.5"
  }
 },
 "nbformat": 4,
 "nbformat_minor": 2
}
