{
 "cells": [
  {
   "cell_type": "code",
   "execution_count": 2,
   "metadata": {},
   "outputs": [],
   "source": [
    "import pandas as pd\n",
    "import numpy as np\n",
    "from bs4 import BeautifulSoup\n",
    "import requests\n",
    "\n",
    "\n",
    "# for input and output operations\n",
    "import io\n",
    " \n",
    "# For getting information about the pdfs\n",
    "from PyPDF2 import PdfReader\n",
    "\n",
    "import pickle"
   ]
  },
  {
   "cell_type": "code",
   "execution_count": 4,
   "metadata": {},
   "outputs": [
    {
     "data": {
      "text/html": [
       "<div>\n",
       "<style scoped>\n",
       "    .dataframe tbody tr th:only-of-type {\n",
       "        vertical-align: middle;\n",
       "    }\n",
       "\n",
       "    .dataframe tbody tr th {\n",
       "        vertical-align: top;\n",
       "    }\n",
       "\n",
       "    .dataframe thead th {\n",
       "        text-align: right;\n",
       "    }\n",
       "</style>\n",
       "<table border=\"1\" class=\"dataframe\">\n",
       "  <thead>\n",
       "    <tr style=\"text-align: right;\">\n",
       "      <th></th>\n",
       "      <th>github_repo</th>\n",
       "      <th>website</th>\n",
       "      <th>report</th>\n",
       "      <th>poster</th>\n",
       "    </tr>\n",
       "    <tr>\n",
       "      <th>project_id</th>\n",
       "      <th></th>\n",
       "      <th></th>\n",
       "      <th></th>\n",
       "      <th></th>\n",
       "    </tr>\n",
       "  </thead>\n",
       "  <tbody>\n",
       "    <tr>\n",
       "      <th>0</th>\n",
       "      <td>https://github.com/DSC-Capstone/projects-2019-...</td>\n",
       "      <td>https://mkwan13.github.io/180_final_site/</td>\n",
       "      <td>NaN</td>\n",
       "      <td>NaN</td>\n",
       "    </tr>\n",
       "    <tr>\n",
       "      <th>1</th>\n",
       "      <td>https://github.com/DSC-Capstone/projects-2019-...</td>\n",
       "      <td>http://jwlin17.github.io/DSC180B</td>\n",
       "      <td>NaN</td>\n",
       "      <td>NaN</td>\n",
       "    </tr>\n",
       "    <tr>\n",
       "      <th>2</th>\n",
       "      <td>https://github.com/DSC-Capstone/projects-2019-...</td>\n",
       "      <td>https://schoothuang.github.io/DSC180B-Coronavi...</td>\n",
       "      <td>NaN</td>\n",
       "      <td>NaN</td>\n",
       "    </tr>\n",
       "    <tr>\n",
       "      <th>3</th>\n",
       "      <td>https://github.com/DSC-Capstone/projects-2019-...</td>\n",
       "      <td>https://sruthiv98.github.io/RagaClassifier/</td>\n",
       "      <td>NaN</td>\n",
       "      <td>NaN</td>\n",
       "    </tr>\n",
       "    <tr>\n",
       "      <th>4</th>\n",
       "      <td>https://github.com/DSC-Capstone/projects-2019-...</td>\n",
       "      <td>https://codencoding.github.io/Red-Means-Go/</td>\n",
       "      <td>NaN</td>\n",
       "      <td>NaN</td>\n",
       "    </tr>\n",
       "    <tr>\n",
       "      <th>...</th>\n",
       "      <td>...</td>\n",
       "      <td>...</td>\n",
       "      <td>...</td>\n",
       "      <td>...</td>\n",
       "    </tr>\n",
       "    <tr>\n",
       "      <th>206</th>\n",
       "      <td>https://github.com/nahmann/DSC180-B16</td>\n",
       "      <td>https://nahmann.github.io/DSC180-B16/</td>\n",
       "      <td>https://drive.google.com/file/d/1TIRdVPAMzYCFy...</td>\n",
       "      <td>https://drive.google.com/file/d/1fmxXjlZmDWbdO...</td>\n",
       "    </tr>\n",
       "    <tr>\n",
       "      <th>207</th>\n",
       "      <td>https://github.com/acanonig/DSC180B-Proxensus-</td>\n",
       "      <td>https://aryamansinha2704.github.io/Public_Faci...</td>\n",
       "      <td>https://drive.google.com/file/d/1ebad7RuKX5CAM...</td>\n",
       "      <td>https://drive.google.com/file/d/1eNoyy83jYJXLB...</td>\n",
       "    </tr>\n",
       "    <tr>\n",
       "      <th>208</th>\n",
       "      <td>https://github.com/pnagasam/dsc180a_capstone_p...</td>\n",
       "      <td>https://lalaluke413.github.io/</td>\n",
       "      <td>https://drive.google.com/file/d/1Jrr19qlQAOZJN...</td>\n",
       "      <td>https://drive.google.com/file/d/1ZbUDECItRBHyN...</td>\n",
       "    </tr>\n",
       "    <tr>\n",
       "      <th>209</th>\n",
       "      <td>https://github.com/BillChen24/DSC180B-Project-...</td>\n",
       "      <td>https://guanlin-99.github.io/</td>\n",
       "      <td>https://drive.google.com/file/d/1iGsZFQrWNduOy...</td>\n",
       "      <td>https://drive.google.com/file/d/1tiZzFn23mPv2G...</td>\n",
       "    </tr>\n",
       "    <tr>\n",
       "      <th>210</th>\n",
       "      <td>https://github.com/TallMessiWu/dota2-drafting-...</td>\n",
       "      <td>http://116.62.23.28/</td>\n",
       "      <td>https://drive.google.com/file/d/18Fvo1gpB-MmCy...</td>\n",
       "      <td>https://drive.google.com/file/d/1eigxdOn-8DmRp...</td>\n",
       "    </tr>\n",
       "  </tbody>\n",
       "</table>\n",
       "<p>211 rows × 4 columns</p>\n",
       "</div>"
      ],
      "text/plain": [
       "                                                  github_repo  \\\n",
       "project_id                                                      \n",
       "0           https://github.com/DSC-Capstone/projects-2019-...   \n",
       "1           https://github.com/DSC-Capstone/projects-2019-...   \n",
       "2           https://github.com/DSC-Capstone/projects-2019-...   \n",
       "3           https://github.com/DSC-Capstone/projects-2019-...   \n",
       "4           https://github.com/DSC-Capstone/projects-2019-...   \n",
       "...                                                       ...   \n",
       "206                     https://github.com/nahmann/DSC180-B16   \n",
       "207            https://github.com/acanonig/DSC180B-Proxensus-   \n",
       "208         https://github.com/pnagasam/dsc180a_capstone_p...   \n",
       "209         https://github.com/BillChen24/DSC180B-Project-...   \n",
       "210         https://github.com/TallMessiWu/dota2-drafting-...   \n",
       "\n",
       "                                                      website  \\\n",
       "project_id                                                      \n",
       "0                   https://mkwan13.github.io/180_final_site/   \n",
       "1                            http://jwlin17.github.io/DSC180B   \n",
       "2           https://schoothuang.github.io/DSC180B-Coronavi...   \n",
       "3                 https://sruthiv98.github.io/RagaClassifier/   \n",
       "4                 https://codencoding.github.io/Red-Means-Go/   \n",
       "...                                                       ...   \n",
       "206                     https://nahmann.github.io/DSC180-B16/   \n",
       "207         https://aryamansinha2704.github.io/Public_Faci...   \n",
       "208                            https://lalaluke413.github.io/   \n",
       "209                             https://guanlin-99.github.io/   \n",
       "210                                      http://116.62.23.28/   \n",
       "\n",
       "                                                       report  \\\n",
       "project_id                                                      \n",
       "0                                                         NaN   \n",
       "1                                                         NaN   \n",
       "2                                                         NaN   \n",
       "3                                                         NaN   \n",
       "4                                                         NaN   \n",
       "...                                                       ...   \n",
       "206         https://drive.google.com/file/d/1TIRdVPAMzYCFy...   \n",
       "207         https://drive.google.com/file/d/1ebad7RuKX5CAM...   \n",
       "208         https://drive.google.com/file/d/1Jrr19qlQAOZJN...   \n",
       "209         https://drive.google.com/file/d/1iGsZFQrWNduOy...   \n",
       "210         https://drive.google.com/file/d/18Fvo1gpB-MmCy...   \n",
       "\n",
       "                                                       poster  \n",
       "project_id                                                     \n",
       "0                                                         NaN  \n",
       "1                                                         NaN  \n",
       "2                                                         NaN  \n",
       "3                                                         NaN  \n",
       "4                                                         NaN  \n",
       "...                                                       ...  \n",
       "206         https://drive.google.com/file/d/1fmxXjlZmDWbdO...  \n",
       "207         https://drive.google.com/file/d/1eNoyy83jYJXLB...  \n",
       "208         https://drive.google.com/file/d/1ZbUDECItRBHyN...  \n",
       "209         https://drive.google.com/file/d/1tiZzFn23mPv2G...  \n",
       "210         https://drive.google.com/file/d/1eigxdOn-8DmRp...  \n",
       "\n",
       "[211 rows x 4 columns]"
      ]
     },
     "execution_count": 4,
     "metadata": {},
     "output_type": "execute_result"
    }
   ],
   "source": []
  },
  {
   "cell_type": "code",
   "execution_count": 24,
   "metadata": {},
   "outputs": [],
   "source": [
    "comb_projectsDF = pd.read_csv(\"../data/comb_projectsDF.csv\", index_col=0)"
   ]
  },
  {
   "cell_type": "code",
   "execution_count": 25,
   "metadata": {},
   "outputs": [
    {
     "data": {
      "text/html": [
       "<div>\n",
       "<style scoped>\n",
       "    .dataframe tbody tr th:only-of-type {\n",
       "        vertical-align: middle;\n",
       "    }\n",
       "\n",
       "    .dataframe tbody tr th {\n",
       "        vertical-align: top;\n",
       "    }\n",
       "\n",
       "    .dataframe thead th {\n",
       "        text-align: right;\n",
       "    }\n",
       "</style>\n",
       "<table border=\"1\" class=\"dataframe\">\n",
       "  <thead>\n",
       "    <tr style=\"text-align: right;\">\n",
       "      <th></th>\n",
       "      <th>Domain</th>\n",
       "      <th>Project</th>\n",
       "      <th>Mentors</th>\n",
       "      <th>Members</th>\n",
       "      <th>Report</th>\n",
       "      <th>CodeRepo</th>\n",
       "      <th>Website</th>\n",
       "      <th>Posters</th>\n",
       "      <th>Year</th>\n",
       "    </tr>\n",
       "  </thead>\n",
       "  <tbody>\n",
       "    <tr>\n",
       "      <th>0</th>\n",
       "      <td>Wikipedia &amp; Social Analysis</td>\n",
       "      <td>Racial Bias in Film Awards Shows: Oscars &amp; Gol...</td>\n",
       "      <td>Molly Roberts</td>\n",
       "      <td>['Rebecca Hu', 'Emily Kwan', 'Poonam Varkhedi']</td>\n",
       "      <td>NaN</td>\n",
       "      <td>https://github.com/DSC-Capstone/projects-2019-...</td>\n",
       "      <td>https://mkwan13.github.io/180_final_site/</td>\n",
       "      <td>NaN</td>\n",
       "      <td>2020</td>\n",
       "    </tr>\n",
       "    <tr>\n",
       "      <th>1</th>\n",
       "      <td>Wikipedia &amp; Social Analysis</td>\n",
       "      <td>User Engagement in Wikipedia</td>\n",
       "      <td>Molly Roberts</td>\n",
       "      <td>['Kenny Zhu', 'Jonathan Lin', 'Salma Shaikh']</td>\n",
       "      <td>NaN</td>\n",
       "      <td>https://github.com/DSC-Capstone/projects-2019-...</td>\n",
       "      <td>http://jwlin17.github.io/DSC180B</td>\n",
       "      <td>NaN</td>\n",
       "      <td>2020</td>\n",
       "    </tr>\n",
       "    <tr>\n",
       "      <th>2</th>\n",
       "      <td>Wikipedia &amp; Social Analysis</td>\n",
       "      <td>Investigating the Trustworthiness of Wikipedia...</td>\n",
       "      <td>Molly Roberts</td>\n",
       "      <td>['Leena Elamrawy', 'Shanjiaoyang Huang', 'Calv...</td>\n",
       "      <td>NaN</td>\n",
       "      <td>https://github.com/DSC-Capstone/projects-2019-...</td>\n",
       "      <td>https://schoothuang.github.io/DSC180B-Coronavi...</td>\n",
       "      <td>NaN</td>\n",
       "      <td>2020</td>\n",
       "    </tr>\n",
       "    <tr>\n",
       "      <th>3</th>\n",
       "      <td>Quantifying Artistic Style</td>\n",
       "      <td>Name That Raga: An Analysis and Classification...</td>\n",
       "      <td>Robert Twomey</td>\n",
       "      <td>['Sruthi Vedantham', 'Saveree Joshipura']</td>\n",
       "      <td>NaN</td>\n",
       "      <td>https://github.com/DSC-Capstone/projects-2019-...</td>\n",
       "      <td>https://sruthiv98.github.io/RagaClassifier/</td>\n",
       "      <td>NaN</td>\n",
       "      <td>2020</td>\n",
       "    </tr>\n",
       "    <tr>\n",
       "      <th>4</th>\n",
       "      <td>Quantifying Artistic Style</td>\n",
       "      <td>Red Means Go: Analyzing YouTube Thumbnail Tren...</td>\n",
       "      <td>Robert Twomey</td>\n",
       "      <td>['Saieashwar Mukund', 'Chase Oden', 'Matthew W...</td>\n",
       "      <td>NaN</td>\n",
       "      <td>https://github.com/DSC-Capstone/projects-2019-...</td>\n",
       "      <td>https://codencoding.github.io/Red-Means-Go/</td>\n",
       "      <td>NaN</td>\n",
       "      <td>2020</td>\n",
       "    </tr>\n",
       "    <tr>\n",
       "      <th>...</th>\n",
       "      <td>...</td>\n",
       "      <td>...</td>\n",
       "      <td>...</td>\n",
       "      <td>...</td>\n",
       "      <td>...</td>\n",
       "      <td>...</td>\n",
       "      <td>...</td>\n",
       "      <td>...</td>\n",
       "      <td>...</td>\n",
       "    </tr>\n",
       "    <tr>\n",
       "      <th>207</th>\n",
       "      <td>Other Applications</td>\n",
       "      <td>Decentralized Location Consensus Through Proxi...</td>\n",
       "      <td>{'UCSD': ['Haojian Jin']}</td>\n",
       "      <td>['Alex Guan', 'Mason Chan', 'Alan Miyazaki', '...</td>\n",
       "      <td>https://drive.google.com/file/d/1TIRdVPAMzYCFy...</td>\n",
       "      <td>https://github.com/nahmann/DSC180-B16</td>\n",
       "      <td>https://nahmann.github.io/DSC180-B16/</td>\n",
       "      <td>https://drive.google.com/file/d/1fmxXjlZmDWbdO...</td>\n",
       "      <td>2023</td>\n",
       "    </tr>\n",
       "    <tr>\n",
       "      <th>208</th>\n",
       "      <td>Other Applications</td>\n",
       "      <td>Decentralized Location Consensus Through Proxi...</td>\n",
       "      <td>{'UCSD': ['Haojian Jin']}</td>\n",
       "      <td>['Andrew Canonigo', 'Frans Timothy Juacalla', ...</td>\n",
       "      <td>https://drive.google.com/file/d/1ebad7RuKX5CAM...</td>\n",
       "      <td>https://github.com/acanonig/DSC180B-Proxensus-</td>\n",
       "      <td>https://aryamansinha2704.github.io/Public_Faci...</td>\n",
       "      <td>https://drive.google.com/file/d/1eNoyy83jYJXLB...</td>\n",
       "      <td>2023</td>\n",
       "    </tr>\n",
       "    <tr>\n",
       "      <th>209</th>\n",
       "      <td>Other Applications</td>\n",
       "      <td>Unsupervised Domain Adaptation on Satellite Im...</td>\n",
       "      <td>{'UCSD': ['Alex Cloninger', 'Yoav Freund']}</td>\n",
       "      <td>['Luke Lloyd', 'Priyanka Nagasamudra']</td>\n",
       "      <td>https://drive.google.com/file/d/1Jrr19qlQAOZJN...</td>\n",
       "      <td>https://github.com/pnagasam/dsc180a_capstone_p...</td>\n",
       "      <td>https://lalaluke413.github.io/</td>\n",
       "      <td>https://drive.google.com/file/d/1ZbUDECItRBHyN...</td>\n",
       "      <td>2023</td>\n",
       "    </tr>\n",
       "    <tr>\n",
       "      <th>210</th>\n",
       "      <td>Other Applications</td>\n",
       "      <td>Build CNN model for animal recognition</td>\n",
       "      <td>{'UCSD': ['Alex Cloninger', 'Yoav Freund']}</td>\n",
       "      <td>['Xuzhe Zhi', 'Guanlin Qian', 'Zhipeng Chen']</td>\n",
       "      <td>https://drive.google.com/file/d/1iGsZFQrWNduOy...</td>\n",
       "      <td>https://github.com/BillChen24/DSC180B-Project-...</td>\n",
       "      <td>https://guanlin-99.github.io/</td>\n",
       "      <td>https://drive.google.com/file/d/1tiZzFn23mPv2G...</td>\n",
       "      <td>2023</td>\n",
       "    </tr>\n",
       "    <tr>\n",
       "      <th>211</th>\n",
       "      <td>Other Applications</td>\n",
       "      <td>DOTA2 Match Winning Rate Prediction</td>\n",
       "      <td>{'UCSD': ['Alex Cloninger', 'Yoav Freund']}</td>\n",
       "      <td>['Junlin Wu', 'Niehao Chen', 'Irene Jiang']</td>\n",
       "      <td>https://drive.google.com/file/d/18Fvo1gpB-MmCy...</td>\n",
       "      <td>https://github.com/TallMessiWu/dota2-drafting-...</td>\n",
       "      <td>http://116.62.23.28/</td>\n",
       "      <td>https://drive.google.com/file/d/1eigxdOn-8DmRp...</td>\n",
       "      <td>2023</td>\n",
       "    </tr>\n",
       "  </tbody>\n",
       "</table>\n",
       "<p>212 rows × 9 columns</p>\n",
       "</div>"
      ],
      "text/plain": [
       "                          Domain  \\\n",
       "0    Wikipedia & Social Analysis   \n",
       "1    Wikipedia & Social Analysis   \n",
       "2    Wikipedia & Social Analysis   \n",
       "3     Quantifying Artistic Style   \n",
       "4     Quantifying Artistic Style   \n",
       "..                           ...   \n",
       "207           Other Applications   \n",
       "208           Other Applications   \n",
       "209           Other Applications   \n",
       "210           Other Applications   \n",
       "211           Other Applications   \n",
       "\n",
       "                                               Project  \\\n",
       "0    Racial Bias in Film Awards Shows: Oscars & Gol...   \n",
       "1                        User Engagement in Wikipedia    \n",
       "2    Investigating the Trustworthiness of Wikipedia...   \n",
       "3    Name That Raga: An Analysis and Classification...   \n",
       "4    Red Means Go: Analyzing YouTube Thumbnail Tren...   \n",
       "..                                                 ...   \n",
       "207  Decentralized Location Consensus Through Proxi...   \n",
       "208  Decentralized Location Consensus Through Proxi...   \n",
       "209  Unsupervised Domain Adaptation on Satellite Im...   \n",
       "210             Build CNN model for animal recognition   \n",
       "211                DOTA2 Match Winning Rate Prediction   \n",
       "\n",
       "                                         Mentors  \\\n",
       "0                                  Molly Roberts   \n",
       "1                                  Molly Roberts   \n",
       "2                                  Molly Roberts   \n",
       "3                                  Robert Twomey   \n",
       "4                                  Robert Twomey   \n",
       "..                                           ...   \n",
       "207                    {'UCSD': ['Haojian Jin']}   \n",
       "208                    {'UCSD': ['Haojian Jin']}   \n",
       "209  {'UCSD': ['Alex Cloninger', 'Yoav Freund']}   \n",
       "210  {'UCSD': ['Alex Cloninger', 'Yoav Freund']}   \n",
       "211  {'UCSD': ['Alex Cloninger', 'Yoav Freund']}   \n",
       "\n",
       "                                               Members  \\\n",
       "0      ['Rebecca Hu', 'Emily Kwan', 'Poonam Varkhedi']   \n",
       "1        ['Kenny Zhu', 'Jonathan Lin', 'Salma Shaikh']   \n",
       "2    ['Leena Elamrawy', 'Shanjiaoyang Huang', 'Calv...   \n",
       "3            ['Sruthi Vedantham', 'Saveree Joshipura']   \n",
       "4    ['Saieashwar Mukund', 'Chase Oden', 'Matthew W...   \n",
       "..                                                 ...   \n",
       "207  ['Alex Guan', 'Mason Chan', 'Alan Miyazaki', '...   \n",
       "208  ['Andrew Canonigo', 'Frans Timothy Juacalla', ...   \n",
       "209             ['Luke Lloyd', 'Priyanka Nagasamudra']   \n",
       "210      ['Xuzhe Zhi', 'Guanlin Qian', 'Zhipeng Chen']   \n",
       "211        ['Junlin Wu', 'Niehao Chen', 'Irene Jiang']   \n",
       "\n",
       "                                                Report  \\\n",
       "0                                                  NaN   \n",
       "1                                                  NaN   \n",
       "2                                                  NaN   \n",
       "3                                                  NaN   \n",
       "4                                                  NaN   \n",
       "..                                                 ...   \n",
       "207  https://drive.google.com/file/d/1TIRdVPAMzYCFy...   \n",
       "208  https://drive.google.com/file/d/1ebad7RuKX5CAM...   \n",
       "209  https://drive.google.com/file/d/1Jrr19qlQAOZJN...   \n",
       "210  https://drive.google.com/file/d/1iGsZFQrWNduOy...   \n",
       "211  https://drive.google.com/file/d/18Fvo1gpB-MmCy...   \n",
       "\n",
       "                                              CodeRepo  \\\n",
       "0    https://github.com/DSC-Capstone/projects-2019-...   \n",
       "1    https://github.com/DSC-Capstone/projects-2019-...   \n",
       "2    https://github.com/DSC-Capstone/projects-2019-...   \n",
       "3    https://github.com/DSC-Capstone/projects-2019-...   \n",
       "4    https://github.com/DSC-Capstone/projects-2019-...   \n",
       "..                                                 ...   \n",
       "207              https://github.com/nahmann/DSC180-B16   \n",
       "208     https://github.com/acanonig/DSC180B-Proxensus-   \n",
       "209  https://github.com/pnagasam/dsc180a_capstone_p...   \n",
       "210  https://github.com/BillChen24/DSC180B-Project-...   \n",
       "211  https://github.com/TallMessiWu/dota2-drafting-...   \n",
       "\n",
       "                                               Website  \\\n",
       "0            https://mkwan13.github.io/180_final_site/   \n",
       "1                     http://jwlin17.github.io/DSC180B   \n",
       "2    https://schoothuang.github.io/DSC180B-Coronavi...   \n",
       "3          https://sruthiv98.github.io/RagaClassifier/   \n",
       "4          https://codencoding.github.io/Red-Means-Go/   \n",
       "..                                                 ...   \n",
       "207              https://nahmann.github.io/DSC180-B16/   \n",
       "208  https://aryamansinha2704.github.io/Public_Faci...   \n",
       "209                     https://lalaluke413.github.io/   \n",
       "210                      https://guanlin-99.github.io/   \n",
       "211                               http://116.62.23.28/   \n",
       "\n",
       "                                               Posters  Year  \n",
       "0                                                  NaN  2020  \n",
       "1                                                  NaN  2020  \n",
       "2                                                  NaN  2020  \n",
       "3                                                  NaN  2020  \n",
       "4                                                  NaN  2020  \n",
       "..                                                 ...   ...  \n",
       "207  https://drive.google.com/file/d/1fmxXjlZmDWbdO...  2023  \n",
       "208  https://drive.google.com/file/d/1eNoyy83jYJXLB...  2023  \n",
       "209  https://drive.google.com/file/d/1ZbUDECItRBHyN...  2023  \n",
       "210  https://drive.google.com/file/d/1tiZzFn23mPv2G...  2023  \n",
       "211  https://drive.google.com/file/d/1eigxdOn-8DmRp...  2023  \n",
       "\n",
       "[212 rows x 9 columns]"
      ]
     },
     "execution_count": 25,
     "metadata": {},
     "output_type": "execute_result"
    }
   ],
   "source": [
    "comb_projectsDF"
   ]
  },
  {
   "cell_type": "markdown",
   "metadata": {},
   "source": [
    "# Downloading Reports"
   ]
  },
  {
   "cell_type": "code",
   "execution_count": 5,
   "metadata": {},
   "outputs": [
    {
     "data": {
      "text/html": [
       "<div>\n",
       "<style scoped>\n",
       "    .dataframe tbody tr th:only-of-type {\n",
       "        vertical-align: middle;\n",
       "    }\n",
       "\n",
       "    .dataframe tbody tr th {\n",
       "        vertical-align: top;\n",
       "    }\n",
       "\n",
       "    .dataframe thead th {\n",
       "        text-align: right;\n",
       "    }\n",
       "</style>\n",
       "<table border=\"1\" class=\"dataframe\">\n",
       "  <thead>\n",
       "    <tr style=\"text-align: right;\">\n",
       "      <th></th>\n",
       "      <th>github_repo</th>\n",
       "      <th>website</th>\n",
       "      <th>report</th>\n",
       "      <th>poster</th>\n",
       "    </tr>\n",
       "    <tr>\n",
       "      <th>project_id</th>\n",
       "      <th></th>\n",
       "      <th></th>\n",
       "      <th></th>\n",
       "      <th></th>\n",
       "    </tr>\n",
       "  </thead>\n",
       "  <tbody>\n",
       "    <tr>\n",
       "      <th>0</th>\n",
       "      <td>https://github.com/DSC-Capstone/projects-2019-...</td>\n",
       "      <td>https://mkwan13.github.io/180_final_site/</td>\n",
       "      <td>NaN</td>\n",
       "      <td>NaN</td>\n",
       "    </tr>\n",
       "    <tr>\n",
       "      <th>1</th>\n",
       "      <td>https://github.com/DSC-Capstone/projects-2019-...</td>\n",
       "      <td>http://jwlin17.github.io/DSC180B</td>\n",
       "      <td>NaN</td>\n",
       "      <td>NaN</td>\n",
       "    </tr>\n",
       "    <tr>\n",
       "      <th>2</th>\n",
       "      <td>https://github.com/DSC-Capstone/projects-2019-...</td>\n",
       "      <td>https://schoothuang.github.io/DSC180B-Coronavi...</td>\n",
       "      <td>NaN</td>\n",
       "      <td>NaN</td>\n",
       "    </tr>\n",
       "    <tr>\n",
       "      <th>3</th>\n",
       "      <td>https://github.com/DSC-Capstone/projects-2019-...</td>\n",
       "      <td>https://sruthiv98.github.io/RagaClassifier/</td>\n",
       "      <td>NaN</td>\n",
       "      <td>NaN</td>\n",
       "    </tr>\n",
       "    <tr>\n",
       "      <th>4</th>\n",
       "      <td>https://github.com/DSC-Capstone/projects-2019-...</td>\n",
       "      <td>https://codencoding.github.io/Red-Means-Go/</td>\n",
       "      <td>NaN</td>\n",
       "      <td>NaN</td>\n",
       "    </tr>\n",
       "    <tr>\n",
       "      <th>...</th>\n",
       "      <td>...</td>\n",
       "      <td>...</td>\n",
       "      <td>...</td>\n",
       "      <td>...</td>\n",
       "    </tr>\n",
       "    <tr>\n",
       "      <th>206</th>\n",
       "      <td>https://github.com/nahmann/DSC180-B16</td>\n",
       "      <td>https://nahmann.github.io/DSC180-B16/</td>\n",
       "      <td>https://drive.google.com/file/d/1TIRdVPAMzYCFy...</td>\n",
       "      <td>https://drive.google.com/file/d/1fmxXjlZmDWbdO...</td>\n",
       "    </tr>\n",
       "    <tr>\n",
       "      <th>207</th>\n",
       "      <td>https://github.com/acanonig/DSC180B-Proxensus-</td>\n",
       "      <td>https://aryamansinha2704.github.io/Public_Faci...</td>\n",
       "      <td>https://drive.google.com/file/d/1ebad7RuKX5CAM...</td>\n",
       "      <td>https://drive.google.com/file/d/1eNoyy83jYJXLB...</td>\n",
       "    </tr>\n",
       "    <tr>\n",
       "      <th>208</th>\n",
       "      <td>https://github.com/pnagasam/dsc180a_capstone_p...</td>\n",
       "      <td>https://lalaluke413.github.io/</td>\n",
       "      <td>https://drive.google.com/file/d/1Jrr19qlQAOZJN...</td>\n",
       "      <td>https://drive.google.com/file/d/1ZbUDECItRBHyN...</td>\n",
       "    </tr>\n",
       "    <tr>\n",
       "      <th>209</th>\n",
       "      <td>https://github.com/BillChen24/DSC180B-Project-...</td>\n",
       "      <td>https://guanlin-99.github.io/</td>\n",
       "      <td>https://drive.google.com/file/d/1iGsZFQrWNduOy...</td>\n",
       "      <td>https://drive.google.com/file/d/1tiZzFn23mPv2G...</td>\n",
       "    </tr>\n",
       "    <tr>\n",
       "      <th>210</th>\n",
       "      <td>https://github.com/TallMessiWu/dota2-drafting-...</td>\n",
       "      <td>http://116.62.23.28/</td>\n",
       "      <td>https://drive.google.com/file/d/18Fvo1gpB-MmCy...</td>\n",
       "      <td>https://drive.google.com/file/d/1eigxdOn-8DmRp...</td>\n",
       "    </tr>\n",
       "  </tbody>\n",
       "</table>\n",
       "<p>211 rows × 4 columns</p>\n",
       "</div>"
      ],
      "text/plain": [
       "                                                  github_repo  \\\n",
       "project_id                                                      \n",
       "0           https://github.com/DSC-Capstone/projects-2019-...   \n",
       "1           https://github.com/DSC-Capstone/projects-2019-...   \n",
       "2           https://github.com/DSC-Capstone/projects-2019-...   \n",
       "3           https://github.com/DSC-Capstone/projects-2019-...   \n",
       "4           https://github.com/DSC-Capstone/projects-2019-...   \n",
       "...                                                       ...   \n",
       "206                     https://github.com/nahmann/DSC180-B16   \n",
       "207            https://github.com/acanonig/DSC180B-Proxensus-   \n",
       "208         https://github.com/pnagasam/dsc180a_capstone_p...   \n",
       "209         https://github.com/BillChen24/DSC180B-Project-...   \n",
       "210         https://github.com/TallMessiWu/dota2-drafting-...   \n",
       "\n",
       "                                                      website  \\\n",
       "project_id                                                      \n",
       "0                   https://mkwan13.github.io/180_final_site/   \n",
       "1                            http://jwlin17.github.io/DSC180B   \n",
       "2           https://schoothuang.github.io/DSC180B-Coronavi...   \n",
       "3                 https://sruthiv98.github.io/RagaClassifier/   \n",
       "4                 https://codencoding.github.io/Red-Means-Go/   \n",
       "...                                                       ...   \n",
       "206                     https://nahmann.github.io/DSC180-B16/   \n",
       "207         https://aryamansinha2704.github.io/Public_Faci...   \n",
       "208                            https://lalaluke413.github.io/   \n",
       "209                             https://guanlin-99.github.io/   \n",
       "210                                      http://116.62.23.28/   \n",
       "\n",
       "                                                       report  \\\n",
       "project_id                                                      \n",
       "0                                                         NaN   \n",
       "1                                                         NaN   \n",
       "2                                                         NaN   \n",
       "3                                                         NaN   \n",
       "4                                                         NaN   \n",
       "...                                                       ...   \n",
       "206         https://drive.google.com/file/d/1TIRdVPAMzYCFy...   \n",
       "207         https://drive.google.com/file/d/1ebad7RuKX5CAM...   \n",
       "208         https://drive.google.com/file/d/1Jrr19qlQAOZJN...   \n",
       "209         https://drive.google.com/file/d/1iGsZFQrWNduOy...   \n",
       "210         https://drive.google.com/file/d/18Fvo1gpB-MmCy...   \n",
       "\n",
       "                                                       poster  \n",
       "project_id                                                     \n",
       "0                                                         NaN  \n",
       "1                                                         NaN  \n",
       "2                                                         NaN  \n",
       "3                                                         NaN  \n",
       "4                                                         NaN  \n",
       "...                                                       ...  \n",
       "206         https://drive.google.com/file/d/1fmxXjlZmDWbdO...  \n",
       "207         https://drive.google.com/file/d/1eNoyy83jYJXLB...  \n",
       "208         https://drive.google.com/file/d/1ZbUDECItRBHyN...  \n",
       "209         https://drive.google.com/file/d/1tiZzFn23mPv2G...  \n",
       "210         https://drive.google.com/file/d/1eigxdOn-8DmRp...  \n",
       "\n",
       "[211 rows x 4 columns]"
      ]
     },
     "execution_count": 5,
     "metadata": {},
     "output_type": "execute_result"
    }
   ],
   "source": [
    "pd.read_csv(\"../data/deliverables.csv\", index_col= 0)"
   ]
  },
  {
   "cell_type": "code",
   "execution_count": 13,
   "metadata": {},
   "outputs": [
    {
     "data": {
      "text/plain": [
       "['https://dsc-capstone.org/projects-2020-2021/reports/project_53.pdf',\n",
       " 'https://dsc-capstone.org/projects-2020-2021/reports/project_52.pdf',\n",
       " 'https://dsc-capstone.org/projects-2020-2021/reports/project_51.pdf',\n",
       " 'https://dsc-capstone.org/projects-2020-2021/reports/project_50.pdf',\n",
       " 'https://dsc-capstone.org/projects-2020-2021/reports/project_49.pdf',\n",
       " 'https://dsc-capstone.org/projects-2020-2021/reports/project_54.pdf',\n",
       " 'https://dsc-capstone.org/projects-2020-2021/reports/project_16.pdf',\n",
       " 'https://dsc-capstone.org/projects-2020-2021/reports/project_15.pdf',\n",
       " 'https://dsc-capstone.org/projects-2020-2021/reports/project_14.pdf',\n",
       " 'https://dsc-capstone.org/projects-2020-2021/reports/project_13.pdf',\n",
       " 'https://dsc-capstone.org/projects-2020-2021/reports/project_12.pdf',\n",
       " 'https://dsc-capstone.org/projects-2020-2021/reports/project_11.pdf',\n",
       " 'https://dsc-capstone.org/projects-2020-2021/reports/project_55.pdf',\n",
       " 'https://dsc-capstone.org/projects-2020-2021/reports/project_58.pdf',\n",
       " 'https://dsc-capstone.org/projects-2020-2021/reports/project_57.pdf',\n",
       " 'https://dsc-capstone.org/projects-2020-2021/reports/project_56.pdf',\n",
       " 'https://dsc-capstone.org/projects-2020-2021/reports/project_59.pdf',\n",
       " 'https://dsc-capstone.org/projects-2020-2021/reports/project_38.pdf',\n",
       " 'https://dsc-capstone.org/projects-2020-2021/reports/project_42.pdf',\n",
       " 'https://dsc-capstone.org/projects-2020-2021/reports/project_41.pdf',\n",
       " 'https://dsc-capstone.org/projects-2020-2021/reports/project_40.pdf',\n",
       " 'https://dsc-capstone.org/projects-2020-2021/reports/project_39.pdf',\n",
       " 'https://dsc-capstone.org/projects-2020-2021/reports/project_37.pdf',\n",
       " 'https://dsc-capstone.org/projects-2020-2021/reports/project_48.pdf',\n",
       " 'https://dsc-capstone.org/projects-2020-2021/reports/project_47.pdf',\n",
       " 'https://dsc-capstone.org/projects-2020-2021/reports/project_46.pdf',\n",
       " 'https://dsc-capstone.org/projects-2020-2021/reports/project_45.pdf',\n",
       " 'https://dsc-capstone.org/projects-2020-2021/reports/project_43.pdf',\n",
       " 'https://dsc-capstone.org/projects-2020-2021/reports/project_44.pdf',\n",
       " 'https://dsc-capstone.org/projects-2020-2021/reports/project_71.pdf',\n",
       " 'https://dsc-capstone.org/projects-2020-2021/reports/project_63.pdf',\n",
       " 'https://dsc-capstone.org/projects-2020-2021/reports/project_77.pdf',\n",
       " 'https://dsc-capstone.org/projects-2020-2021/reports/project_29.pdf',\n",
       " 'https://dsc-capstone.org/projects-2020-2021/reports/project_22.pdf',\n",
       " 'https://dsc-capstone.org/projects-2020-2021/reports/project_20.pdf',\n",
       " 'https://dsc-capstone.org/projects-2020-2021/reports/project_19.pdf',\n",
       " 'https://dsc-capstone.org/projects-2020-2021/reports/project_18.pdf',\n",
       " 'https://dsc-capstone.org/projects-2020-2021/reports/project_21.pdf',\n",
       " 'https://dsc-capstone.org/projects-2020-2021/reports/project_76.pdf',\n",
       " 'https://dsc-capstone.org/projects-2020-2021/reports/project_0.pdf',\n",
       " 'https://dsc-capstone.org/projects-2020-2021/reports/project_1.pdf',\n",
       " 'https://dsc-capstone.org/projects-2020-2021/reports/project_2.pdf',\n",
       " 'https://dsc-capstone.org/projects-2020-2021/reports/project_3.pdf',\n",
       " 'https://dsc-capstone.org/projects-2020-2021/reports/project_4.pdf',\n",
       " 'https://dsc-capstone.org/projects-2020-2021/reports/project_5.pdf',\n",
       " 'https://dsc-capstone.org/projects-2020-2021/reports/project_6.pdf',\n",
       " 'https://dsc-capstone.org/projects-2020-2021/reports/project_25.pdf',\n",
       " 'https://dsc-capstone.org/projects-2020-2021/reports/project_26.pdf',\n",
       " 'https://dsc-capstone.org/projects-2020-2021/reports/project_27.pdf',\n",
       " 'https://dsc-capstone.org/projects-2020-2021/reports/project_23.pdf',\n",
       " 'https://dsc-capstone.org/projects-2020-2021/reports/project_24.pdf',\n",
       " 'https://dsc-capstone.org/projects-2020-2021/reports/project_70.pdf',\n",
       " 'https://dsc-capstone.org/projects-2020-2021/reports/project_68.pdf',\n",
       " 'https://dsc-capstone.org/projects-2020-2021/reports/project_67.pdf',\n",
       " 'https://dsc-capstone.org/projects-2020-2021/reports/project_66.pdf',\n",
       " 'https://dsc-capstone.org/projects-2020-2021/reports/project_69.pdf',\n",
       " 'https://dsc-capstone.org/projects-2020-2021/reports/project_9.pdf',\n",
       " 'https://dsc-capstone.org/projects-2020-2021/reports/project_8.pdf',\n",
       " 'https://dsc-capstone.org/projects-2020-2021/reports/project_7.pdf',\n",
       " 'https://dsc-capstone.org/projects-2020-2021/reports/project_10.pdf',\n",
       " 'https://dsc-capstone.org/projects-2020-2021/reports/project_65.pdf',\n",
       " 'https://dsc-capstone.org/projects-2020-2021/reports/project_64.pdf',\n",
       " 'https://dsc-capstone.org/projects-2020-2021/reports/project_72.pdf',\n",
       " 'https://dsc-capstone.org/projects-2020-2021/reports/project_60.pdf',\n",
       " 'https://dsc-capstone.org/projects-2020-2021/reports/project_61.pdf',\n",
       " 'https://dsc-capstone.org/projects-2020-2021/reports/project_34.pdf',\n",
       " 'https://dsc-capstone.org/projects-2020-2021/reports/project_33.pdf',\n",
       " 'https://dsc-capstone.org/projects-2020-2021/reports/project_35.pdf',\n",
       " 'https://dsc-capstone.org/projects-2020-2021/reports/project_36.pdf',\n",
       " 'https://dsc-capstone.org/projects-2020-2021/reports/project_32.pdf',\n",
       " 'https://dsc-capstone.org/projects-2020-2021/reports/project_31.pdf',\n",
       " 'https://dsc-capstone.org/projects-2020-2021/reports/project_78.pdf',\n",
       " 'https://raw.githubusercontent.com/leonkuoDSC/artifact-directory-template/main/report.pdf',\n",
       " 'https://raw.githubusercontent.com/mingjiazhu/artifact-directory-template/main/report.pdf',\n",
       " 'https://raw.githubusercontent.com/jamesjaeyu/artifact-directory-template/main/report.pdf',\n",
       " 'https://raw.githubusercontent.com/YongqingLi14/artifact-directory-template/main/report.pdf',\n",
       " 'https://raw.githubusercontent.com/jonathantanoto/artifact-directory-template/main/report.pdf',\n",
       " 'https://raw.githubusercontent.com/mcelz/artifact-directory-template/main/report.pdf',\n",
       " 'https://raw.githubusercontent.com/DSC180A-A04/artifact-directory-template/main/report.pdf',\n",
       " 'https://raw.githubusercontent.com/alicegunawan/dsc180-artifact-directory/main/report.pdf',\n",
       " 'https://raw.githubusercontent.com/yol146/artifact-directory-template/main/report.pdf',\n",
       " 'https://raw.githubusercontent.com/a1limon/artifact-directory-template/main/report.pdf',\n",
       " 'https://raw.githubusercontent.com/889884m/artifact-directory/main/report.pdf',\n",
       " 'https://raw.githubusercontent.com/sunqiaochen/artifact-directory-template/main/report.pdf',\n",
       " 'https://raw.githubusercontent.com/EdmundoZamora/artifact-directory-template/main/report.pdf',\n",
       " 'https://raw.githubusercontent.com/dylannelson/artifact-directory-template/main/report.pdf',\n",
       " 'https://raw.githubusercontent.com/WesCodes/artifact-directory-template/main/report.pdf',\n",
       " 'https://raw.githubusercontent.com/RuojiaTao/artifact-directory-template/main/report.pdf',\n",
       " 'https://raw.githubusercontent.com/helorise/artifact-directory-template/main/report.pdf',\n",
       " 'https://raw.githubusercontent.com/anaaamika/artifact-directory-template/main/report.pdf',\n",
       " 'https://raw.githubusercontent.com/Bryan-Az/artifact-directory-template/main/report.pdf',\n",
       " 'https://raw.githubusercontent.com/isacmlee/artifact-directory-template/main/report.pdf',\n",
       " 'https://raw.githubusercontent.com/shonepatil/artifact-directory-template/main/report.pdf',\n",
       " 'https://raw.githubusercontent.com/yangshengaa/artifact-directory-template/main/report.pdf',\n",
       " 'https://raw.githubusercontent.com/xd00099/HDSI-faculty-tool-artifact-directory/main/report.pdf',\n",
       " 'https://raw.githubusercontent.com/xd00099/HDSI-faculty-tool-artifact-directory/main/report.pdf',\n",
       " 'https://raw.githubusercontent.com/amuamushu/artifact-directory-template/main/report.pdf',\n",
       " 'https://raw.githubusercontent.com/rakeshsenthil/artifact-directory-template/main/report.pdf',\n",
       " 'https://raw.githubusercontent.com/Actionable-Recourse/artifact-directory/main/report.pdf',\n",
       " 'https://raw.githubusercontent.com/micmiccitymax/artifact-directory-template/main/report.pdf',\n",
       " 'https://raw.githubusercontent.com/aavelasq/artifact-directory-template/main/report.pdf',\n",
       " 'https://raw.githubusercontent.com/brianvi-98/artifact-directory-template/main/report.pdf',\n",
       " 'https://raw.githubusercontent.com/rachelluoyt/artifact-directory-template/main/report.pdf',\n",
       " 'https://raw.githubusercontent.com/Sapphirerain/artifact-directory-template/main/report.pdf',\n",
       " 'https://raw.githubusercontent.com/yujiezhang0914/artifact-directory-template/main/report.pdf',\n",
       " 'https://raw.githubusercontent.com/TanveerMittal/artifact-directory-template/main/report.pdf',\n",
       " 'https://raw.githubusercontent.com/rdunnUCSD/capstone-artifact-directory/main/report.pdf',\n",
       " 'https://raw.githubusercontent.com/edinhluo/artifact-directory-template/main/report.pdf',\n",
       " 'https://raw.githubusercontent.com/pnair7/artifact-directory-template/main/report.pdf',\n",
       " 'https://raw.githubusercontent.com/emily-ramond/artifact-directory-template/main/report.pdf',\n",
       " 'https://raw.githubusercontent.com/alxjareyliu/artifact-directory-template/main/report.pdf',\n",
       " 'https://raw.githubusercontent.com/shaheendane/artifact-directory-template/main/report.pdf',\n",
       " 'https://raw.githubusercontent.com/Jsingh-23/artifact-directory-template/main/report.pdf',\n",
       " 'https://raw.githubusercontent.com/jenna-my/artifact-directory-template/main/report.pdf',\n",
       " 'https://raw.githubusercontent.com/tatummaston/artifact-directory-template/main/report.pdf',\n",
       " 'https://raw.githubusercontent.com/arjunsawhney1/artifact-directory-template/main/report.pdf',\n",
       " 'https://raw.githubusercontent.com/andydo1998/artifact-directory-template/main/report.pdf',\n",
       " 'https://raw.githubusercontent.com/cgorlla/intel-capstone-submission/main/report.pdf',\n",
       " 'https://drive.google.com/file/d/1UrN4tA0_7iL1MNYRo18lMy3BSNwW27WI/view?usp=drivesdk.pdf',\n",
       " 'https://drive.google.com/file/d/190sUeABNC-E0qooRXufQDKANdHkc-RxM/view?usp=drivesdk.pdf',\n",
       " 'https://drive.google.com/file/d/1cEuRrEtS43C81IrKWcEqVuC81JNc3NU-/view?usp=drivesdk.pdf',\n",
       " 'https://drive.google.com/file/d/1XZFodTmqfSjhs_77ln-pnKJfeRohLKqq/view?usp=drivesdk.pdf',\n",
       " 'https://drive.google.com/file/d/1KVcQPXKCKVXNh5Ug-qzFNA31YzJXzKEb/view?usp=drivesdk.pdf',\n",
       " 'https://drive.google.com/file/d/13pJ3lStVzOWS8KMK5Ed9uIk0xNdVrFpf/view?usp=drivesdk.pdf',\n",
       " 'https://drive.google.com/file/d/1XrKOHZ6kSN_zucI6wOjCIVkCc4Dw9zB3/view?usp=drivesdk.pdf',\n",
       " 'https://drive.google.com/file/d/1jvZeZnv5IgBTxvrcPnhyDt6nclg7kCDk/view?usp=drivesdk.pdf',\n",
       " 'https://drive.google.com/file/d/12oeXPTm7E-_hSYmgCcHBkbUWIBywxvpm/view?usp=drivesdk.pdf',\n",
       " 'https://drive.google.com/file/d/1kODg7Qw4hAj1e2Ct91R_tvom8MHdeGln/view?usp=share_link.pdf',\n",
       " 'https://drive.google.com/file/d/13TkvohhkBROIW7BB643oblBvJz5pptGe/view?usp=drivesdk.pdf',\n",
       " 'https://drive.google.com/file/d/1up_yEm6UoPp4EHPtbsBKms3f9pKCazko/view?usp=drivesdk.pdf',\n",
       " 'https://drive.google.com/file/d/1hsOsV1ykbxqv20dDW8Dp3xjKIZ8utWrY/view?usp=drivesdk.pdf',\n",
       " 'https://drive.google.com/file/d/1iagfeu53Of6Ciq-bMbqB7V6esRwm7vTK/view?usp=drivesdk.pdf',\n",
       " 'https://drive.google.com/file/d/1kGL500JIx-GclVPg87JwWa_KBH0rnyv5/view?usp=drivesdk.pdf',\n",
       " 'https://drive.google.com/file/d/1j8lFJQ8lpBu-vSkPiIK3TK_dT3ZtNpuC/view?usp=drivesdk.pdf',\n",
       " 'https://drive.google.com/file/d/1tMRYeJjkdbJ8dC3fZfy0i9C3HsaDdNmI/view?usp=drivesdk.pdf',\n",
       " 'https://drive.google.com/file/d/12nO6DjGLh9vk6HesZxI6bP9Jz0s_UGoT/view?usp=drivesdk.pdf',\n",
       " 'https://drive.google.com/file/d/1lp0Vq_cZd19051WqnaR0nBOAQ7Ubd3gM/view?usp=drivesdk.pdf',\n",
       " 'https://drive.google.com/file/d/1eyD2lFWYxPeSG6tgtb9WMNSprpRIkUIJ/view?usp=drivesdk.pdf',\n",
       " 'https://drive.google.com/file/d/1KB_L_Xi7N7hGGX-9HrH2GkfuVVXito2T/view?usp=drivesdk.pdf',\n",
       " 'https://drive.google.com/file/d/1nB4tn-SLjMxHcxCxH8gqXqSM_V-b0gr6/view?usp=drivesdk.pdf',\n",
       " 'https://drive.google.com/file/d/18Zz5Xgl2BkoN0fkU69UNx0lvy2cbgzoQ/view?usp=drivesdk.pdf',\n",
       " 'https://drive.google.com/file/d/1m2wUHrn8LPm1j5SjnueLNa5qGnjtqjCx/view?usp=drivesdk.pdf',\n",
       " 'https://drive.google.com/file/d/15l2BLS-PvuL3TjchDSVcr9LxJYGc-fFj/view?usp=drivesdk.pdf',\n",
       " 'https://drive.google.com/file/d/1Awvjs2wqGFKbhkAPadKIne63CAhkeiwr/view?usp=drivesdk.pdf',\n",
       " 'https://drive.google.com/file/d/1EAWspG9ubShZGzAb2xw818fmrj3BK-7h/view?usp=drivesdk.pdf',\n",
       " 'https://drive.google.com/file/d/1QBKy5_gyt0SQEFDOk4QlIMqFR1rld2rU/view?usp=drivesdk.pdf',\n",
       " 'https://drive.google.com/file/d/1F7mGlL-Zo2h1u3-PhnqSyaGP6iUq-e-W/view?usp=drivesdk.pdf',\n",
       " 'https://drive.google.com/file/d/15O5Jrf9JOiCC57OWpSJGujG4X2MItNMK/view?usp=drivesdk.pdf',\n",
       " 'https://drive.google.com/file/d/1UyArQnc2bQYPUdlHa0Lf-GNSF70n_1Oh/view?usp=drivesdk.pdf',\n",
       " 'https://drive.google.com/file/d/1Gf7fcC4OMxyWoUNWDI6o3CB6ieyh8S0m/view?usp=drivesdk.pdf',\n",
       " 'https://drive.google.com/file/d/1TtKa3qlYn-rOsDofCywIBpVcrjLjBhyB/view?usp=drivesdk.pdf',\n",
       " 'https://drive.google.com/file/d/1WBOreSLj3QZscaqc21R6yOCzxPMFq10c/view?usp=drivesdk.pdf',\n",
       " 'https://drive.google.com/file/d/1Mk2uujYlSpMKpOzAgYlZWoz1AOed6XPl/view?usp=drivesdk.pdf',\n",
       " 'https://drive.google.com/file/d/1kq5DpmaYKHzQawH6u30CJMTz2PZCcjUH/view?usp=drivesdk.pdf',\n",
       " 'https://drive.google.com/file/d/1NYtm0UhGMkCnvrfEqCAp59Sr9eN_O4vh/view?usp=drivesdk.pdf',\n",
       " 'https://drive.google.com/file/d/1gRXHNkC3B8zMSdUkSrZHGsqYj3tJZOdT/view?usp=drivesdk.pdf',\n",
       " 'https://drive.google.com/drive/u/0/folders/1K5HJG9lRCFGjKDq9xTInXr2HFAuzxngD.pdf',\n",
       " 'https://drive.google.com/file/d/10VEKJZ_TWxqBKimkeTWUmmYjivagMGZJ/view?usp=drivesdk.pdf',\n",
       " 'https://drive.google.com/file/d/1TUuWDEPs1TEeCuTcY-LtLtfcw_kFS24s/view?usp=drivesdk.pdf',\n",
       " 'https://drive.google.com/file/d/1eONFMcJJvwlrkcfixxt8NG1B2SPe1DHx/view?usp=drivesdk.pdf',\n",
       " 'https://drive.google.com/file/d/1YjHSnG9jfTCofcyjl8EZrzBSdz9eYk8R/view?usp=drivesdk.pdf',\n",
       " 'https://drive.google.com/file/d/1F_e-ptRl7zsudbJO6jYHvB0kJKAA8Nar/view?usp=drivesdk.pdf',\n",
       " 'https://drive.google.com/file/d/1-13kDfTIWbfim9yND-tpXNiTohEB-9wX/view?usp=drivesdk.pdf',\n",
       " 'https://drive.google.com/file/d/1Dm5oS57lnDtHxpotyuWajDOmVW7vUStC/view?usp=drivesdk.pdf',\n",
       " 'https://drive.google.com/file/d/1Kr4Mn0JVtUvl0V7YFv8qJOQgKcr6ISD3/view?usp=drivesdk.pdf',\n",
       " 'https://drive.google.com/file/d/1_pufwtThCU6DZEgdZi3Fg7z6kB9rjmT5/view?usp=drivesdk.pdf',\n",
       " 'https://drive.google.com/file/d/1IlZG5haE3QZom6ymYX4OvTgOxebMoy_y/view?usp=drivesdk.pdf',\n",
       " 'https://drive.google.com/file/d/15cgEj5b0Qrsmwh8P-SxaoedVC1DEMWfk/view?usp=drivesdk.pdf',\n",
       " 'https://drive.google.com/file/d/1wRnpncVJy-a9zYR1k7TOZbLjTeQi9e3Y/view?usp=drivesdk.pdf',\n",
       " 'https://drive.google.com/file/d/1zVZjkvTNF8rxSSz1dwiSutFvN1W0_jPI/view?usp=drivesdk.pdf',\n",
       " 'https://drive.google.com/file/d/1R8tkqk4DWIop3H9xB_IiRIGu3Lg5xOhe/view?usp=drivesdk.pdf',\n",
       " 'https://drive.google.com/file/d/1HsCqocF80rk7cEGDdJkHdA3CZ31IDtdn/view?usp=drivesdk.pdf',\n",
       " 'https://drive.google.com/file/d/1Um2Om1pehjuR4XDSQUlWijJFlfhqBQIS/view?usp=drivesdk.pdf',\n",
       " 'https://drive.google.com/file/d/1xj6vi8dZKx0cBooOAjohbmKgO3PuENPa/view?usp=drivesdk.pdf',\n",
       " 'https://drive.google.com/file/d/1R0hEK9u744ocJlsf6BsqoSnRFVauGoSW/view?usp=drivesdk.pdf',\n",
       " 'https://drive.google.com/file/d/1NhtymRlCO9NW-Awpr0l3zvNC_QlP097J/view?usp=drivesdk.pdf',\n",
       " 'https://drive.google.com/file/d/1m-95y-clbX19Tvfub6C1EVUfk67obBbd/view?usp=drivesdk.pdf',\n",
       " 'https://drive.google.com/file/d/1l730YKRmQcQK0-jmk4c8_E9EI8Q_Uq7q/view?usp=drivesdk.pdf',\n",
       " 'https://drive.google.com/file/d/1fvD2c6gMAdjvUmZ2fkwSLuqElHt7y-cQ/view?usp=drivesdk.pdf',\n",
       " 'https://drive.google.com/file/d/1TIRdVPAMzYCFyY4q0k01z8i20_8jmRO-/view?usp=drivesdk.pdf',\n",
       " 'https://drive.google.com/file/d/1ebad7RuKX5CAMirsm3eL_hmDdZgPB85D/view?usp=drivesdk.pdf',\n",
       " 'https://drive.google.com/file/d/1Jrr19qlQAOZJN7n52TEsev-bJ2nCXs35/view?usp=drivesdk.pdf',\n",
       " 'https://drive.google.com/file/d/1iGsZFQrWNduOyzG-M47wgh95Kfgvs9oR/view?usp=drivesdk.pdf',\n",
       " 'https://drive.google.com/file/d/18Fvo1gpB-MmCyFUwfMFYNxgwE4ugXaIM/view?usp=drivesdk.pdf']"
      ]
     },
     "execution_count": 13,
     "metadata": {},
     "output_type": "execute_result"
    }
   ],
   "source": []
  },
  {
   "cell_type": "code",
   "execution_count": 14,
   "metadata": {},
   "outputs": [],
   "source": [
    "# combDF_reportpdfs, len(combDF_reportpdfs)\n",
    "# combDF_reportpdfs, len(combDF_reportpdfs)\n"
   ]
  },
  {
   "cell_type": "code",
   "execution_count": 28,
   "metadata": {},
   "outputs": [],
   "source": [
    "import urllib.request \n",
    "# urllib.request.urlretrieve(url, filename)\n",
    "import gdown\n",
    "\n",
    "deliverables_df = pd.read_csv(\"../data/deliverables.csv\", index_col= 0)\n",
    "deliverables_report_list = deliverables_df[~deliverables_df[\"report\"].isnull()][\"report\"].tolist()\n",
    "deliverables_report_list\n",
    "\n",
    "report_pdf_dict = {}\n",
    "for i, link in enumerate(deliverables_report_list):\n",
    "    print(i, link)\n",
    "   \n",
    "    try:\n",
    "        pdf_dict_string = f\"../data/pdfs/report_pdfs//{i}_pdf.pdf\"\n",
    "        if \"drive.google.com\" not in link:\n",
    "            urllib.request.urlretrieve(link, pdf_dict_string)\n",
    "        else:\n",
    "            gdown.download(link, pdf_dict_string, quiet=False,fuzzy=True)\n",
    "        print(\"File \", i, \" downloaded\")\n",
    "    except urllib.request.HTTPError:\n",
    "        print(\"Error downloading pdf\")\n",
    "        pdf_dict_string = \"None\"\n",
    "    \n",
    "        \n",
    "    report_pdf_dict[link] = pdf_dict_string"
   ]
  },
  {
   "cell_type": "code",
   "execution_count": 29,
   "metadata": {},
   "outputs": [
    {
     "name": "stdout",
     "output_type": "stream",
     "text": [
      "0 https://dsc-capstone.org/projects-2020-2021/reports/project_53.pdf\n",
      "File  0  downloaded\n",
      "1 https://dsc-capstone.org/projects-2020-2021/reports/project_52.pdf\n",
      "File  1  downloaded\n",
      "2 https://dsc-capstone.org/projects-2020-2021/reports/project_51.pdf\n",
      "File  2  downloaded\n",
      "3 https://dsc-capstone.org/projects-2020-2021/reports/project_50.pdf\n",
      "File  3  downloaded\n",
      "4 https://dsc-capstone.org/projects-2020-2021/reports/project_49.pdf\n",
      "File  4  downloaded\n",
      "5 https://dsc-capstone.org/projects-2020-2021/reports/project_54.pdf\n",
      "File  5  downloaded\n",
      "6 https://dsc-capstone.org/projects-2020-2021/reports/project_16.pdf\n",
      "File  6  downloaded\n",
      "7 https://dsc-capstone.org/projects-2020-2021/reports/project_15.pdf\n",
      "Error downloading pdf\n",
      "8 https://dsc-capstone.org/projects-2020-2021/reports/project_14.pdf\n",
      "File  8  downloaded\n",
      "9 https://dsc-capstone.org/projects-2020-2021/reports/project_13.pdf\n",
      "File  9  downloaded\n",
      "10 https://dsc-capstone.org/projects-2020-2021/reports/project_12.pdf\n",
      "File  10  downloaded\n",
      "11 https://dsc-capstone.org/projects-2020-2021/reports/project_11.pdf\n",
      "File  11  downloaded\n",
      "12 https://dsc-capstone.org/projects-2020-2021/reports/project_55.pdf\n",
      "File  12  downloaded\n",
      "13 https://dsc-capstone.org/projects-2020-2021/reports/project_58.pdf\n",
      "File  13  downloaded\n",
      "14 https://dsc-capstone.org/projects-2020-2021/reports/project_57.pdf\n",
      "File  14  downloaded\n",
      "15 https://dsc-capstone.org/projects-2020-2021/reports/project_56.pdf\n",
      "File  15  downloaded\n",
      "16 https://dsc-capstone.org/projects-2020-2021/reports/project_59.pdf\n",
      "File  16  downloaded\n",
      "17 https://dsc-capstone.org/projects-2020-2021/reports/project_38.pdf\n",
      "File  17  downloaded\n",
      "18 https://dsc-capstone.org/projects-2020-2021/reports/project_42.pdf\n",
      "File  18  downloaded\n",
      "19 https://dsc-capstone.org/projects-2020-2021/reports/project_41.pdf\n",
      "File  19  downloaded\n",
      "20 https://dsc-capstone.org/projects-2020-2021/reports/project_40.pdf\n",
      "File  20  downloaded\n",
      "21 https://dsc-capstone.org/projects-2020-2021/reports/project_39.pdf\n",
      "File  21  downloaded\n",
      "22 https://dsc-capstone.org/projects-2020-2021/reports/project_37.pdf\n",
      "File  22  downloaded\n",
      "23 https://dsc-capstone.org/projects-2020-2021/reports/project_48.pdf\n",
      "File  23  downloaded\n",
      "24 https://dsc-capstone.org/projects-2020-2021/reports/project_47.pdf\n",
      "File  24  downloaded\n",
      "25 https://dsc-capstone.org/projects-2020-2021/reports/project_46.pdf\n",
      "File  25  downloaded\n",
      "26 https://dsc-capstone.org/projects-2020-2021/reports/project_45.pdf\n",
      "File  26  downloaded\n",
      "27 https://dsc-capstone.org/projects-2020-2021/reports/project_43.pdf\n",
      "File  27  downloaded\n",
      "28 https://dsc-capstone.org/projects-2020-2021/reports/project_44.pdf\n",
      "File  28  downloaded\n",
      "29 https://dsc-capstone.org/projects-2020-2021/reports/project_71.pdf\n",
      "File  29  downloaded\n",
      "30 https://dsc-capstone.org/projects-2020-2021/reports/project_63.pdf\n",
      "File  30  downloaded\n",
      "31 https://dsc-capstone.org/projects-2020-2021/reports/project_77.pdf\n",
      "File  31  downloaded\n",
      "32 https://dsc-capstone.org/projects-2020-2021/reports/project_29.pdf\n",
      "File  32  downloaded\n",
      "33 https://dsc-capstone.org/projects-2020-2021/reports/project_22.pdf\n",
      "File  33  downloaded\n",
      "34 https://dsc-capstone.org/projects-2020-2021/reports/project_20.pdf\n",
      "File  34  downloaded\n",
      "35 https://dsc-capstone.org/projects-2020-2021/reports/project_19.pdf\n",
      "File  35  downloaded\n",
      "36 https://dsc-capstone.org/projects-2020-2021/reports/project_18.pdf\n",
      "File  36  downloaded\n",
      "37 https://dsc-capstone.org/projects-2020-2021/reports/project_21.pdf\n",
      "File  37  downloaded\n",
      "38 https://dsc-capstone.org/projects-2020-2021/reports/project_76.pdf\n",
      "File  38  downloaded\n",
      "39 https://dsc-capstone.org/projects-2020-2021/reports/project_0.pdf\n",
      "File  39  downloaded\n",
      "40 https://dsc-capstone.org/projects-2020-2021/reports/project_1.pdf\n",
      "File  40  downloaded\n",
      "41 https://dsc-capstone.org/projects-2020-2021/reports/project_2.pdf\n",
      "File  41  downloaded\n",
      "42 https://dsc-capstone.org/projects-2020-2021/reports/project_3.pdf\n",
      "File  42  downloaded\n",
      "43 https://dsc-capstone.org/projects-2020-2021/reports/project_4.pdf\n",
      "File  43  downloaded\n",
      "44 https://dsc-capstone.org/projects-2020-2021/reports/project_5.pdf\n",
      "File  44  downloaded\n",
      "45 https://dsc-capstone.org/projects-2020-2021/reports/project_6.pdf\n",
      "File  45  downloaded\n",
      "46 https://dsc-capstone.org/projects-2020-2021/reports/project_25.pdf\n",
      "File  46  downloaded\n",
      "47 https://dsc-capstone.org/projects-2020-2021/reports/project_26.pdf\n",
      "File  47  downloaded\n",
      "48 https://dsc-capstone.org/projects-2020-2021/reports/project_27.pdf\n",
      "File  48  downloaded\n",
      "49 https://dsc-capstone.org/projects-2020-2021/reports/project_23.pdf\n",
      "File  49  downloaded\n",
      "50 https://dsc-capstone.org/projects-2020-2021/reports/project_24.pdf\n",
      "File  50  downloaded\n",
      "51 https://dsc-capstone.org/projects-2020-2021/reports/project_70.pdf\n",
      "File  51  downloaded\n",
      "52 https://dsc-capstone.org/projects-2020-2021/reports/project_68.pdf\n",
      "File  52  downloaded\n",
      "53 https://dsc-capstone.org/projects-2020-2021/reports/project_67.pdf\n",
      "File  53  downloaded\n",
      "54 https://dsc-capstone.org/projects-2020-2021/reports/project_66.pdf\n",
      "File  54  downloaded\n",
      "55 https://dsc-capstone.org/projects-2020-2021/reports/project_69.pdf\n",
      "File  55  downloaded\n",
      "56 https://dsc-capstone.org/projects-2020-2021/reports/project_9.pdf\n",
      "File  56  downloaded\n",
      "57 https://dsc-capstone.org/projects-2020-2021/reports/project_8.pdf\n",
      "File  57  downloaded\n",
      "58 https://dsc-capstone.org/projects-2020-2021/reports/project_7.pdf\n",
      "File  58  downloaded\n",
      "59 https://dsc-capstone.org/projects-2020-2021/reports/project_10.pdf\n",
      "File  59  downloaded\n",
      "60 https://dsc-capstone.org/projects-2020-2021/reports/project_65.pdf\n",
      "File  60  downloaded\n",
      "61 https://dsc-capstone.org/projects-2020-2021/reports/project_64.pdf\n",
      "File  61  downloaded\n",
      "62 https://dsc-capstone.org/projects-2020-2021/reports/project_72.pdf\n",
      "File  62  downloaded\n",
      "63 https://dsc-capstone.org/projects-2020-2021/reports/project_60.pdf\n",
      "File  63  downloaded\n",
      "64 https://dsc-capstone.org/projects-2020-2021/reports/project_61.pdf\n",
      "File  64  downloaded\n",
      "65 https://dsc-capstone.org/projects-2020-2021/reports/project_34.pdf\n",
      "File  65  downloaded\n",
      "66 https://dsc-capstone.org/projects-2020-2021/reports/project_33.pdf\n",
      "File  66  downloaded\n",
      "67 https://dsc-capstone.org/projects-2020-2021/reports/project_35.pdf\n",
      "File  67  downloaded\n",
      "68 https://dsc-capstone.org/projects-2020-2021/reports/project_36.pdf\n",
      "File  68  downloaded\n",
      "69 https://dsc-capstone.org/projects-2020-2021/reports/project_32.pdf\n",
      "File  69  downloaded\n",
      "70 https://dsc-capstone.org/projects-2020-2021/reports/project_31.pdf\n",
      "File  70  downloaded\n",
      "71 https://dsc-capstone.org/projects-2020-2021/reports/project_78.pdf\n",
      "Error downloading pdf\n",
      "72 https://raw.githubusercontent.com/leonkuoDSC/artifact-directory-template/main/report.pdf\n",
      "File  72  downloaded\n",
      "73 https://raw.githubusercontent.com/mingjiazhu/artifact-directory-template/main/report.pdf\n",
      "File  73  downloaded\n",
      "74 https://raw.githubusercontent.com/jamesjaeyu/artifact-directory-template/main/report.pdf\n",
      "File  74  downloaded\n",
      "75 https://raw.githubusercontent.com/YongqingLi14/artifact-directory-template/main/report.pdf\n",
      "File  75  downloaded\n",
      "76 https://raw.githubusercontent.com/jonathantanoto/artifact-directory-template/main/report.pdf\n",
      "File  76  downloaded\n",
      "77 https://raw.githubusercontent.com/mcelz/artifact-directory-template/main/report.pdf\n",
      "Error downloading pdf\n",
      "78 https://raw.githubusercontent.com/DSC180A-A04/artifact-directory-template/main/report.pdf\n",
      "File  78  downloaded\n",
      "79 https://raw.githubusercontent.com/alicegunawan/dsc180-artifact-directory/main/report.pdf\n",
      "File  79  downloaded\n",
      "80 https://raw.githubusercontent.com/yol146/artifact-directory-template/main/report.pdf\n",
      "File  80  downloaded\n",
      "81 https://raw.githubusercontent.com/a1limon/artifact-directory-template/main/report.pdf\n",
      "File  81  downloaded\n",
      "82 https://raw.githubusercontent.com/889884m/artifact-directory/main/report.pdf\n",
      "File  82  downloaded\n",
      "83 https://raw.githubusercontent.com/sunqiaochen/artifact-directory-template/main/report.pdf\n",
      "File  83  downloaded\n",
      "84 https://raw.githubusercontent.com/EdmundoZamora/artifact-directory-template/main/report.pdf\n",
      "File  84  downloaded\n",
      "85 https://raw.githubusercontent.com/dylannelson/artifact-directory-template/main/report.pdf\n",
      "File  85  downloaded\n",
      "86 https://raw.githubusercontent.com/WesCodes/artifact-directory-template/main/report.pdf\n",
      "File  86  downloaded\n",
      "87 https://raw.githubusercontent.com/RuojiaTao/artifact-directory-template/main/report.pdf\n",
      "File  87  downloaded\n",
      "88 https://raw.githubusercontent.com/helorise/artifact-directory-template/main/report.pdf\n",
      "File  88  downloaded\n",
      "89 https://raw.githubusercontent.com/anaaamika/artifact-directory-template/main/report.pdf\n",
      "File  89  downloaded\n",
      "90 https://raw.githubusercontent.com/Bryan-Az/artifact-directory-template/main/report.pdf\n",
      "File  90  downloaded\n",
      "91 https://raw.githubusercontent.com/isacmlee/artifact-directory-template/main/report.pdf\n",
      "Error downloading pdf\n",
      "92 https://raw.githubusercontent.com/shonepatil/artifact-directory-template/main/report.pdf\n",
      "File  92  downloaded\n",
      "93 https://raw.githubusercontent.com/yangshengaa/artifact-directory-template/main/report.pdf\n",
      "File  93  downloaded\n",
      "94 https://raw.githubusercontent.com/xd00099/HDSI-faculty-tool-artifact-directory/main/report.pdf\n",
      "File  94  downloaded\n",
      "95 https://raw.githubusercontent.com/xd00099/HDSI-faculty-tool-artifact-directory/main/report.pdf\n",
      "File  95  downloaded\n",
      "96 https://raw.githubusercontent.com/amuamushu/artifact-directory-template/main/report.pdf\n",
      "File  96  downloaded\n",
      "97 https://raw.githubusercontent.com/rakeshsenthil/artifact-directory-template/main/report.pdf\n",
      "File  97  downloaded\n",
      "98 https://raw.githubusercontent.com/Actionable-Recourse/artifact-directory/main/report.pdf\n",
      "Error downloading pdf\n",
      "99 https://raw.githubusercontent.com/micmiccitymax/artifact-directory-template/main/report.pdf\n",
      "File  99  downloaded\n",
      "100 https://raw.githubusercontent.com/aavelasq/artifact-directory-template/main/report.pdf\n",
      "File  100  downloaded\n",
      "101 https://raw.githubusercontent.com/brianvi-98/artifact-directory-template/main/report.pdf\n",
      "File  101  downloaded\n",
      "102 https://raw.githubusercontent.com/rachelluoyt/artifact-directory-template/main/report.pdf\n",
      "File  102  downloaded\n",
      "103 https://raw.githubusercontent.com/Sapphirerain/artifact-directory-template/main/report.pdf\n",
      "File  103  downloaded\n",
      "104 https://raw.githubusercontent.com/yujiezhang0914/artifact-directory-template/main/report.pdf\n",
      "File  104  downloaded\n",
      "105 https://raw.githubusercontent.com/TanveerMittal/artifact-directory-template/main/report.pdf\n",
      "File  105  downloaded\n",
      "106 https://raw.githubusercontent.com/rdunnUCSD/capstone-artifact-directory/main/report.pdf\n",
      "File  106  downloaded\n",
      "107 https://raw.githubusercontent.com/edinhluo/artifact-directory-template/main/report.pdf\n",
      "File  107  downloaded\n",
      "108 https://raw.githubusercontent.com/pnair7/artifact-directory-template/main/report.pdf\n",
      "File  108  downloaded\n",
      "109 https://raw.githubusercontent.com/emily-ramond/artifact-directory-template/main/report.pdf\n",
      "File  109  downloaded\n",
      "110 https://raw.githubusercontent.com/alxjareyliu/artifact-directory-template/main/report.pdf\n",
      "File  110  downloaded\n",
      "111 https://raw.githubusercontent.com/shaheendane/artifact-directory-template/main/report.pdf\n",
      "File  111  downloaded\n",
      "112 https://raw.githubusercontent.com/Jsingh-23/artifact-directory-template/main/report.pdf\n",
      "File  112  downloaded\n",
      "113 https://raw.githubusercontent.com/jenna-my/artifact-directory-template/main/report.pdf\n",
      "File  113  downloaded\n",
      "114 https://raw.githubusercontent.com/tatummaston/artifact-directory-template/main/report.pdf\n",
      "File  114  downloaded\n",
      "115 https://raw.githubusercontent.com/arjunsawhney1/artifact-directory-template/main/report.pdf\n",
      "File  115  downloaded\n",
      "116 https://raw.githubusercontent.com/andydo1998/artifact-directory-template/main/report.pdf\n",
      "File  116  downloaded\n",
      "117 https://raw.githubusercontent.com/cgorlla/intel-capstone-submission/main/report.pdf\n",
      "File  117  downloaded\n",
      "118 https://drive.google.com/file/d/1UrN4tA0_7iL1MNYRo18lMy3BSNwW27WI/view?usp=drivesdk.pdf\n"
     ]
    },
    {
     "name": "stderr",
     "output_type": "stream",
     "text": [
      "Downloading...\n",
      "From: https://drive.google.com/uc?id=1UrN4tA0_7iL1MNYRo18lMy3BSNwW27WI\n",
      "To: c:\\Users\\halom\\Desktop\\DSC180\\DSC180B-Capstone-Search\\data\\pdfs\\report_pdfs\\118_pdf.pdf\n",
      "100%|██████████| 454k/454k [00:00<00:00, 3.52MB/s]\n"
     ]
    },
    {
     "name": "stdout",
     "output_type": "stream",
     "text": [
      "File  118  downloaded\n",
      "119 https://drive.google.com/file/d/190sUeABNC-E0qooRXufQDKANdHkc-RxM/view?usp=drivesdk.pdf\n"
     ]
    },
    {
     "name": "stderr",
     "output_type": "stream",
     "text": [
      "Downloading...\n",
      "From: https://drive.google.com/uc?id=190sUeABNC-E0qooRXufQDKANdHkc-RxM\n",
      "To: c:\\Users\\halom\\Desktop\\DSC180\\DSC180B-Capstone-Search\\data\\pdfs\\report_pdfs\\119_pdf.pdf\n",
      "100%|██████████| 749k/749k [00:00<00:00, 5.64MB/s]\n"
     ]
    },
    {
     "name": "stdout",
     "output_type": "stream",
     "text": [
      "File  119  downloaded\n",
      "120 https://drive.google.com/file/d/1cEuRrEtS43C81IrKWcEqVuC81JNc3NU-/view?usp=drivesdk.pdf\n"
     ]
    },
    {
     "name": "stderr",
     "output_type": "stream",
     "text": [
      "Downloading...\n",
      "From: https://drive.google.com/uc?id=1cEuRrEtS43C81IrKWcEqVuC81JNc3NU-\n",
      "To: c:\\Users\\halom\\Desktop\\DSC180\\DSC180B-Capstone-Search\\data\\pdfs\\report_pdfs\\120_pdf.pdf\n",
      "100%|██████████| 621k/621k [00:00<00:00, 4.19MB/s]\n"
     ]
    },
    {
     "name": "stdout",
     "output_type": "stream",
     "text": [
      "File  120  downloaded\n",
      "121 https://drive.google.com/file/d/1XZFodTmqfSjhs_77ln-pnKJfeRohLKqq/view?usp=drivesdk.pdf\n"
     ]
    },
    {
     "name": "stderr",
     "output_type": "stream",
     "text": [
      "Downloading...\n",
      "From: https://drive.google.com/uc?id=1XZFodTmqfSjhs_77ln-pnKJfeRohLKqq\n",
      "To: c:\\Users\\halom\\Desktop\\DSC180\\DSC180B-Capstone-Search\\data\\pdfs\\report_pdfs\\121_pdf.pdf\n",
      "100%|██████████| 1.69M/1.69M [00:00<00:00, 7.05MB/s]\n"
     ]
    },
    {
     "name": "stdout",
     "output_type": "stream",
     "text": [
      "File  121  downloaded\n",
      "122 https://drive.google.com/file/d/1KVcQPXKCKVXNh5Ug-qzFNA31YzJXzKEb/view?usp=drivesdk.pdf\n"
     ]
    },
    {
     "name": "stderr",
     "output_type": "stream",
     "text": [
      "Downloading...\n",
      "From: https://drive.google.com/uc?id=1KVcQPXKCKVXNh5Ug-qzFNA31YzJXzKEb\n",
      "To: c:\\Users\\halom\\Desktop\\DSC180\\DSC180B-Capstone-Search\\data\\pdfs\\report_pdfs\\122_pdf.pdf\n",
      "100%|██████████| 166k/166k [00:00<00:00, 1.72MB/s]\n"
     ]
    },
    {
     "name": "stdout",
     "output_type": "stream",
     "text": [
      "File  122  downloaded\n",
      "123 https://drive.google.com/file/d/13pJ3lStVzOWS8KMK5Ed9uIk0xNdVrFpf/view?usp=drivesdk.pdf\n"
     ]
    },
    {
     "name": "stderr",
     "output_type": "stream",
     "text": [
      "Downloading...\n",
      "From: https://drive.google.com/uc?id=13pJ3lStVzOWS8KMK5Ed9uIk0xNdVrFpf\n",
      "To: c:\\Users\\halom\\Desktop\\DSC180\\DSC180B-Capstone-Search\\data\\pdfs\\report_pdfs\\123_pdf.pdf\n",
      "100%|██████████| 309k/309k [00:00<00:00, 2.01MB/s]\n"
     ]
    },
    {
     "name": "stdout",
     "output_type": "stream",
     "text": [
      "File  123  downloaded\n",
      "124 https://drive.google.com/file/d/1XrKOHZ6kSN_zucI6wOjCIVkCc4Dw9zB3/view?usp=drivesdk.pdf\n"
     ]
    },
    {
     "name": "stderr",
     "output_type": "stream",
     "text": [
      "Downloading...\n",
      "From: https://drive.google.com/uc?id=1XrKOHZ6kSN_zucI6wOjCIVkCc4Dw9zB3\n",
      "To: c:\\Users\\halom\\Desktop\\DSC180\\DSC180B-Capstone-Search\\data\\pdfs\\report_pdfs\\124_pdf.pdf\n",
      "100%|██████████| 324k/324k [00:00<00:00, 3.77MB/s]\n"
     ]
    },
    {
     "name": "stdout",
     "output_type": "stream",
     "text": [
      "File  124  downloaded\n",
      "125 https://drive.google.com/file/d/1jvZeZnv5IgBTxvrcPnhyDt6nclg7kCDk/view?usp=drivesdk.pdf\n"
     ]
    },
    {
     "name": "stderr",
     "output_type": "stream",
     "text": [
      "Downloading...\n",
      "From: https://drive.google.com/uc?id=1jvZeZnv5IgBTxvrcPnhyDt6nclg7kCDk\n",
      "To: c:\\Users\\halom\\Desktop\\DSC180\\DSC180B-Capstone-Search\\data\\pdfs\\report_pdfs\\125_pdf.pdf\n",
      "100%|██████████| 12.3M/12.3M [00:02<00:00, 4.60MB/s]\n"
     ]
    },
    {
     "name": "stdout",
     "output_type": "stream",
     "text": [
      "File  125  downloaded\n",
      "126 https://drive.google.com/file/d/12oeXPTm7E-_hSYmgCcHBkbUWIBywxvpm/view?usp=drivesdk.pdf\n"
     ]
    },
    {
     "name": "stderr",
     "output_type": "stream",
     "text": [
      "Downloading...\n",
      "From: https://drive.google.com/uc?id=12oeXPTm7E-_hSYmgCcHBkbUWIBywxvpm\n",
      "To: c:\\Users\\halom\\Desktop\\DSC180\\DSC180B-Capstone-Search\\data\\pdfs\\report_pdfs\\126_pdf.pdf\n",
      "100%|██████████| 760k/760k [00:00<00:00, 2.14MB/s]\n"
     ]
    },
    {
     "name": "stdout",
     "output_type": "stream",
     "text": [
      "File  126  downloaded\n",
      "127 https://drive.google.com/file/d/1kODg7Qw4hAj1e2Ct91R_tvom8MHdeGln/view?usp=share_link.pdf\n"
     ]
    },
    {
     "name": "stderr",
     "output_type": "stream",
     "text": [
      "Downloading...\n",
      "From: https://drive.google.com/uc?id=1kODg7Qw4hAj1e2Ct91R_tvom8MHdeGln\n",
      "To: c:\\Users\\halom\\Desktop\\DSC180\\DSC180B-Capstone-Search\\data\\pdfs\\report_pdfs\\127_pdf.pdf\n",
      "100%|██████████| 431k/431k [00:00<00:00, 3.20MB/s]\n"
     ]
    },
    {
     "name": "stdout",
     "output_type": "stream",
     "text": [
      "File  127  downloaded\n",
      "128 https://drive.google.com/file/d/13TkvohhkBROIW7BB643oblBvJz5pptGe/view?usp=drivesdk.pdf\n"
     ]
    },
    {
     "name": "stderr",
     "output_type": "stream",
     "text": [
      "Downloading...\n",
      "From: https://drive.google.com/uc?id=13TkvohhkBROIW7BB643oblBvJz5pptGe\n",
      "To: c:\\Users\\halom\\Desktop\\DSC180\\DSC180B-Capstone-Search\\data\\pdfs\\report_pdfs\\128_pdf.pdf\n",
      "100%|██████████| 439k/439k [00:00<00:00, 3.02MB/s]\n"
     ]
    },
    {
     "name": "stdout",
     "output_type": "stream",
     "text": [
      "File  128  downloaded\n",
      "129 https://drive.google.com/file/d/1up_yEm6UoPp4EHPtbsBKms3f9pKCazko/view?usp=drivesdk.pdf\n"
     ]
    },
    {
     "name": "stderr",
     "output_type": "stream",
     "text": [
      "Downloading...\n",
      "From: https://drive.google.com/uc?id=1up_yEm6UoPp4EHPtbsBKms3f9pKCazko\n",
      "To: c:\\Users\\halom\\Desktop\\DSC180\\DSC180B-Capstone-Search\\data\\pdfs\\report_pdfs\\129_pdf.pdf\n",
      "100%|██████████| 1.22M/1.22M [00:00<00:00, 6.98MB/s]\n"
     ]
    },
    {
     "name": "stdout",
     "output_type": "stream",
     "text": [
      "File  129  downloaded\n",
      "130 https://drive.google.com/file/d/1hsOsV1ykbxqv20dDW8Dp3xjKIZ8utWrY/view?usp=drivesdk.pdf\n"
     ]
    },
    {
     "name": "stderr",
     "output_type": "stream",
     "text": [
      "Downloading...\n",
      "From: https://drive.google.com/uc?id=1hsOsV1ykbxqv20dDW8Dp3xjKIZ8utWrY\n",
      "To: c:\\Users\\halom\\Desktop\\DSC180\\DSC180B-Capstone-Search\\data\\pdfs\\report_pdfs\\130_pdf.pdf\n",
      "100%|██████████| 460k/460k [00:00<00:00, 1.72MB/s]\n"
     ]
    },
    {
     "name": "stdout",
     "output_type": "stream",
     "text": [
      "File  130  downloaded\n",
      "131 https://drive.google.com/file/d/1iagfeu53Of6Ciq-bMbqB7V6esRwm7vTK/view?usp=drivesdk.pdf\n"
     ]
    },
    {
     "name": "stderr",
     "output_type": "stream",
     "text": [
      "Downloading...\n",
      "From: https://drive.google.com/uc?id=1iagfeu53Of6Ciq-bMbqB7V6esRwm7vTK\n",
      "To: c:\\Users\\halom\\Desktop\\DSC180\\DSC180B-Capstone-Search\\data\\pdfs\\report_pdfs\\131_pdf.pdf\n",
      "100%|██████████| 246k/246k [00:00<00:00, 2.27MB/s]\n"
     ]
    },
    {
     "name": "stdout",
     "output_type": "stream",
     "text": [
      "File  131  downloaded\n",
      "132 https://drive.google.com/file/d/1kGL500JIx-GclVPg87JwWa_KBH0rnyv5/view?usp=drivesdk.pdf\n"
     ]
    },
    {
     "name": "stderr",
     "output_type": "stream",
     "text": [
      "Downloading...\n",
      "From: https://drive.google.com/uc?id=1kGL500JIx-GclVPg87JwWa_KBH0rnyv5\n",
      "To: c:\\Users\\halom\\Desktop\\DSC180\\DSC180B-Capstone-Search\\data\\pdfs\\report_pdfs\\132_pdf.pdf\n",
      "100%|██████████| 10.1M/10.1M [00:01<00:00, 6.08MB/s]\n"
     ]
    },
    {
     "name": "stdout",
     "output_type": "stream",
     "text": [
      "File  132  downloaded\n",
      "133 https://drive.google.com/file/d/1j8lFJQ8lpBu-vSkPiIK3TK_dT3ZtNpuC/view?usp=drivesdk.pdf\n"
     ]
    },
    {
     "name": "stderr",
     "output_type": "stream",
     "text": [
      "Downloading...\n",
      "From: https://drive.google.com/uc?id=1j8lFJQ8lpBu-vSkPiIK3TK_dT3ZtNpuC\n",
      "To: c:\\Users\\halom\\Desktop\\DSC180\\DSC180B-Capstone-Search\\data\\pdfs\\report_pdfs\\133_pdf.pdf\n",
      "100%|██████████| 4.91k/4.91k [00:00<00:00, 336kB/s]\n"
     ]
    },
    {
     "name": "stdout",
     "output_type": "stream",
     "text": [
      "File  133  downloaded\n",
      "134 https://drive.google.com/file/d/1tMRYeJjkdbJ8dC3fZfy0i9C3HsaDdNmI/view?usp=drivesdk.pdf\n"
     ]
    },
    {
     "name": "stderr",
     "output_type": "stream",
     "text": [
      "Downloading...\n",
      "From: https://drive.google.com/uc?id=1tMRYeJjkdbJ8dC3fZfy0i9C3HsaDdNmI\n",
      "To: c:\\Users\\halom\\Desktop\\DSC180\\DSC180B-Capstone-Search\\data\\pdfs\\report_pdfs\\134_pdf.pdf\n",
      "100%|██████████| 3.95M/3.95M [00:00<00:00, 6.96MB/s]\n"
     ]
    },
    {
     "name": "stdout",
     "output_type": "stream",
     "text": [
      "File  134  downloaded\n",
      "135 https://drive.google.com/file/d/12nO6DjGLh9vk6HesZxI6bP9Jz0s_UGoT/view?usp=drivesdk.pdf\n"
     ]
    },
    {
     "name": "stderr",
     "output_type": "stream",
     "text": [
      "Downloading...\n",
      "From: https://drive.google.com/uc?id=12nO6DjGLh9vk6HesZxI6bP9Jz0s_UGoT\n",
      "To: c:\\Users\\halom\\Desktop\\DSC180\\DSC180B-Capstone-Search\\data\\pdfs\\report_pdfs\\135_pdf.pdf\n",
      "100%|██████████| 745k/745k [00:00<00:00, 3.22MB/s]\n"
     ]
    },
    {
     "name": "stdout",
     "output_type": "stream",
     "text": [
      "File  135  downloaded\n",
      "136 https://drive.google.com/file/d/1lp0Vq_cZd19051WqnaR0nBOAQ7Ubd3gM/view?usp=drivesdk.pdf\n"
     ]
    },
    {
     "name": "stderr",
     "output_type": "stream",
     "text": [
      "Downloading...\n",
      "From: https://drive.google.com/uc?id=1lp0Vq_cZd19051WqnaR0nBOAQ7Ubd3gM\n",
      "To: c:\\Users\\halom\\Desktop\\DSC180\\DSC180B-Capstone-Search\\data\\pdfs\\report_pdfs\\136_pdf.pdf\n",
      "100%|██████████| 1.27M/1.27M [00:00<00:00, 4.98MB/s]\n"
     ]
    },
    {
     "name": "stdout",
     "output_type": "stream",
     "text": [
      "File  136  downloaded\n",
      "137 https://drive.google.com/file/d/1eyD2lFWYxPeSG6tgtb9WMNSprpRIkUIJ/view?usp=drivesdk.pdf\n"
     ]
    },
    {
     "name": "stderr",
     "output_type": "stream",
     "text": [
      "Downloading...\n",
      "From: https://drive.google.com/uc?id=1eyD2lFWYxPeSG6tgtb9WMNSprpRIkUIJ\n",
      "To: c:\\Users\\halom\\Desktop\\DSC180\\DSC180B-Capstone-Search\\data\\pdfs\\report_pdfs\\137_pdf.pdf\n",
      "100%|██████████| 375k/375k [00:00<00:00, 2.50MB/s]\n"
     ]
    },
    {
     "name": "stdout",
     "output_type": "stream",
     "text": [
      "File  137  downloaded\n",
      "138 https://drive.google.com/file/d/1KB_L_Xi7N7hGGX-9HrH2GkfuVVXito2T/view?usp=drivesdk.pdf\n"
     ]
    },
    {
     "name": "stderr",
     "output_type": "stream",
     "text": [
      "Downloading...\n",
      "From: https://drive.google.com/uc?id=1KB_L_Xi7N7hGGX-9HrH2GkfuVVXito2T\n",
      "To: c:\\Users\\halom\\Desktop\\DSC180\\DSC180B-Capstone-Search\\data\\pdfs\\report_pdfs\\138_pdf.pdf\n",
      "100%|██████████| 4.68M/4.68M [00:00<00:00, 6.49MB/s]\n"
     ]
    },
    {
     "name": "stdout",
     "output_type": "stream",
     "text": [
      "File  138  downloaded\n",
      "139 https://drive.google.com/file/d/1nB4tn-SLjMxHcxCxH8gqXqSM_V-b0gr6/view?usp=drivesdk.pdf\n"
     ]
    },
    {
     "name": "stderr",
     "output_type": "stream",
     "text": [
      "Downloading...\n",
      "From: https://drive.google.com/uc?id=1nB4tn-SLjMxHcxCxH8gqXqSM_V-b0gr6\n",
      "To: c:\\Users\\halom\\Desktop\\DSC180\\DSC180B-Capstone-Search\\data\\pdfs\\report_pdfs\\139_pdf.pdf\n",
      "100%|██████████| 1.35M/1.35M [00:00<00:00, 4.30MB/s]\n"
     ]
    },
    {
     "name": "stdout",
     "output_type": "stream",
     "text": [
      "File  139  downloaded\n",
      "140 https://drive.google.com/file/d/18Zz5Xgl2BkoN0fkU69UNx0lvy2cbgzoQ/view?usp=drivesdk.pdf\n"
     ]
    },
    {
     "name": "stderr",
     "output_type": "stream",
     "text": [
      "Downloading...\n",
      "From: https://drive.google.com/uc?id=18Zz5Xgl2BkoN0fkU69UNx0lvy2cbgzoQ\n",
      "To: c:\\Users\\halom\\Desktop\\DSC180\\DSC180B-Capstone-Search\\data\\pdfs\\report_pdfs\\140_pdf.pdf\n",
      "100%|██████████| 2.76M/2.76M [00:00<00:00, 5.39MB/s]\n"
     ]
    },
    {
     "name": "stdout",
     "output_type": "stream",
     "text": [
      "File  140  downloaded\n",
      "141 https://drive.google.com/file/d/1m2wUHrn8LPm1j5SjnueLNa5qGnjtqjCx/view?usp=drivesdk.pdf\n"
     ]
    },
    {
     "name": "stderr",
     "output_type": "stream",
     "text": [
      "Downloading...\n",
      "From: https://drive.google.com/uc?id=1m2wUHrn8LPm1j5SjnueLNa5qGnjtqjCx\n",
      "To: c:\\Users\\halom\\Desktop\\DSC180\\DSC180B-Capstone-Search\\data\\pdfs\\report_pdfs\\141_pdf.pdf\n",
      "100%|██████████| 1.62M/1.62M [00:00<00:00, 5.49MB/s]\n"
     ]
    },
    {
     "name": "stdout",
     "output_type": "stream",
     "text": [
      "File  141  downloaded\n",
      "142 https://drive.google.com/file/d/15l2BLS-PvuL3TjchDSVcr9LxJYGc-fFj/view?usp=drivesdk.pdf\n"
     ]
    },
    {
     "name": "stderr",
     "output_type": "stream",
     "text": [
      "Downloading...\n",
      "From: https://drive.google.com/uc?id=15l2BLS-PvuL3TjchDSVcr9LxJYGc-fFj\n",
      "To: c:\\Users\\halom\\Desktop\\DSC180\\DSC180B-Capstone-Search\\data\\pdfs\\report_pdfs\\142_pdf.pdf\n",
      "100%|██████████| 231k/231k [00:00<00:00, 2.10MB/s]\n"
     ]
    },
    {
     "name": "stdout",
     "output_type": "stream",
     "text": [
      "File  142  downloaded\n",
      "143 https://drive.google.com/file/d/1Awvjs2wqGFKbhkAPadKIne63CAhkeiwr/view?usp=drivesdk.pdf\n"
     ]
    },
    {
     "name": "stderr",
     "output_type": "stream",
     "text": [
      "Downloading...\n",
      "From: https://drive.google.com/uc?id=1Awvjs2wqGFKbhkAPadKIne63CAhkeiwr\n",
      "To: c:\\Users\\halom\\Desktop\\DSC180\\DSC180B-Capstone-Search\\data\\pdfs\\report_pdfs\\143_pdf.pdf\n",
      "100%|██████████| 338k/338k [00:00<00:00, 2.45MB/s]\n"
     ]
    },
    {
     "name": "stdout",
     "output_type": "stream",
     "text": [
      "File  143  downloaded\n",
      "144 https://drive.google.com/file/d/1EAWspG9ubShZGzAb2xw818fmrj3BK-7h/view?usp=drivesdk.pdf\n"
     ]
    },
    {
     "name": "stderr",
     "output_type": "stream",
     "text": [
      "Downloading...\n",
      "From: https://drive.google.com/uc?id=1EAWspG9ubShZGzAb2xw818fmrj3BK-7h\n",
      "To: c:\\Users\\halom\\Desktop\\DSC180\\DSC180B-Capstone-Search\\data\\pdfs\\report_pdfs\\144_pdf.pdf\n",
      "100%|██████████| 90.1k/90.1k [00:00<00:00, 1.75MB/s]\n"
     ]
    },
    {
     "name": "stdout",
     "output_type": "stream",
     "text": [
      "File  144  downloaded\n",
      "145 https://drive.google.com/file/d/1QBKy5_gyt0SQEFDOk4QlIMqFR1rld2rU/view?usp=drivesdk.pdf\n"
     ]
    },
    {
     "name": "stderr",
     "output_type": "stream",
     "text": [
      "Downloading...\n",
      "From: https://drive.google.com/uc?id=1QBKy5_gyt0SQEFDOk4QlIMqFR1rld2rU\n",
      "To: c:\\Users\\halom\\Desktop\\DSC180\\DSC180B-Capstone-Search\\data\\pdfs\\report_pdfs\\145_pdf.pdf\n",
      "100%|██████████| 90.1k/90.1k [00:00<00:00, 1.67MB/s]\n"
     ]
    },
    {
     "name": "stdout",
     "output_type": "stream",
     "text": [
      "File  145  downloaded\n",
      "146 https://drive.google.com/file/d/1F7mGlL-Zo2h1u3-PhnqSyaGP6iUq-e-W/view?usp=drivesdk.pdf\n"
     ]
    },
    {
     "name": "stderr",
     "output_type": "stream",
     "text": [
      "Downloading...\n",
      "From: https://drive.google.com/uc?id=1F7mGlL-Zo2h1u3-PhnqSyaGP6iUq-e-W\n",
      "To: c:\\Users\\halom\\Desktop\\DSC180\\DSC180B-Capstone-Search\\data\\pdfs\\report_pdfs\\146_pdf.pdf\n",
      "100%|██████████| 1.17M/1.17M [00:00<00:00, 6.74MB/s]\n"
     ]
    },
    {
     "name": "stdout",
     "output_type": "stream",
     "text": [
      "File  146  downloaded\n",
      "147 https://drive.google.com/file/d/15O5Jrf9JOiCC57OWpSJGujG4X2MItNMK/view?usp=drivesdk.pdf\n"
     ]
    },
    {
     "name": "stderr",
     "output_type": "stream",
     "text": [
      "Downloading...\n",
      "From: https://drive.google.com/uc?id=15O5Jrf9JOiCC57OWpSJGujG4X2MItNMK\n",
      "To: c:\\Users\\halom\\Desktop\\DSC180\\DSC180B-Capstone-Search\\data\\pdfs\\report_pdfs\\147_pdf.pdf\n",
      "100%|██████████| 626k/626k [00:00<00:00, 4.24MB/s]\n"
     ]
    },
    {
     "name": "stdout",
     "output_type": "stream",
     "text": [
      "File  147  downloaded\n",
      "148 https://drive.google.com/file/d/1UyArQnc2bQYPUdlHa0Lf-GNSF70n_1Oh/view?usp=drivesdk.pdf\n"
     ]
    },
    {
     "name": "stderr",
     "output_type": "stream",
     "text": [
      "Downloading...\n",
      "From: https://drive.google.com/uc?id=1UyArQnc2bQYPUdlHa0Lf-GNSF70n_1Oh\n",
      "To: c:\\Users\\halom\\Desktop\\DSC180\\DSC180B-Capstone-Search\\data\\pdfs\\report_pdfs\\148_pdf.pdf\n",
      "100%|██████████| 2.48M/2.48M [00:00<00:00, 3.24MB/s]\n"
     ]
    },
    {
     "name": "stdout",
     "output_type": "stream",
     "text": [
      "File  148  downloaded\n",
      "149 https://drive.google.com/file/d/1Gf7fcC4OMxyWoUNWDI6o3CB6ieyh8S0m/view?usp=drivesdk.pdf\n"
     ]
    },
    {
     "name": "stderr",
     "output_type": "stream",
     "text": [
      "Downloading...\n",
      "From: https://drive.google.com/uc?id=1Gf7fcC4OMxyWoUNWDI6o3CB6ieyh8S0m\n",
      "To: c:\\Users\\halom\\Desktop\\DSC180\\DSC180B-Capstone-Search\\data\\pdfs\\report_pdfs\\149_pdf.pdf\n",
      "100%|██████████| 8.30M/8.30M [00:01<00:00, 5.69MB/s]\n"
     ]
    },
    {
     "name": "stdout",
     "output_type": "stream",
     "text": [
      "File  149  downloaded\n",
      "150 https://drive.google.com/file/d/1TtKa3qlYn-rOsDofCywIBpVcrjLjBhyB/view?usp=drivesdk.pdf\n"
     ]
    },
    {
     "name": "stderr",
     "output_type": "stream",
     "text": [
      "Downloading...\n",
      "From: https://drive.google.com/uc?id=1TtKa3qlYn-rOsDofCywIBpVcrjLjBhyB\n",
      "To: c:\\Users\\halom\\Desktop\\DSC180\\DSC180B-Capstone-Search\\data\\pdfs\\report_pdfs\\150_pdf.pdf\n",
      "100%|██████████| 4.91k/4.91k [00:00<?, ?B/s]\n"
     ]
    },
    {
     "name": "stdout",
     "output_type": "stream",
     "text": [
      "File  150  downloaded\n",
      "151 https://drive.google.com/file/d/1WBOreSLj3QZscaqc21R6yOCzxPMFq10c/view?usp=drivesdk.pdf\n"
     ]
    },
    {
     "name": "stderr",
     "output_type": "stream",
     "text": [
      "Downloading...\n",
      "From: https://drive.google.com/uc?id=1WBOreSLj3QZscaqc21R6yOCzxPMFq10c\n",
      "To: c:\\Users\\halom\\Desktop\\DSC180\\DSC180B-Capstone-Search\\data\\pdfs\\report_pdfs\\151_pdf.pdf\n",
      "100%|██████████| 1.18M/1.18M [00:00<00:00, 3.86MB/s]\n"
     ]
    },
    {
     "name": "stdout",
     "output_type": "stream",
     "text": [
      "File  151  downloaded\n",
      "152 https://drive.google.com/file/d/1Mk2uujYlSpMKpOzAgYlZWoz1AOed6XPl/view?usp=drivesdk.pdf\n"
     ]
    },
    {
     "name": "stderr",
     "output_type": "stream",
     "text": [
      "Downloading...\n",
      "From: https://drive.google.com/uc?id=1Mk2uujYlSpMKpOzAgYlZWoz1AOed6XPl\n",
      "To: c:\\Users\\halom\\Desktop\\DSC180\\DSC180B-Capstone-Search\\data\\pdfs\\report_pdfs\\152_pdf.pdf\n",
      "100%|██████████| 780k/780k [00:00<00:00, 3.80MB/s]\n"
     ]
    },
    {
     "name": "stdout",
     "output_type": "stream",
     "text": [
      "File  152  downloaded\n",
      "153 https://drive.google.com/file/d/1kq5DpmaYKHzQawH6u30CJMTz2PZCcjUH/view?usp=drivesdk.pdf\n"
     ]
    },
    {
     "name": "stderr",
     "output_type": "stream",
     "text": [
      "Downloading...\n",
      "From: https://drive.google.com/uc?id=1kq5DpmaYKHzQawH6u30CJMTz2PZCcjUH\n",
      "To: c:\\Users\\halom\\Desktop\\DSC180\\DSC180B-Capstone-Search\\data\\pdfs\\report_pdfs\\153_pdf.pdf\n",
      "100%|██████████| 15.8M/15.8M [00:02<00:00, 7.23MB/s]\n"
     ]
    },
    {
     "name": "stdout",
     "output_type": "stream",
     "text": [
      "File  153  downloaded\n",
      "154 https://drive.google.com/file/d/1NYtm0UhGMkCnvrfEqCAp59Sr9eN_O4vh/view?usp=drivesdk.pdf\n"
     ]
    },
    {
     "name": "stderr",
     "output_type": "stream",
     "text": [
      "Downloading...\n",
      "From: https://drive.google.com/uc?id=1NYtm0UhGMkCnvrfEqCAp59Sr9eN_O4vh\n",
      "To: c:\\Users\\halom\\Desktop\\DSC180\\DSC180B-Capstone-Search\\data\\pdfs\\report_pdfs\\154_pdf.pdf\n",
      "100%|██████████| 1.48M/1.48M [00:00<00:00, 6.39MB/s]\n"
     ]
    },
    {
     "name": "stdout",
     "output_type": "stream",
     "text": [
      "File  154  downloaded\n",
      "155 https://drive.google.com/file/d/1gRXHNkC3B8zMSdUkSrZHGsqYj3tJZOdT/view?usp=drivesdk.pdf\n"
     ]
    },
    {
     "name": "stderr",
     "output_type": "stream",
     "text": [
      "Downloading...\n",
      "From: https://drive.google.com/uc?id=1gRXHNkC3B8zMSdUkSrZHGsqYj3tJZOdT\n",
      "To: c:\\Users\\halom\\Desktop\\DSC180\\DSC180B-Capstone-Search\\data\\pdfs\\report_pdfs\\155_pdf.pdf\n",
      "100%|██████████| 594k/594k [00:00<00:00, 4.01MB/s]\n"
     ]
    },
    {
     "name": "stdout",
     "output_type": "stream",
     "text": [
      "File  155  downloaded\n",
      "156 https://drive.google.com/drive/u/0/folders/1K5HJG9lRCFGjKDq9xTInXr2HFAuzxngD.pdf\n"
     ]
    },
    {
     "name": "stderr",
     "output_type": "stream",
     "text": [
      "Downloading...\n",
      "From: https://drive.google.com/drive/u/0/folders/1K5HJG9lRCFGjKDq9xTInXr2HFAuzxngD.pdf\n",
      "To: c:\\Users\\halom\\Desktop\\DSC180\\DSC180B-Capstone-Search\\data\\pdfs\\report_pdfs\\156_pdf.pdf\n",
      "1.07MB [00:00, ?B/s]\n"
     ]
    },
    {
     "name": "stdout",
     "output_type": "stream",
     "text": [
      "File  156  downloaded\n",
      "157 https://drive.google.com/file/d/10VEKJZ_TWxqBKimkeTWUmmYjivagMGZJ/view?usp=drivesdk.pdf\n"
     ]
    },
    {
     "name": "stderr",
     "output_type": "stream",
     "text": [
      "Downloading...\n",
      "From: https://drive.google.com/uc?id=10VEKJZ_TWxqBKimkeTWUmmYjivagMGZJ\n",
      "To: c:\\Users\\halom\\Desktop\\DSC180\\DSC180B-Capstone-Search\\data\\pdfs\\report_pdfs\\157_pdf.pdf\n",
      "100%|██████████| 244k/244k [00:00<00:00, 2.06MB/s]\n"
     ]
    },
    {
     "name": "stdout",
     "output_type": "stream",
     "text": [
      "File  157  downloaded\n",
      "158 https://drive.google.com/file/d/1TUuWDEPs1TEeCuTcY-LtLtfcw_kFS24s/view?usp=drivesdk.pdf\n"
     ]
    },
    {
     "name": "stderr",
     "output_type": "stream",
     "text": [
      "Downloading...\n",
      "From: https://drive.google.com/uc?id=1TUuWDEPs1TEeCuTcY-LtLtfcw_kFS24s\n",
      "To: c:\\Users\\halom\\Desktop\\DSC180\\DSC180B-Capstone-Search\\data\\pdfs\\report_pdfs\\158_pdf.pdf\n",
      "100%|██████████| 539k/539k [00:00<00:00, 3.57MB/s]\n"
     ]
    },
    {
     "name": "stdout",
     "output_type": "stream",
     "text": [
      "File  158  downloaded\n",
      "159 https://drive.google.com/file/d/1eONFMcJJvwlrkcfixxt8NG1B2SPe1DHx/view?usp=drivesdk.pdf\n"
     ]
    },
    {
     "name": "stderr",
     "output_type": "stream",
     "text": [
      "Downloading...\n",
      "From: https://drive.google.com/uc?id=1eONFMcJJvwlrkcfixxt8NG1B2SPe1DHx\n",
      "To: c:\\Users\\halom\\Desktop\\DSC180\\DSC180B-Capstone-Search\\data\\pdfs\\report_pdfs\\159_pdf.pdf\n",
      "100%|██████████| 1.18M/1.18M [00:00<00:00, 4.92MB/s]\n"
     ]
    },
    {
     "name": "stdout",
     "output_type": "stream",
     "text": [
      "File  159  downloaded\n",
      "160 https://drive.google.com/file/d/1YjHSnG9jfTCofcyjl8EZrzBSdz9eYk8R/view?usp=drivesdk.pdf\n"
     ]
    },
    {
     "name": "stderr",
     "output_type": "stream",
     "text": [
      "Downloading...\n",
      "From: https://drive.google.com/uc?id=1YjHSnG9jfTCofcyjl8EZrzBSdz9eYk8R\n",
      "To: c:\\Users\\halom\\Desktop\\DSC180\\DSC180B-Capstone-Search\\data\\pdfs\\report_pdfs\\160_pdf.pdf\n",
      "100%|██████████| 597k/597k [00:00<00:00, 3.89MB/s]\n"
     ]
    },
    {
     "name": "stdout",
     "output_type": "stream",
     "text": [
      "File  160  downloaded\n",
      "161 https://drive.google.com/file/d/1F_e-ptRl7zsudbJO6jYHvB0kJKAA8Nar/view?usp=drivesdk.pdf\n"
     ]
    },
    {
     "name": "stderr",
     "output_type": "stream",
     "text": [
      "Downloading...\n",
      "From: https://drive.google.com/uc?id=1F_e-ptRl7zsudbJO6jYHvB0kJKAA8Nar\n",
      "To: c:\\Users\\halom\\Desktop\\DSC180\\DSC180B-Capstone-Search\\data\\pdfs\\report_pdfs\\161_pdf.pdf\n",
      "100%|██████████| 1.27M/1.27M [00:00<00:00, 6.82MB/s]\n"
     ]
    },
    {
     "name": "stdout",
     "output_type": "stream",
     "text": [
      "File  161  downloaded\n",
      "162 https://drive.google.com/file/d/1-13kDfTIWbfim9yND-tpXNiTohEB-9wX/view?usp=drivesdk.pdf\n"
     ]
    },
    {
     "name": "stderr",
     "output_type": "stream",
     "text": [
      "Downloading...\n",
      "From: https://drive.google.com/uc?id=1-13kDfTIWbfim9yND-tpXNiTohEB-9wX\n",
      "To: c:\\Users\\halom\\Desktop\\DSC180\\DSC180B-Capstone-Search\\data\\pdfs\\report_pdfs\\162_pdf.pdf\n",
      "100%|██████████| 112k/112k [00:00<00:00, 1.37MB/s]\n"
     ]
    },
    {
     "name": "stdout",
     "output_type": "stream",
     "text": [
      "File  162  downloaded\n",
      "163 https://drive.google.com/file/d/1Dm5oS57lnDtHxpotyuWajDOmVW7vUStC/view?usp=drivesdk.pdf\n"
     ]
    },
    {
     "name": "stderr",
     "output_type": "stream",
     "text": [
      "Downloading...\n",
      "From: https://drive.google.com/uc?id=1Dm5oS57lnDtHxpotyuWajDOmVW7vUStC\n",
      "To: c:\\Users\\halom\\Desktop\\DSC180\\DSC180B-Capstone-Search\\data\\pdfs\\report_pdfs\\163_pdf.pdf\n",
      "100%|██████████| 555k/555k [00:00<00:00, 2.63MB/s]\n"
     ]
    },
    {
     "name": "stdout",
     "output_type": "stream",
     "text": [
      "File  163  downloaded\n",
      "164 https://drive.google.com/file/d/1Kr4Mn0JVtUvl0V7YFv8qJOQgKcr6ISD3/view?usp=drivesdk.pdf\n"
     ]
    },
    {
     "name": "stderr",
     "output_type": "stream",
     "text": [
      "Downloading...\n",
      "From: https://drive.google.com/uc?id=1Kr4Mn0JVtUvl0V7YFv8qJOQgKcr6ISD3\n",
      "To: c:\\Users\\halom\\Desktop\\DSC180\\DSC180B-Capstone-Search\\data\\pdfs\\report_pdfs\\164_pdf.pdf\n",
      "100%|██████████| 846k/846k [00:00<00:00, 4.62MB/s]\n"
     ]
    },
    {
     "name": "stdout",
     "output_type": "stream",
     "text": [
      "File  164  downloaded\n",
      "165 https://drive.google.com/file/d/1_pufwtThCU6DZEgdZi3Fg7z6kB9rjmT5/view?usp=drivesdk.pdf\n"
     ]
    },
    {
     "name": "stderr",
     "output_type": "stream",
     "text": [
      "Downloading...\n",
      "From: https://drive.google.com/uc?id=1_pufwtThCU6DZEgdZi3Fg7z6kB9rjmT5\n",
      "To: c:\\Users\\halom\\Desktop\\DSC180\\DSC180B-Capstone-Search\\data\\pdfs\\report_pdfs\\165_pdf.pdf\n",
      "100%|██████████| 974k/974k [00:00<00:00, 5.32MB/s]\n"
     ]
    },
    {
     "name": "stdout",
     "output_type": "stream",
     "text": [
      "File  165  downloaded\n",
      "166 https://drive.google.com/file/d/1IlZG5haE3QZom6ymYX4OvTgOxebMoy_y/view?usp=drivesdk.pdf\n"
     ]
    },
    {
     "name": "stderr",
     "output_type": "stream",
     "text": [
      "Downloading...\n",
      "From: https://drive.google.com/uc?id=1IlZG5haE3QZom6ymYX4OvTgOxebMoy_y\n",
      "To: c:\\Users\\halom\\Desktop\\DSC180\\DSC180B-Capstone-Search\\data\\pdfs\\report_pdfs\\166_pdf.pdf\n",
      "100%|██████████| 730k/730k [00:00<00:00, 3.12MB/s]\n"
     ]
    },
    {
     "name": "stdout",
     "output_type": "stream",
     "text": [
      "File  166  downloaded\n",
      "167 https://drive.google.com/file/d/15cgEj5b0Qrsmwh8P-SxaoedVC1DEMWfk/view?usp=drivesdk.pdf\n"
     ]
    },
    {
     "name": "stderr",
     "output_type": "stream",
     "text": [
      "Downloading...\n",
      "From: https://drive.google.com/uc?id=15cgEj5b0Qrsmwh8P-SxaoedVC1DEMWfk\n",
      "To: c:\\Users\\halom\\Desktop\\DSC180\\DSC180B-Capstone-Search\\data\\pdfs\\report_pdfs\\167_pdf.pdf\n",
      "100%|██████████| 2.42M/2.42M [00:00<00:00, 6.12MB/s]\n"
     ]
    },
    {
     "name": "stdout",
     "output_type": "stream",
     "text": [
      "File  167  downloaded\n",
      "168 https://drive.google.com/file/d/1wRnpncVJy-a9zYR1k7TOZbLjTeQi9e3Y/view?usp=drivesdk.pdf\n"
     ]
    },
    {
     "name": "stderr",
     "output_type": "stream",
     "text": [
      "Downloading...\n",
      "From: https://drive.google.com/uc?id=1wRnpncVJy-a9zYR1k7TOZbLjTeQi9e3Y\n",
      "To: c:\\Users\\halom\\Desktop\\DSC180\\DSC180B-Capstone-Search\\data\\pdfs\\report_pdfs\\168_pdf.pdf\n",
      "100%|██████████| 569k/569k [00:00<00:00, 3.71MB/s]\n"
     ]
    },
    {
     "name": "stdout",
     "output_type": "stream",
     "text": [
      "File  168  downloaded\n",
      "169 https://drive.google.com/file/d/1zVZjkvTNF8rxSSz1dwiSutFvN1W0_jPI/view?usp=drivesdk.pdf\n"
     ]
    },
    {
     "name": "stderr",
     "output_type": "stream",
     "text": [
      "Downloading...\n",
      "From: https://drive.google.com/uc?id=1zVZjkvTNF8rxSSz1dwiSutFvN1W0_jPI\n",
      "To: c:\\Users\\halom\\Desktop\\DSC180\\DSC180B-Capstone-Search\\data\\pdfs\\report_pdfs\\169_pdf.pdf\n",
      "100%|██████████| 140k/140k [00:00<00:00, 1.32MB/s]\n"
     ]
    },
    {
     "name": "stdout",
     "output_type": "stream",
     "text": [
      "File  169  downloaded\n",
      "170 https://drive.google.com/file/d/1R8tkqk4DWIop3H9xB_IiRIGu3Lg5xOhe/view?usp=drivesdk.pdf\n"
     ]
    },
    {
     "name": "stderr",
     "output_type": "stream",
     "text": [
      "Downloading...\n",
      "From: https://drive.google.com/uc?id=1R8tkqk4DWIop3H9xB_IiRIGu3Lg5xOhe\n",
      "To: c:\\Users\\halom\\Desktop\\DSC180\\DSC180B-Capstone-Search\\data\\pdfs\\report_pdfs\\170_pdf.pdf\n",
      "100%|██████████| 1.34M/1.34M [00:00<00:00, 6.05MB/s]\n"
     ]
    },
    {
     "name": "stdout",
     "output_type": "stream",
     "text": [
      "File  170  downloaded\n",
      "171 https://drive.google.com/file/d/1HsCqocF80rk7cEGDdJkHdA3CZ31IDtdn/view?usp=drivesdk.pdf\n"
     ]
    },
    {
     "name": "stderr",
     "output_type": "stream",
     "text": [
      "Downloading...\n",
      "From: https://drive.google.com/uc?id=1HsCqocF80rk7cEGDdJkHdA3CZ31IDtdn\n",
      "To: c:\\Users\\halom\\Desktop\\DSC180\\DSC180B-Capstone-Search\\data\\pdfs\\report_pdfs\\171_pdf.pdf\n",
      "100%|██████████| 501k/501k [00:00<00:00, 3.91MB/s]\n"
     ]
    },
    {
     "name": "stdout",
     "output_type": "stream",
     "text": [
      "File  171  downloaded\n",
      "172 https://drive.google.com/file/d/1Um2Om1pehjuR4XDSQUlWijJFlfhqBQIS/view?usp=drivesdk.pdf\n"
     ]
    },
    {
     "name": "stderr",
     "output_type": "stream",
     "text": [
      "Downloading...\n",
      "From: https://drive.google.com/uc?id=1Um2Om1pehjuR4XDSQUlWijJFlfhqBQIS\n",
      "To: c:\\Users\\halom\\Desktop\\DSC180\\DSC180B-Capstone-Search\\data\\pdfs\\report_pdfs\\172_pdf.pdf\n",
      "100%|██████████| 3.82M/3.82M [00:00<00:00, 7.44MB/s]\n"
     ]
    },
    {
     "name": "stdout",
     "output_type": "stream",
     "text": [
      "File  172  downloaded\n",
      "173 https://drive.google.com/file/d/1xj6vi8dZKx0cBooOAjohbmKgO3PuENPa/view?usp=drivesdk.pdf\n"
     ]
    },
    {
     "name": "stderr",
     "output_type": "stream",
     "text": [
      "Downloading...\n",
      "From: https://drive.google.com/uc?id=1xj6vi8dZKx0cBooOAjohbmKgO3PuENPa\n",
      "To: c:\\Users\\halom\\Desktop\\DSC180\\DSC180B-Capstone-Search\\data\\pdfs\\report_pdfs\\173_pdf.pdf\n",
      "100%|██████████| 3.51M/3.51M [00:00<00:00, 3.82MB/s]\n"
     ]
    },
    {
     "name": "stdout",
     "output_type": "stream",
     "text": [
      "File  173  downloaded\n",
      "174 https://drive.google.com/file/d/1R0hEK9u744ocJlsf6BsqoSnRFVauGoSW/view?usp=drivesdk.pdf\n"
     ]
    },
    {
     "name": "stderr",
     "output_type": "stream",
     "text": [
      "Downloading...\n",
      "From: https://drive.google.com/uc?id=1R0hEK9u744ocJlsf6BsqoSnRFVauGoSW\n",
      "To: c:\\Users\\halom\\Desktop\\DSC180\\DSC180B-Capstone-Search\\data\\pdfs\\report_pdfs\\174_pdf.pdf\n",
      "100%|██████████| 3.64M/3.64M [00:00<00:00, 6.31MB/s]\n"
     ]
    },
    {
     "name": "stdout",
     "output_type": "stream",
     "text": [
      "File  174  downloaded\n",
      "175 https://drive.google.com/file/d/1NhtymRlCO9NW-Awpr0l3zvNC_QlP097J/view?usp=drivesdk.pdf\n"
     ]
    },
    {
     "name": "stderr",
     "output_type": "stream",
     "text": [
      "Downloading...\n",
      "From: https://drive.google.com/uc?id=1NhtymRlCO9NW-Awpr0l3zvNC_QlP097J\n",
      "To: c:\\Users\\halom\\Desktop\\DSC180\\DSC180B-Capstone-Search\\data\\pdfs\\report_pdfs\\175_pdf.pdf\n",
      "100%|██████████| 1.96M/1.96M [00:00<00:00, 7.26MB/s]\n"
     ]
    },
    {
     "name": "stdout",
     "output_type": "stream",
     "text": [
      "File  175  downloaded\n",
      "176 https://drive.google.com/file/d/1m-95y-clbX19Tvfub6C1EVUfk67obBbd/view?usp=drivesdk.pdf\n"
     ]
    },
    {
     "name": "stderr",
     "output_type": "stream",
     "text": [
      "Downloading...\n",
      "From: https://drive.google.com/uc?id=1m-95y-clbX19Tvfub6C1EVUfk67obBbd\n",
      "To: c:\\Users\\halom\\Desktop\\DSC180\\DSC180B-Capstone-Search\\data\\pdfs\\report_pdfs\\176_pdf.pdf\n",
      "100%|██████████| 690k/690k [00:00<00:00, 2.20MB/s]\n"
     ]
    },
    {
     "name": "stdout",
     "output_type": "stream",
     "text": [
      "File  176  downloaded\n",
      "177 https://drive.google.com/file/d/1l730YKRmQcQK0-jmk4c8_E9EI8Q_Uq7q/view?usp=drivesdk.pdf\n"
     ]
    },
    {
     "name": "stderr",
     "output_type": "stream",
     "text": [
      "Downloading...\n",
      "From: https://drive.google.com/uc?id=1l730YKRmQcQK0-jmk4c8_E9EI8Q_Uq7q\n",
      "To: c:\\Users\\halom\\Desktop\\DSC180\\DSC180B-Capstone-Search\\data\\pdfs\\report_pdfs\\177_pdf.pdf\n",
      "100%|██████████| 13.7M/13.7M [00:01<00:00, 10.2MB/s]\n"
     ]
    },
    {
     "name": "stdout",
     "output_type": "stream",
     "text": [
      "File  177  downloaded\n",
      "178 https://drive.google.com/file/d/1fvD2c6gMAdjvUmZ2fkwSLuqElHt7y-cQ/view?usp=drivesdk.pdf\n"
     ]
    },
    {
     "name": "stderr",
     "output_type": "stream",
     "text": [
      "Downloading...\n",
      "From: https://drive.google.com/uc?id=1fvD2c6gMAdjvUmZ2fkwSLuqElHt7y-cQ\n",
      "To: c:\\Users\\halom\\Desktop\\DSC180\\DSC180B-Capstone-Search\\data\\pdfs\\report_pdfs\\178_pdf.pdf\n",
      "100%|██████████| 2.68M/2.68M [00:00<00:00, 3.58MB/s]\n"
     ]
    },
    {
     "name": "stdout",
     "output_type": "stream",
     "text": [
      "File  178  downloaded\n",
      "179 https://drive.google.com/file/d/1TIRdVPAMzYCFyY4q0k01z8i20_8jmRO-/view?usp=drivesdk.pdf\n"
     ]
    },
    {
     "name": "stderr",
     "output_type": "stream",
     "text": [
      "Downloading...\n",
      "From: https://drive.google.com/uc?id=1TIRdVPAMzYCFyY4q0k01z8i20_8jmRO-\n",
      "To: c:\\Users\\halom\\Desktop\\DSC180\\DSC180B-Capstone-Search\\data\\pdfs\\report_pdfs\\179_pdf.pdf\n",
      "100%|██████████| 645k/645k [00:00<00:00, 3.77MB/s]\n"
     ]
    },
    {
     "name": "stdout",
     "output_type": "stream",
     "text": [
      "File  179  downloaded\n",
      "180 https://drive.google.com/file/d/1ebad7RuKX5CAMirsm3eL_hmDdZgPB85D/view?usp=drivesdk.pdf\n"
     ]
    },
    {
     "name": "stderr",
     "output_type": "stream",
     "text": [
      "Downloading...\n",
      "From: https://drive.google.com/uc?id=1ebad7RuKX5CAMirsm3eL_hmDdZgPB85D\n",
      "To: c:\\Users\\halom\\Desktop\\DSC180\\DSC180B-Capstone-Search\\data\\pdfs\\report_pdfs\\180_pdf.pdf\n",
      "100%|██████████| 3.83M/3.83M [00:00<00:00, 9.31MB/s]\n"
     ]
    },
    {
     "name": "stdout",
     "output_type": "stream",
     "text": [
      "File  180  downloaded\n",
      "181 https://drive.google.com/file/d/1Jrr19qlQAOZJN7n52TEsev-bJ2nCXs35/view?usp=drivesdk.pdf\n"
     ]
    },
    {
     "name": "stderr",
     "output_type": "stream",
     "text": [
      "Downloading...\n",
      "From: https://drive.google.com/uc?id=1Jrr19qlQAOZJN7n52TEsev-bJ2nCXs35\n",
      "To: c:\\Users\\halom\\Desktop\\DSC180\\DSC180B-Capstone-Search\\data\\pdfs\\report_pdfs\\181_pdf.pdf\n",
      "100%|██████████| 10.7M/10.7M [00:01<00:00, 5.99MB/s]\n"
     ]
    },
    {
     "name": "stdout",
     "output_type": "stream",
     "text": [
      "File  181  downloaded\n",
      "182 https://drive.google.com/file/d/1iGsZFQrWNduOyzG-M47wgh95Kfgvs9oR/view?usp=drivesdk.pdf\n"
     ]
    },
    {
     "name": "stderr",
     "output_type": "stream",
     "text": [
      "Downloading...\n",
      "From: https://drive.google.com/uc?id=1iGsZFQrWNduOyzG-M47wgh95Kfgvs9oR\n",
      "To: c:\\Users\\halom\\Desktop\\DSC180\\DSC180B-Capstone-Search\\data\\pdfs\\report_pdfs\\182_pdf.pdf\n",
      "100%|██████████| 1.32M/1.32M [00:00<00:00, 5.43MB/s]\n"
     ]
    },
    {
     "name": "stdout",
     "output_type": "stream",
     "text": [
      "File  182  downloaded\n",
      "183 https://drive.google.com/file/d/18Fvo1gpB-MmCyFUwfMFYNxgwE4ugXaIM/view?usp=drivesdk.pdf\n"
     ]
    },
    {
     "name": "stderr",
     "output_type": "stream",
     "text": [
      "Downloading...\n",
      "From: https://drive.google.com/uc?id=18Fvo1gpB-MmCyFUwfMFYNxgwE4ugXaIM\n",
      "To: c:\\Users\\halom\\Desktop\\DSC180\\DSC180B-Capstone-Search\\data\\pdfs\\report_pdfs\\183_pdf.pdf\n",
      "100%|██████████| 247k/247k [00:00<00:00, 2.40MB/s]"
     ]
    },
    {
     "name": "stdout",
     "output_type": "stream",
     "text": [
      "File  183  downloaded\n"
     ]
    },
    {
     "name": "stderr",
     "output_type": "stream",
     "text": [
      "\n"
     ]
    }
   ],
   "source": [
    "\n",
    "\n",
    "    # response = requests.get(link)\n",
    "    # pdf = open(\"pdf\"+str(i)+\".pdf\", 'wb')\n",
    "    # pdf.write(response.content)\n",
    "    # pdf.close()\n",
    "   \n",
    "    "
   ]
  },
  {
   "cell_type": "code",
   "execution_count": null,
   "metadata": {},
   "outputs": [],
   "source": []
  },
  {
   "cell_type": "markdown",
   "metadata": {},
   "source": [
    "# Downloading posters"
   ]
  },
  {
   "cell_type": "code",
   "execution_count": 16,
   "metadata": {},
   "outputs": [
    {
     "data": {
      "text/plain": [
       "(['https://drive.google.com/file/d/1wyzuWBjGV1FWsr0bxHz5ml0VPE5hU7MS/view?usp=drivesdk',\n",
       "  'https://drive.google.com/file/d/1qNdCDuVi9iCtT_K80sjAAzl3AlYuNww1/view?usp=drivesdk',\n",
       "  'https://drive.google.com/file/d/1CptK273nCwx4fXM86fK3R5A-sVFzrxfL/view?usp=drivesdk',\n",
       "  'https://drive.google.com/file/d/1o4sLaCsXra1achSoUnr1Ym_56YwINxWw/view?usp=drivesdk',\n",
       "  'https://drive.google.com/file/d/1ye-njQP6-B3w0860eFhcCqgWDOGlClgl/view?usp=drivesdk',\n",
       "  'https://drive.google.com/file/d/1ygjGh_qmmjd8mi-vK1iNE1dA1QgAje3U/view?usp=drivesdk',\n",
       "  'https://drive.google.com/file/d/1aa5irUMdCY-Pe-P3WKA6H-zYESMau2qL/view?usp=drivesdk',\n",
       "  'https://drive.google.com/file/d/1i8Ujjdo-Jp6m2bO_zB-KN3S9DQSauJO1/view?usp=drivesdk',\n",
       "  'https://drive.google.com/file/d/1AffI7myw-qf1fGdqKxGZbazlY_7Gb4rw/view?usp=drivesdk',\n",
       "  'https://drive.google.com/file/d/1MUaHsWwEtzWefYMtEEhWLy0iv40ishuv/view?usp=drivesdk',\n",
       "  'https://drive.google.com/file/d/1kOeHboSKFNY3PiyqN6NLkHB9KsmdtSlb/view?usp=drivesdk',\n",
       "  'https://drive.google.com/file/d/1M7jZeyONCmcX7iyuN-xcikFsWJqQiOGm/view?usp=drivesdk',\n",
       "  'https://drive.google.com/file/d/19W2pH0bbXj1rGs7mfSV6ENo6TCIJOZk7/view?usp=drivesdk',\n",
       "  'https://drive.google.com/file/d/1iKGE2HfmKvYFZvRuB6oxed3C4vfjiW0q/view?usp=drivesdk',\n",
       "  'https://drive.google.com/file/d/1C0Dvh5BTlnEOotPIMtA_xKFm4WNzuTBX/view?usp=drivesdk',\n",
       "  'https://drive.google.com/file/d/1b4Wr6ltINa-Q44nwssO4qHwpL9llTJ2f/view?usp=drivesdk',\n",
       "  'https://drive.google.com/file/d/1zUP6ChZon1qe9DQKVbvIbz8Qq9cnBMok/view?usp=drivesdk',\n",
       "  'https://drive.google.com/file/d/1tKiHF_ltAvNAzFSAwpgmmbl7avw2M27I/view?usp=drivesdk',\n",
       "  'https://drive.google.com/file/d/1gIrmHNx2_GwLhDZ133HCNFn7FEU2dVIn/view?usp=drivesdk',\n",
       "  'https://drive.google.com/file/d/1NgGj4UpNht-vNUfaABUweVx21UsqxA48/view?usp=drivesdk',\n",
       "  'https://drive.google.com/file/d/1f0kCAG-FQWb3-6IWrJ1T9XNd7KO15ArF/view?usp=drivesdk',\n",
       "  'https://drive.google.com/file/d/1Z_sGXsESxykQD-AsoRo-1AnuJeaqQKR5/view?usp=drivesdk',\n",
       "  'https://drive.google.com/file/d/16u2GqZZZSz5l72ng758ZbQwmU24GRo36/view?usp=drivesdk',\n",
       "  'https://drive.google.com/file/d/1yBr5ZQ84aeFzGMUcrIXpWZ_Lpsuys4eh/view?usp=drivesdk',\n",
       "  'https://drive.google.com/file/d/1KtxBB9TybZwfkFu8zqbnGzST42aPkQN5/view?usp=drivesdk',\n",
       "  'https://drive.google.com/file/d/1vITeH0qZGgxF_Z0XJQ0dOaIJx_qTv5Nj/view?usp=drivesdk',\n",
       "  'https://drive.google.com/file/d/130Y3qjN2Cebh09qblp4o7mN3IWXZPcJy/view?usp=drivesdk',\n",
       "  'https://drive.google.com/file/d/1LVCq91qyz7mOgYmrz1iUlgvsiYosbfDX/view?usp=drivesdk',\n",
       "  'https://drive.google.com/file/d/12MgZATLwzI8YPPkRNufTYJvVKgMyPdfH/view?usp=drivesdk',\n",
       "  'https://drive.google.com/file/d/16df6AgzYgigNHRHZur8AZHEg7FTVAb7l/view?usp=drivesdk',\n",
       "  'https://drive.google.com/file/d/1DOY9-qMOsoCTTyfNKpg0BaX3MhXKZ_EM/view?usp=drivesdk',\n",
       "  'https://drive.google.com/file/d/1sjxEMrzplhf3KgLBxlC5IPeJza5qpJsn/view?usp=drivesdk',\n",
       "  'https://drive.google.com/file/d/1zPQEc08fNN-1eQBWr7ljxBEo4QJ6QvTu/view?usp=drivesdk',\n",
       "  'https://drive.google.com/file/d/1Qk1aTauN8f6v_Sz30doSAbByJLBF305S/view?usp=drivesdk',\n",
       "  'https://drive.google.com/file/d/1m3Gy5ldjGqiTkYX6XV3meAU44MSHP9dL/view?usp=drivesdk',\n",
       "  'https://drive.google.com/file/d/1_5LxtvDnnn0_wNrwpJSVRjxOmAf68b0J/view?usp=drivesdk',\n",
       "  'https://drive.google.com/file/d/1rZY_sfGIvEIO1drWLJLJGIVraNOPUC5L/view?usp=drivesdk',\n",
       "  'https://drive.google.com/file/d/1T6M5VM9Sk2oVjS5KWMFmPlLo1LKZBEyO/view?usp=drivesdk',\n",
       "  'https://drive.google.com/file/d/1V60ldBhs-OwgSTrZ9DR_Gj_p6F4VbcA_/view?usp=drivesdk',\n",
       "  'https://drive.google.com/file/d/1BjS6ZcwmB4TsGctyS56vNxZsTev8F0zF/view?usp=drivesdk',\n",
       "  'https://drive.google.com/file/d/16vgufdp9xgkmYjbAlJwZoexbTW92yI5Y/view?usp=drivesdk',\n",
       "  'https://drive.google.com/file/d/1nQ_0AhbD1kauLRnFW9l199gv_LEPr0Ec/view?usp=drivesdk',\n",
       "  'https://drive.google.com/file/d/1Sk7Ttb20bNryb6pgQ6DIOShOi1Fd6mGh/view?usp=drivesdk',\n",
       "  'https://drive.google.com/file/d/1GgUirexlnhHoCEwiy7qBLzJ-s4npSRWW/view?usp=drivesdk',\n",
       "  'https://drive.google.com/file/d/15XovpYw3eAMhe3RkNWX1NMKOYU56wHb0/view?usp=drivesdk',\n",
       "  'https://drive.google.com/file/d/1Fnf2VpkIiEIo0r51Q19Gcb6iA1KPj36L/view?usp=drivesdk',\n",
       "  'https://drive.google.com/file/d/1zuDZ1LgBUawGSnZ_qpPILettfygo343g/view?usp=drivesdk',\n",
       "  'https://drive.google.com/file/d/1_EPfHNOpa4htesHFZ66yNJtGSkJgSJLa/view?usp=drivesdk',\n",
       "  'https://drive.google.com/file/d/1Ri9haaMSME1uKvQQPZWmJemlTMuPRnok/view?usp=drivesdk',\n",
       "  'https://drive.google.com/file/d/1PRPiISiHrhC1dhesHjzwVfGtARPgiemu/view?usp=drivesdk',\n",
       "  'https://drive.google.com/file/d/1VsiIXG3CYeLJ-KCdiLdKLgavl5a5RE7o/view?usp=drivesdk',\n",
       "  'https://drive.google.com/file/d/1aHUgSted9FVi-XuNwBtiwZMyes6bn7JS/view?usp=drivesdk',\n",
       "  'https://drive.google.com/file/d/1d-ahdQEAwBxy_3mLM-QXOPNAIQ_TvAiN/view?usp=drivesdk',\n",
       "  'https://drive.google.com/file/d/13wPDo3P2QiyMIum-6sYac6VxIrPZs3mM/view?usp=drivesdk',\n",
       "  'https://drive.google.com/file/d/1XCZIBruco_yHtsCDHUuW436nVk9j5uwr/view?usp=drivesdk',\n",
       "  'https://drive.google.com/file/d/1u0os3BdglShvWXPNe6rX03_oWegFYE_w/view?usp=drivesdk',\n",
       "  'https://drive.google.com/file/d/1yJ2EiWQyIc9kA-kmm30YqsLdn3Lf_mCn/view?usp=drivesdk',\n",
       "  'https://drive.google.com/file/d/1prmyy4H3QmzCm-rJTiUBtl7bP1oX8H2V/view?usp=drivesdk',\n",
       "  'https://drive.google.com/file/d/1MRhqBWSuiBE9VimXrwj26__VRJsYxwXV/view?usp=drivesdk',\n",
       "  'https://drive.google.com/file/d/14TEEnKOWJT1jHdKgAvF_KTrH47dZ3eau/view?usp=drivesdk',\n",
       "  'https://drive.google.com/file/d/1UQg8NNSWwe62T7VlVmEUdwHZ9geA-cqz/view?usp=drivesdk',\n",
       "  'https://drive.google.com/file/d/1fmxXjlZmDWbdOV1L-jkvQLmwGpmatsnc/view?usp=drivesdk',\n",
       "  'https://drive.google.com/file/d/1eNoyy83jYJXLBQGPFG0bf-T8JxqVTqmU/view?usp=drivesdk',\n",
       "  'https://drive.google.com/file/d/1ZbUDECItRBHyN1bDyLNnCDWzydw5fNP3/view?usp=drivesdk',\n",
       "  'https://drive.google.com/file/d/1tiZzFn23mPv2GgIPWLb0iRCVGM1LPSMl/view?usp=drivesdk',\n",
       "  'https://drive.google.com/file/d/1eigxdOn-8DmRpTvWlt0zbq38hhGgg_DZ/view?usp=drivesdk'],\n",
       " 66)"
      ]
     },
     "execution_count": 16,
     "metadata": {},
     "output_type": "execute_result"
    }
   ],
   "source": [
    "deliverables_posters_list = deliverables_df[~deliverables_df[\"poster\"].isnull()][\"poster\"].tolist()\n",
    "deliverables_posters_list, len(deliverables_posters_list)\n",
    "\n",
    "poster_pdf_dict = {}\n",
    "for i, link in enumerate(deliverables_posters_list):\n",
    "    print(i, link)\n",
    "\n",
    "    try:\n",
    "        pdf_dict_string = f\"../data/pdfs/poster_pdfs/{i}_pdf.pdf\"\n",
    "        gdown.download(link, pdf_dict_string, quiet=False,fuzzy=True)\n",
    "        print(\"File \", i, \" downloaded\")\n",
    "    except urllib.request.HTTPError:\n",
    "        print(\"Error downloading pdf\")\n",
    "        pdf_dict_string = \"None\"\n",
    "    poster_pdf_dict[link] = pdf_dict_string\n"
   ]
  },
  {
   "cell_type": "code",
   "execution_count": null,
   "metadata": {},
   "outputs": [],
   "source": []
  },
  {
   "cell_type": "code",
   "execution_count": 31,
   "metadata": {},
   "outputs": [],
   "source": [
    "combDF_posterspdfs = comb_projectsDF[~comb_projectsDF[\"Posters\"].isnull()][\"Posters\"].tolist()"
   ]
  },
  {
   "cell_type": "code",
   "execution_count": 32,
   "metadata": {},
   "outputs": [
    {
     "data": {
      "text/plain": [
       "(['https://drive.google.com/file/d/1wyzuWBjGV1FWsr0bxHz5ml0VPE5hU7MS/view?usp=drivesdk',\n",
       "  'https://drive.google.com/file/d/1qNdCDuVi9iCtT_K80sjAAzl3AlYuNww1/view?usp=drivesdk',\n",
       "  'https://drive.google.com/file/d/1CptK273nCwx4fXM86fK3R5A-sVFzrxfL/view?usp=drivesdk',\n",
       "  'https://drive.google.com/file/d/1o4sLaCsXra1achSoUnr1Ym_56YwINxWw/view?usp=drivesdk',\n",
       "  'https://drive.google.com/file/d/1ye-njQP6-B3w0860eFhcCqgWDOGlClgl/view?usp=drivesdk',\n",
       "  'https://drive.google.com/file/d/1ygjGh_qmmjd8mi-vK1iNE1dA1QgAje3U/view?usp=drivesdk',\n",
       "  'https://drive.google.com/file/d/1aa5irUMdCY-Pe-P3WKA6H-zYESMau2qL/view?usp=drivesdk',\n",
       "  'https://drive.google.com/file/d/1i8Ujjdo-Jp6m2bO_zB-KN3S9DQSauJO1/view?usp=drivesdk',\n",
       "  'https://drive.google.com/file/d/1AffI7myw-qf1fGdqKxGZbazlY_7Gb4rw/view?usp=drivesdk',\n",
       "  'https://drive.google.com/file/d/1MUaHsWwEtzWefYMtEEhWLy0iv40ishuv/view?usp=drivesdk',\n",
       "  'https://drive.google.com/file/d/1kOeHboSKFNY3PiyqN6NLkHB9KsmdtSlb/view?usp=drivesdk',\n",
       "  'https://drive.google.com/file/d/1M7jZeyONCmcX7iyuN-xcikFsWJqQiOGm/view?usp=drivesdk',\n",
       "  'https://drive.google.com/file/d/19W2pH0bbXj1rGs7mfSV6ENo6TCIJOZk7/view?usp=drivesdk',\n",
       "  'https://drive.google.com/file/d/1iKGE2HfmKvYFZvRuB6oxed3C4vfjiW0q/view?usp=drivesdk',\n",
       "  'https://drive.google.com/file/d/1C0Dvh5BTlnEOotPIMtA_xKFm4WNzuTBX/view?usp=drivesdk',\n",
       "  'https://drive.google.com/file/d/1b4Wr6ltINa-Q44nwssO4qHwpL9llTJ2f/view?usp=drivesdk',\n",
       "  'https://drive.google.com/file/d/1zUP6ChZon1qe9DQKVbvIbz8Qq9cnBMok/view?usp=drivesdk',\n",
       "  'https://drive.google.com/file/d/1tKiHF_ltAvNAzFSAwpgmmbl7avw2M27I/view?usp=drivesdk',\n",
       "  'https://drive.google.com/file/d/1gIrmHNx2_GwLhDZ133HCNFn7FEU2dVIn/view?usp=drivesdk',\n",
       "  'https://drive.google.com/file/d/1NgGj4UpNht-vNUfaABUweVx21UsqxA48/view?usp=drivesdk',\n",
       "  'https://drive.google.com/file/d/1f0kCAG-FQWb3-6IWrJ1T9XNd7KO15ArF/view?usp=drivesdk',\n",
       "  'https://drive.google.com/file/d/1Z_sGXsESxykQD-AsoRo-1AnuJeaqQKR5/view?usp=drivesdk',\n",
       "  'https://drive.google.com/file/d/16u2GqZZZSz5l72ng758ZbQwmU24GRo36/view?usp=drivesdk',\n",
       "  'https://drive.google.com/file/d/1yBr5ZQ84aeFzGMUcrIXpWZ_Lpsuys4eh/view?usp=drivesdk',\n",
       "  'https://drive.google.com/file/d/1KtxBB9TybZwfkFu8zqbnGzST42aPkQN5/view?usp=drivesdk',\n",
       "  'https://drive.google.com/file/d/1vITeH0qZGgxF_Z0XJQ0dOaIJx_qTv5Nj/view?usp=drivesdk',\n",
       "  'https://drive.google.com/file/d/130Y3qjN2Cebh09qblp4o7mN3IWXZPcJy/view?usp=drivesdk',\n",
       "  'https://drive.google.com/file/d/1LVCq91qyz7mOgYmrz1iUlgvsiYosbfDX/view?usp=drivesdk',\n",
       "  'https://drive.google.com/file/d/12MgZATLwzI8YPPkRNufTYJvVKgMyPdfH/view?usp=drivesdk',\n",
       "  'https://drive.google.com/file/d/16df6AgzYgigNHRHZur8AZHEg7FTVAb7l/view?usp=drivesdk',\n",
       "  'https://drive.google.com/file/d/1DOY9-qMOsoCTTyfNKpg0BaX3MhXKZ_EM/view?usp=drivesdk',\n",
       "  'https://drive.google.com/file/d/1sjxEMrzplhf3KgLBxlC5IPeJza5qpJsn/view?usp=drivesdk',\n",
       "  'https://drive.google.com/file/d/1zPQEc08fNN-1eQBWr7ljxBEo4QJ6QvTu/view?usp=drivesdk',\n",
       "  'https://drive.google.com/file/d/1Qk1aTauN8f6v_Sz30doSAbByJLBF305S/view?usp=drivesdk',\n",
       "  'https://drive.google.com/file/d/1m3Gy5ldjGqiTkYX6XV3meAU44MSHP9dL/view?usp=drivesdk',\n",
       "  'https://drive.google.com/file/d/1_5LxtvDnnn0_wNrwpJSVRjxOmAf68b0J/view?usp=drivesdk',\n",
       "  'https://drive.google.com/file/d/1rZY_sfGIvEIO1drWLJLJGIVraNOPUC5L/view?usp=drivesdk',\n",
       "  'https://drive.google.com/file/d/1T6M5VM9Sk2oVjS5KWMFmPlLo1LKZBEyO/view?usp=drivesdk',\n",
       "  'https://drive.google.com/file/d/1V60ldBhs-OwgSTrZ9DR_Gj_p6F4VbcA_/view?usp=drivesdk',\n",
       "  'https://drive.google.com/file/d/1BjS6ZcwmB4TsGctyS56vNxZsTev8F0zF/view?usp=drivesdk',\n",
       "  'https://drive.google.com/file/d/16vgufdp9xgkmYjbAlJwZoexbTW92yI5Y/view?usp=drivesdk',\n",
       "  'https://drive.google.com/file/d/1nQ_0AhbD1kauLRnFW9l199gv_LEPr0Ec/view?usp=drivesdk',\n",
       "  'https://drive.google.com/file/d/1Sk7Ttb20bNryb6pgQ6DIOShOi1Fd6mGh/view?usp=drivesdk',\n",
       "  'https://drive.google.com/file/d/1GgUirexlnhHoCEwiy7qBLzJ-s4npSRWW/view?usp=drivesdk',\n",
       "  'https://drive.google.com/file/d/15XovpYw3eAMhe3RkNWX1NMKOYU56wHb0/view?usp=drivesdk',\n",
       "  'https://drive.google.com/file/d/1Fnf2VpkIiEIo0r51Q19Gcb6iA1KPj36L/view?usp=drivesdk',\n",
       "  'https://drive.google.com/file/d/1zuDZ1LgBUawGSnZ_qpPILettfygo343g/view?usp=drivesdk',\n",
       "  'https://drive.google.com/file/d/1_EPfHNOpa4htesHFZ66yNJtGSkJgSJLa/view?usp=drivesdk',\n",
       "  'https://drive.google.com/file/d/1Ri9haaMSME1uKvQQPZWmJemlTMuPRnok/view?usp=drivesdk',\n",
       "  'https://drive.google.com/file/d/1PRPiISiHrhC1dhesHjzwVfGtARPgiemu/view?usp=drivesdk',\n",
       "  'https://drive.google.com/file/d/1VsiIXG3CYeLJ-KCdiLdKLgavl5a5RE7o/view?usp=drivesdk',\n",
       "  'https://drive.google.com/file/d/1aHUgSted9FVi-XuNwBtiwZMyes6bn7JS/view?usp=drivesdk',\n",
       "  'https://drive.google.com/file/d/1d-ahdQEAwBxy_3mLM-QXOPNAIQ_TvAiN/view?usp=drivesdk',\n",
       "  'https://drive.google.com/file/d/13wPDo3P2QiyMIum-6sYac6VxIrPZs3mM/view?usp=drivesdk',\n",
       "  'https://drive.google.com/file/d/1XCZIBruco_yHtsCDHUuW436nVk9j5uwr/view?usp=drivesdk',\n",
       "  'https://drive.google.com/file/d/1u0os3BdglShvWXPNe6rX03_oWegFYE_w/view?usp=drivesdk',\n",
       "  'https://drive.google.com/file/d/1yJ2EiWQyIc9kA-kmm30YqsLdn3Lf_mCn/view?usp=drivesdk',\n",
       "  'https://drive.google.com/file/d/1prmyy4H3QmzCm-rJTiUBtl7bP1oX8H2V/view?usp=drivesdk',\n",
       "  'https://drive.google.com/file/d/1MRhqBWSuiBE9VimXrwj26__VRJsYxwXV/view?usp=drivesdk',\n",
       "  'https://drive.google.com/file/d/14TEEnKOWJT1jHdKgAvF_KTrH47dZ3eau/view?usp=drivesdk',\n",
       "  'https://drive.google.com/file/d/1UQg8NNSWwe62T7VlVmEUdwHZ9geA-cqz/view?usp=drivesdk',\n",
       "  'https://drive.google.com/file/d/1fmxXjlZmDWbdOV1L-jkvQLmwGpmatsnc/view?usp=drivesdk',\n",
       "  'https://drive.google.com/file/d/1eNoyy83jYJXLBQGPFG0bf-T8JxqVTqmU/view?usp=drivesdk',\n",
       "  'https://drive.google.com/file/d/1ZbUDECItRBHyN1bDyLNnCDWzydw5fNP3/view?usp=drivesdk',\n",
       "  'https://drive.google.com/file/d/1tiZzFn23mPv2GgIPWLb0iRCVGM1LPSMl/view?usp=drivesdk',\n",
       "  'https://drive.google.com/file/d/1eigxdOn-8DmRpTvWlt0zbq38hhGgg_DZ/view?usp=drivesdk'],\n",
       " 66)"
      ]
     },
     "execution_count": 32,
     "metadata": {},
     "output_type": "execute_result"
    }
   ],
   "source": [
    "combDF_posterspdfs, len(combDF_posterspdfs)"
   ]
  },
  {
   "cell_type": "code",
   "execution_count": 33,
   "metadata": {},
   "outputs": [
    {
     "name": "stdout",
     "output_type": "stream",
     "text": [
      "0 https://drive.google.com/file/d/1wyzuWBjGV1FWsr0bxHz5ml0VPE5hU7MS/view?usp=drivesdk\n"
     ]
    },
    {
     "name": "stderr",
     "output_type": "stream",
     "text": [
      "Downloading...\n",
      "From: https://drive.google.com/uc?id=1wyzuWBjGV1FWsr0bxHz5ml0VPE5hU7MS\n",
      "To: c:\\Users\\halom\\Desktop\\DSC180\\DSC180B-Capstone-Search\\data\\pdfs\\poster_pdfs\\0_pdf.pdf\n",
      "100%|██████████| 19.5M/19.5M [00:33<00:00, 579kB/s]\n"
     ]
    },
    {
     "name": "stdout",
     "output_type": "stream",
     "text": [
      "File  0  downloaded\n",
      "1 https://drive.google.com/file/d/1qNdCDuVi9iCtT_K80sjAAzl3AlYuNww1/view?usp=drivesdk\n"
     ]
    },
    {
     "name": "stderr",
     "output_type": "stream",
     "text": [
      "Downloading...\n",
      "From: https://drive.google.com/uc?id=1qNdCDuVi9iCtT_K80sjAAzl3AlYuNww1\n",
      "To: c:\\Users\\halom\\Desktop\\DSC180\\DSC180B-Capstone-Search\\data\\pdfs\\poster_pdfs\\1_pdf.pdf\n",
      "100%|██████████| 2.21M/2.21M [00:02<00:00, 945kB/s]\n"
     ]
    },
    {
     "name": "stdout",
     "output_type": "stream",
     "text": [
      "File  1  downloaded\n",
      "2 https://drive.google.com/file/d/1CptK273nCwx4fXM86fK3R5A-sVFzrxfL/view?usp=drivesdk\n"
     ]
    },
    {
     "name": "stderr",
     "output_type": "stream",
     "text": [
      "Downloading...\n",
      "From: https://drive.google.com/uc?id=1CptK273nCwx4fXM86fK3R5A-sVFzrxfL\n",
      "To: c:\\Users\\halom\\Desktop\\DSC180\\DSC180B-Capstone-Search\\data\\pdfs\\poster_pdfs\\2_pdf.pdf\n",
      "100%|██████████| 3.74M/3.74M [00:03<00:00, 1.02MB/s]\n"
     ]
    },
    {
     "name": "stdout",
     "output_type": "stream",
     "text": [
      "File  2  downloaded\n",
      "3 https://drive.google.com/file/d/1o4sLaCsXra1achSoUnr1Ym_56YwINxWw/view?usp=drivesdk\n"
     ]
    },
    {
     "name": "stderr",
     "output_type": "stream",
     "text": [
      "Downloading...\n",
      "From: https://drive.google.com/uc?id=1o4sLaCsXra1achSoUnr1Ym_56YwINxWw\n",
      "To: c:\\Users\\halom\\Desktop\\DSC180\\DSC180B-Capstone-Search\\data\\pdfs\\poster_pdfs\\3_pdf.pdf\n",
      "100%|██████████| 1.54M/1.54M [00:01<00:00, 1.01MB/s]\n"
     ]
    },
    {
     "name": "stdout",
     "output_type": "stream",
     "text": [
      "File  3  downloaded\n",
      "4 https://drive.google.com/file/d/1ye-njQP6-B3w0860eFhcCqgWDOGlClgl/view?usp=drivesdk\n"
     ]
    },
    {
     "name": "stderr",
     "output_type": "stream",
     "text": [
      "Downloading...\n",
      "From: https://drive.google.com/uc?id=1ye-njQP6-B3w0860eFhcCqgWDOGlClgl\n",
      "To: c:\\Users\\halom\\Desktop\\DSC180\\DSC180B-Capstone-Search\\data\\pdfs\\poster_pdfs\\4_pdf.pdf\n",
      "100%|██████████| 445k/445k [00:00<00:00, 632kB/s]\n"
     ]
    },
    {
     "name": "stdout",
     "output_type": "stream",
     "text": [
      "File  4  downloaded\n",
      "5 https://drive.google.com/file/d/1ygjGh_qmmjd8mi-vK1iNE1dA1QgAje3U/view?usp=drivesdk\n"
     ]
    },
    {
     "name": "stderr",
     "output_type": "stream",
     "text": [
      "Downloading...\n",
      "From: https://drive.google.com/uc?id=1ygjGh_qmmjd8mi-vK1iNE1dA1QgAje3U\n",
      "To: c:\\Users\\halom\\Desktop\\DSC180\\DSC180B-Capstone-Search\\data\\pdfs\\poster_pdfs\\5_pdf.pdf\n",
      "100%|██████████| 540k/540k [00:00<00:00, 874kB/s]\n"
     ]
    },
    {
     "name": "stdout",
     "output_type": "stream",
     "text": [
      "File  5  downloaded\n",
      "6 https://drive.google.com/file/d/1aa5irUMdCY-Pe-P3WKA6H-zYESMau2qL/view?usp=drivesdk\n"
     ]
    },
    {
     "name": "stderr",
     "output_type": "stream",
     "text": [
      "Downloading...\n",
      "From: https://drive.google.com/uc?id=1aa5irUMdCY-Pe-P3WKA6H-zYESMau2qL\n",
      "To: c:\\Users\\halom\\Desktop\\DSC180\\DSC180B-Capstone-Search\\data\\pdfs\\poster_pdfs\\6_pdf.pdf\n",
      "100%|██████████| 692k/692k [00:01<00:00, 686kB/s]\n"
     ]
    },
    {
     "name": "stdout",
     "output_type": "stream",
     "text": [
      "File  6  downloaded\n",
      "7 https://drive.google.com/file/d/1i8Ujjdo-Jp6m2bO_zB-KN3S9DQSauJO1/view?usp=drivesdk\n"
     ]
    },
    {
     "name": "stderr",
     "output_type": "stream",
     "text": [
      "Downloading...\n",
      "From: https://drive.google.com/uc?id=1i8Ujjdo-Jp6m2bO_zB-KN3S9DQSauJO1\n",
      "To: c:\\Users\\halom\\Desktop\\DSC180\\DSC180B-Capstone-Search\\data\\pdfs\\poster_pdfs\\7_pdf.pdf\n",
      "100%|██████████| 4.91M/4.91M [00:08<00:00, 611kB/s]\n"
     ]
    },
    {
     "name": "stdout",
     "output_type": "stream",
     "text": [
      "File  7  downloaded\n",
      "8 https://drive.google.com/file/d/1AffI7myw-qf1fGdqKxGZbazlY_7Gb4rw/view?usp=drivesdk\n"
     ]
    },
    {
     "name": "stderr",
     "output_type": "stream",
     "text": [
      "Downloading...\n",
      "From: https://drive.google.com/uc?id=1AffI7myw-qf1fGdqKxGZbazlY_7Gb4rw\n",
      "To: c:\\Users\\halom\\Desktop\\DSC180\\DSC180B-Capstone-Search\\data\\pdfs\\poster_pdfs\\8_pdf.pdf\n",
      "100%|██████████| 10.2M/10.2M [00:29<00:00, 347kB/s]\n"
     ]
    },
    {
     "name": "stdout",
     "output_type": "stream",
     "text": [
      "File  8  downloaded\n",
      "9 https://drive.google.com/file/d/1MUaHsWwEtzWefYMtEEhWLy0iv40ishuv/view?usp=drivesdk\n"
     ]
    },
    {
     "name": "stderr",
     "output_type": "stream",
     "text": [
      "Downloading...\n",
      "From: https://drive.google.com/uc?id=1MUaHsWwEtzWefYMtEEhWLy0iv40ishuv\n",
      "To: c:\\Users\\halom\\Desktop\\DSC180\\DSC180B-Capstone-Search\\data\\pdfs\\poster_pdfs\\9_pdf.pdf\n",
      "100%|██████████| 724k/724k [00:00<00:00, 916kB/s]\n"
     ]
    },
    {
     "name": "stdout",
     "output_type": "stream",
     "text": [
      "File  9  downloaded\n",
      "10 https://drive.google.com/file/d/1kOeHboSKFNY3PiyqN6NLkHB9KsmdtSlb/view?usp=drivesdk\n"
     ]
    },
    {
     "name": "stderr",
     "output_type": "stream",
     "text": [
      "Downloading...\n",
      "From: https://drive.google.com/uc?id=1kOeHboSKFNY3PiyqN6NLkHB9KsmdtSlb\n",
      "To: c:\\Users\\halom\\Desktop\\DSC180\\DSC180B-Capstone-Search\\data\\pdfs\\poster_pdfs\\10_pdf.pdf\n",
      "100%|██████████| 884k/884k [00:03<00:00, 263kB/s]\n"
     ]
    },
    {
     "name": "stdout",
     "output_type": "stream",
     "text": [
      "File  10  downloaded\n",
      "11 https://drive.google.com/file/d/1M7jZeyONCmcX7iyuN-xcikFsWJqQiOGm/view?usp=drivesdk\n"
     ]
    },
    {
     "name": "stderr",
     "output_type": "stream",
     "text": [
      "Downloading...\n",
      "From: https://drive.google.com/uc?id=1M7jZeyONCmcX7iyuN-xcikFsWJqQiOGm\n",
      "To: c:\\Users\\halom\\Desktop\\DSC180\\DSC180B-Capstone-Search\\data\\pdfs\\poster_pdfs\\11_pdf.pdf\n",
      "100%|██████████| 6.94M/6.94M [00:15<00:00, 461kB/s]\n"
     ]
    },
    {
     "name": "stdout",
     "output_type": "stream",
     "text": [
      "File  11  downloaded\n",
      "12 https://drive.google.com/file/d/19W2pH0bbXj1rGs7mfSV6ENo6TCIJOZk7/view?usp=drivesdk\n"
     ]
    },
    {
     "name": "stderr",
     "output_type": "stream",
     "text": [
      "Downloading...\n",
      "From: https://drive.google.com/uc?id=19W2pH0bbXj1rGs7mfSV6ENo6TCIJOZk7\n",
      "To: c:\\Users\\halom\\Desktop\\DSC180\\DSC180B-Capstone-Search\\data\\pdfs\\poster_pdfs\\12_pdf.pdf\n",
      "100%|██████████| 417k/417k [00:00<00:00, 556kB/s]\n"
     ]
    },
    {
     "name": "stdout",
     "output_type": "stream",
     "text": [
      "File  12  downloaded\n",
      "13 https://drive.google.com/file/d/1iKGE2HfmKvYFZvRuB6oxed3C4vfjiW0q/view?usp=drivesdk\n"
     ]
    },
    {
     "name": "stderr",
     "output_type": "stream",
     "text": [
      "Downloading...\n",
      "From: https://drive.google.com/uc?id=1iKGE2HfmKvYFZvRuB6oxed3C4vfjiW0q\n",
      "To: c:\\Users\\halom\\Desktop\\DSC180\\DSC180B-Capstone-Search\\data\\pdfs\\poster_pdfs\\13_pdf.pdf\n",
      "100%|██████████| 808k/808k [00:01<00:00, 436kB/s]\n"
     ]
    },
    {
     "name": "stdout",
     "output_type": "stream",
     "text": [
      "File  13  downloaded\n",
      "14 https://drive.google.com/file/d/1C0Dvh5BTlnEOotPIMtA_xKFm4WNzuTBX/view?usp=drivesdk\n"
     ]
    },
    {
     "name": "stderr",
     "output_type": "stream",
     "text": [
      "Downloading...\n",
      "From: https://drive.google.com/uc?id=1C0Dvh5BTlnEOotPIMtA_xKFm4WNzuTBX\n",
      "To: c:\\Users\\halom\\Desktop\\DSC180\\DSC180B-Capstone-Search\\data\\pdfs\\poster_pdfs\\14_pdf.pdf\n",
      "100%|██████████| 4.70M/4.70M [00:04<00:00, 1.03MB/s]\n"
     ]
    },
    {
     "name": "stdout",
     "output_type": "stream",
     "text": [
      "File  14  downloaded\n",
      "15 https://drive.google.com/file/d/1b4Wr6ltINa-Q44nwssO4qHwpL9llTJ2f/view?usp=drivesdk\n"
     ]
    },
    {
     "name": "stderr",
     "output_type": "stream",
     "text": [
      "Downloading...\n",
      "From: https://drive.google.com/uc?id=1b4Wr6ltINa-Q44nwssO4qHwpL9llTJ2f\n",
      "To: c:\\Users\\halom\\Desktop\\DSC180\\DSC180B-Capstone-Search\\data\\pdfs\\poster_pdfs\\15_pdf.pdf\n",
      "100%|██████████| 1.87M/1.87M [00:01<00:00, 1.17MB/s]\n"
     ]
    },
    {
     "name": "stdout",
     "output_type": "stream",
     "text": [
      "File  15  downloaded\n",
      "16 https://drive.google.com/file/d/1zUP6ChZon1qe9DQKVbvIbz8Qq9cnBMok/view?usp=drivesdk\n"
     ]
    },
    {
     "name": "stderr",
     "output_type": "stream",
     "text": [
      "Downloading...\n",
      "From: https://drive.google.com/uc?id=1zUP6ChZon1qe9DQKVbvIbz8Qq9cnBMok\n",
      "To: c:\\Users\\halom\\Desktop\\DSC180\\DSC180B-Capstone-Search\\data\\pdfs\\poster_pdfs\\16_pdf.pdf\n",
      "100%|██████████| 808k/808k [00:00<00:00, 1.93MB/s]\n"
     ]
    },
    {
     "name": "stdout",
     "output_type": "stream",
     "text": [
      "File  16  downloaded\n",
      "17 https://drive.google.com/file/d/1tKiHF_ltAvNAzFSAwpgmmbl7avw2M27I/view?usp=drivesdk\n"
     ]
    },
    {
     "name": "stderr",
     "output_type": "stream",
     "text": [
      "Downloading...\n",
      "From: https://drive.google.com/uc?id=1tKiHF_ltAvNAzFSAwpgmmbl7avw2M27I\n",
      "To: c:\\Users\\halom\\Desktop\\DSC180\\DSC180B-Capstone-Search\\data\\pdfs\\poster_pdfs\\17_pdf.pdf\n",
      "100%|██████████| 1.15M/1.15M [00:01<00:00, 808kB/s]\n"
     ]
    },
    {
     "name": "stdout",
     "output_type": "stream",
     "text": [
      "File  17  downloaded\n",
      "18 https://drive.google.com/file/d/1gIrmHNx2_GwLhDZ133HCNFn7FEU2dVIn/view?usp=drivesdk\n"
     ]
    },
    {
     "name": "stderr",
     "output_type": "stream",
     "text": [
      "Downloading...\n",
      "From (original): https://drive.google.com/uc?id=1gIrmHNx2_GwLhDZ133HCNFn7FEU2dVIn\n",
      "From (redirected): https://drive.google.com/uc?id=1gIrmHNx2_GwLhDZ133HCNFn7FEU2dVIn&confirm=t&uuid=9940710f-05db-4005-bfa2-0bad7e272875\n",
      "To: c:\\Users\\halom\\Desktop\\DSC180\\DSC180B-Capstone-Search\\data\\pdfs\\poster_pdfs\\18_pdf.pdf\n",
      "100%|██████████| 122M/122M [02:52<00:00, 710kB/s]  \n"
     ]
    },
    {
     "name": "stdout",
     "output_type": "stream",
     "text": [
      "File  18  downloaded\n",
      "19 https://drive.google.com/file/d/1NgGj4UpNht-vNUfaABUweVx21UsqxA48/view?usp=drivesdk\n"
     ]
    },
    {
     "name": "stderr",
     "output_type": "stream",
     "text": [
      "Downloading...\n",
      "From: https://drive.google.com/uc?id=1NgGj4UpNht-vNUfaABUweVx21UsqxA48\n",
      "To: c:\\Users\\halom\\Desktop\\DSC180\\DSC180B-Capstone-Search\\data\\pdfs\\poster_pdfs\\19_pdf.pdf\n",
      "100%|██████████| 1.95M/1.95M [00:00<00:00, 2.15MB/s]\n"
     ]
    },
    {
     "name": "stdout",
     "output_type": "stream",
     "text": [
      "File  19  downloaded\n",
      "20 https://drive.google.com/file/d/1f0kCAG-FQWb3-6IWrJ1T9XNd7KO15ArF/view?usp=drivesdk\n"
     ]
    },
    {
     "name": "stderr",
     "output_type": "stream",
     "text": [
      "Downloading...\n",
      "From: https://drive.google.com/uc?id=1f0kCAG-FQWb3-6IWrJ1T9XNd7KO15ArF\n",
      "To: c:\\Users\\halom\\Desktop\\DSC180\\DSC180B-Capstone-Search\\data\\pdfs\\poster_pdfs\\20_pdf.pdf\n",
      "100%|██████████| 4.25M/4.25M [00:06<00:00, 708kB/s]\n"
     ]
    },
    {
     "name": "stdout",
     "output_type": "stream",
     "text": [
      "File  20  downloaded\n",
      "21 https://drive.google.com/file/d/1Z_sGXsESxykQD-AsoRo-1AnuJeaqQKR5/view?usp=drivesdk\n"
     ]
    },
    {
     "name": "stderr",
     "output_type": "stream",
     "text": [
      "Downloading...\n",
      "From: https://drive.google.com/uc?id=1Z_sGXsESxykQD-AsoRo-1AnuJeaqQKR5\n",
      "To: c:\\Users\\halom\\Desktop\\DSC180\\DSC180B-Capstone-Search\\data\\pdfs\\poster_pdfs\\21_pdf.pdf\n",
      "100%|██████████| 585k/585k [00:00<00:00, 1.20MB/s]\n"
     ]
    },
    {
     "name": "stdout",
     "output_type": "stream",
     "text": [
      "File  21  downloaded\n",
      "22 https://drive.google.com/file/d/16u2GqZZZSz5l72ng758ZbQwmU24GRo36/view?usp=drivesdk\n"
     ]
    },
    {
     "name": "stderr",
     "output_type": "stream",
     "text": [
      "Downloading...\n",
      "From: https://drive.google.com/uc?id=16u2GqZZZSz5l72ng758ZbQwmU24GRo36\n",
      "To: c:\\Users\\halom\\Desktop\\DSC180\\DSC180B-Capstone-Search\\data\\pdfs\\poster_pdfs\\22_pdf.pdf\n",
      "100%|██████████| 1.45M/1.45M [00:01<00:00, 873kB/s] \n"
     ]
    },
    {
     "name": "stdout",
     "output_type": "stream",
     "text": [
      "File  22  downloaded\n",
      "23 https://drive.google.com/file/d/1yBr5ZQ84aeFzGMUcrIXpWZ_Lpsuys4eh/view?usp=drivesdk\n"
     ]
    },
    {
     "name": "stderr",
     "output_type": "stream",
     "text": [
      "Downloading...\n",
      "From: https://drive.google.com/uc?id=1yBr5ZQ84aeFzGMUcrIXpWZ_Lpsuys4eh\n",
      "To: c:\\Users\\halom\\Desktop\\DSC180\\DSC180B-Capstone-Search\\data\\pdfs\\poster_pdfs\\23_pdf.pdf\n",
      "100%|██████████| 4.12M/4.12M [00:08<00:00, 505kB/s]\n"
     ]
    },
    {
     "name": "stdout",
     "output_type": "stream",
     "text": [
      "File  23  downloaded\n",
      "24 https://drive.google.com/file/d/1KtxBB9TybZwfkFu8zqbnGzST42aPkQN5/view?usp=drivesdk\n"
     ]
    },
    {
     "name": "stderr",
     "output_type": "stream",
     "text": [
      "Downloading...\n",
      "From: https://drive.google.com/uc?id=1KtxBB9TybZwfkFu8zqbnGzST42aPkQN5\n",
      "To: c:\\Users\\halom\\Desktop\\DSC180\\DSC180B-Capstone-Search\\data\\pdfs\\poster_pdfs\\24_pdf.pdf\n",
      "100%|██████████| 401k/401k [00:00<00:00, 856kB/s]\n"
     ]
    },
    {
     "name": "stdout",
     "output_type": "stream",
     "text": [
      "File  24  downloaded\n",
      "25 https://drive.google.com/file/d/1vITeH0qZGgxF_Z0XJQ0dOaIJx_qTv5Nj/view?usp=drivesdk\n"
     ]
    },
    {
     "name": "stderr",
     "output_type": "stream",
     "text": [
      "Downloading...\n",
      "From: https://drive.google.com/uc?id=1vITeH0qZGgxF_Z0XJQ0dOaIJx_qTv5Nj\n",
      "To: c:\\Users\\halom\\Desktop\\DSC180\\DSC180B-Capstone-Search\\data\\pdfs\\poster_pdfs\\25_pdf.pdf\n",
      "100%|██████████| 4.45M/4.45M [00:04<00:00, 956kB/s] \n"
     ]
    },
    {
     "name": "stdout",
     "output_type": "stream",
     "text": [
      "File  25  downloaded\n",
      "26 https://drive.google.com/file/d/130Y3qjN2Cebh09qblp4o7mN3IWXZPcJy/view?usp=drivesdk\n"
     ]
    },
    {
     "name": "stderr",
     "output_type": "stream",
     "text": [
      "Downloading...\n",
      "From: https://drive.google.com/uc?id=130Y3qjN2Cebh09qblp4o7mN3IWXZPcJy\n",
      "To: c:\\Users\\halom\\Desktop\\DSC180\\DSC180B-Capstone-Search\\data\\pdfs\\poster_pdfs\\26_pdf.pdf\n",
      "100%|██████████| 3.81M/3.81M [00:02<00:00, 1.37MB/s]\n"
     ]
    },
    {
     "name": "stdout",
     "output_type": "stream",
     "text": [
      "File  26  downloaded\n",
      "27 https://drive.google.com/file/d/1LVCq91qyz7mOgYmrz1iUlgvsiYosbfDX/view?usp=drivesdk\n"
     ]
    },
    {
     "name": "stderr",
     "output_type": "stream",
     "text": [
      "Downloading...\n",
      "From: https://drive.google.com/uc?id=1LVCq91qyz7mOgYmrz1iUlgvsiYosbfDX\n",
      "To: c:\\Users\\halom\\Desktop\\DSC180\\DSC180B-Capstone-Search\\data\\pdfs\\poster_pdfs\\27_pdf.pdf\n",
      "100%|██████████| 3.81M/3.81M [00:03<00:00, 1.19MB/s]\n"
     ]
    },
    {
     "name": "stdout",
     "output_type": "stream",
     "text": [
      "File  27  downloaded\n",
      "28 https://drive.google.com/file/d/12MgZATLwzI8YPPkRNufTYJvVKgMyPdfH/view?usp=drivesdk\n"
     ]
    },
    {
     "name": "stderr",
     "output_type": "stream",
     "text": [
      "Downloading...\n",
      "From: https://drive.google.com/uc?id=12MgZATLwzI8YPPkRNufTYJvVKgMyPdfH\n",
      "To: c:\\Users\\halom\\Desktop\\DSC180\\DSC180B-Capstone-Search\\data\\pdfs\\poster_pdfs\\28_pdf.pdf\n",
      "100%|██████████| 537k/537k [00:00<00:00, 1.13MB/s]\n"
     ]
    },
    {
     "name": "stdout",
     "output_type": "stream",
     "text": [
      "File  28  downloaded\n",
      "29 https://drive.google.com/file/d/16df6AgzYgigNHRHZur8AZHEg7FTVAb7l/view?usp=drivesdk\n"
     ]
    },
    {
     "name": "stderr",
     "output_type": "stream",
     "text": [
      "Downloading...\n",
      "From: https://drive.google.com/uc?id=16df6AgzYgigNHRHZur8AZHEg7FTVAb7l\n",
      "To: c:\\Users\\halom\\Desktop\\DSC180\\DSC180B-Capstone-Search\\data\\pdfs\\poster_pdfs\\29_pdf.pdf\n",
      "100%|██████████| 508k/508k [00:00<00:00, 946kB/s]\n"
     ]
    },
    {
     "name": "stdout",
     "output_type": "stream",
     "text": [
      "File  29  downloaded\n",
      "30 https://drive.google.com/file/d/1DOY9-qMOsoCTTyfNKpg0BaX3MhXKZ_EM/view?usp=drivesdk\n"
     ]
    },
    {
     "name": "stderr",
     "output_type": "stream",
     "text": [
      "Downloading...\n",
      "From: https://drive.google.com/uc?id=1DOY9-qMOsoCTTyfNKpg0BaX3MhXKZ_EM\n",
      "To: c:\\Users\\halom\\Desktop\\DSC180\\DSC180B-Capstone-Search\\data\\pdfs\\poster_pdfs\\30_pdf.pdf\n",
      "100%|██████████| 2.38M/2.38M [00:01<00:00, 1.75MB/s]\n"
     ]
    },
    {
     "name": "stdout",
     "output_type": "stream",
     "text": [
      "File  30  downloaded\n",
      "31 https://drive.google.com/file/d/1sjxEMrzplhf3KgLBxlC5IPeJza5qpJsn/view?usp=drivesdk\n"
     ]
    },
    {
     "name": "stderr",
     "output_type": "stream",
     "text": [
      "Downloading...\n",
      "From: https://drive.google.com/uc?id=1sjxEMrzplhf3KgLBxlC5IPeJza5qpJsn\n",
      "To: c:\\Users\\halom\\Desktop\\DSC180\\DSC180B-Capstone-Search\\data\\pdfs\\poster_pdfs\\31_pdf.pdf\n",
      "100%|██████████| 12.1M/12.1M [00:18<00:00, 647kB/s] \n"
     ]
    },
    {
     "name": "stdout",
     "output_type": "stream",
     "text": [
      "File  31  downloaded\n",
      "32 https://drive.google.com/file/d/1zPQEc08fNN-1eQBWr7ljxBEo4QJ6QvTu/view?usp=drivesdk\n"
     ]
    },
    {
     "name": "stderr",
     "output_type": "stream",
     "text": [
      "Downloading...\n",
      "From: https://drive.google.com/uc?id=1zPQEc08fNN-1eQBWr7ljxBEo4QJ6QvTu\n",
      "To: c:\\Users\\halom\\Desktop\\DSC180\\DSC180B-Capstone-Search\\data\\pdfs\\poster_pdfs\\32_pdf.pdf\n",
      "100%|██████████| 223k/223k [00:00<00:00, 447kB/s]\n"
     ]
    },
    {
     "name": "stdout",
     "output_type": "stream",
     "text": [
      "File  32  downloaded\n",
      "33 https://drive.google.com/file/d/1Qk1aTauN8f6v_Sz30doSAbByJLBF305S/view?usp=drivesdk\n"
     ]
    },
    {
     "name": "stderr",
     "output_type": "stream",
     "text": [
      "Downloading...\n",
      "From: https://drive.google.com/uc?id=1Qk1aTauN8f6v_Sz30doSAbByJLBF305S\n",
      "To: c:\\Users\\halom\\Desktop\\DSC180\\DSC180B-Capstone-Search\\data\\pdfs\\poster_pdfs\\33_pdf.pdf\n",
      "100%|██████████| 1.75M/1.75M [00:01<00:00, 1.17MB/s]\n"
     ]
    },
    {
     "name": "stdout",
     "output_type": "stream",
     "text": [
      "File  33  downloaded\n",
      "34 https://drive.google.com/file/d/1m3Gy5ldjGqiTkYX6XV3meAU44MSHP9dL/view?usp=drivesdk\n"
     ]
    },
    {
     "name": "stderr",
     "output_type": "stream",
     "text": [
      "Downloading...\n",
      "From: https://drive.google.com/uc?id=1m3Gy5ldjGqiTkYX6XV3meAU44MSHP9dL\n",
      "To: c:\\Users\\halom\\Desktop\\DSC180\\DSC180B-Capstone-Search\\data\\pdfs\\poster_pdfs\\34_pdf.pdf\n",
      "100%|██████████| 258k/258k [00:00<00:00, 1.43MB/s]\n"
     ]
    },
    {
     "name": "stdout",
     "output_type": "stream",
     "text": [
      "File  34  downloaded\n",
      "35 https://drive.google.com/file/d/1_5LxtvDnnn0_wNrwpJSVRjxOmAf68b0J/view?usp=drivesdk\n"
     ]
    },
    {
     "name": "stderr",
     "output_type": "stream",
     "text": [
      "Downloading...\n",
      "From: https://drive.google.com/uc?id=1_5LxtvDnnn0_wNrwpJSVRjxOmAf68b0J\n",
      "To: c:\\Users\\halom\\Desktop\\DSC180\\DSC180B-Capstone-Search\\data\\pdfs\\poster_pdfs\\35_pdf.pdf\n",
      "100%|██████████| 1.38M/1.38M [00:02<00:00, 515kB/s]\n"
     ]
    },
    {
     "name": "stdout",
     "output_type": "stream",
     "text": [
      "File  35  downloaded\n",
      "36 https://drive.google.com/file/d/1rZY_sfGIvEIO1drWLJLJGIVraNOPUC5L/view?usp=drivesdk\n"
     ]
    },
    {
     "name": "stderr",
     "output_type": "stream",
     "text": [
      "Downloading...\n",
      "From: https://drive.google.com/uc?id=1rZY_sfGIvEIO1drWLJLJGIVraNOPUC5L\n",
      "To: c:\\Users\\halom\\Desktop\\DSC180\\DSC180B-Capstone-Search\\data\\pdfs\\poster_pdfs\\36_pdf.pdf\n",
      "100%|██████████| 1.09M/1.09M [00:01<00:00, 959kB/s]\n"
     ]
    },
    {
     "name": "stdout",
     "output_type": "stream",
     "text": [
      "File  36  downloaded\n",
      "37 https://drive.google.com/file/d/1T6M5VM9Sk2oVjS5KWMFmPlLo1LKZBEyO/view?usp=drivesdk\n"
     ]
    },
    {
     "name": "stderr",
     "output_type": "stream",
     "text": [
      "Downloading...\n",
      "From: https://drive.google.com/uc?id=1T6M5VM9Sk2oVjS5KWMFmPlLo1LKZBEyO\n",
      "To: c:\\Users\\halom\\Desktop\\DSC180\\DSC180B-Capstone-Search\\data\\pdfs\\poster_pdfs\\37_pdf.pdf\n",
      "100%|██████████| 488k/488k [00:00<00:00, 940kB/s]\n"
     ]
    },
    {
     "name": "stdout",
     "output_type": "stream",
     "text": [
      "File  37  downloaded\n",
      "38 https://drive.google.com/file/d/1V60ldBhs-OwgSTrZ9DR_Gj_p6F4VbcA_/view?usp=drivesdk\n"
     ]
    },
    {
     "name": "stderr",
     "output_type": "stream",
     "text": [
      "Downloading...\n",
      "From: https://drive.google.com/uc?id=1V60ldBhs-OwgSTrZ9DR_Gj_p6F4VbcA_\n",
      "To: c:\\Users\\halom\\Desktop\\DSC180\\DSC180B-Capstone-Search\\data\\pdfs\\poster_pdfs\\38_pdf.pdf\n",
      "100%|██████████| 256k/256k [00:00<00:00, 1.75MB/s]\n"
     ]
    },
    {
     "name": "stdout",
     "output_type": "stream",
     "text": [
      "File  38  downloaded\n",
      "39 https://drive.google.com/file/d/1BjS6ZcwmB4TsGctyS56vNxZsTev8F0zF/view?usp=drivesdk\n"
     ]
    },
    {
     "name": "stderr",
     "output_type": "stream",
     "text": [
      "Downloading...\n",
      "From: https://drive.google.com/uc?id=1BjS6ZcwmB4TsGctyS56vNxZsTev8F0zF\n",
      "To: c:\\Users\\halom\\Desktop\\DSC180\\DSC180B-Capstone-Search\\data\\pdfs\\poster_pdfs\\39_pdf.pdf\n",
      "100%|██████████| 410k/410k [00:00<00:00, 1.31MB/s]\n"
     ]
    },
    {
     "name": "stdout",
     "output_type": "stream",
     "text": [
      "File  39  downloaded\n",
      "40 https://drive.google.com/file/d/16vgufdp9xgkmYjbAlJwZoexbTW92yI5Y/view?usp=drivesdk\n"
     ]
    },
    {
     "name": "stderr",
     "output_type": "stream",
     "text": [
      "Downloading...\n",
      "From: https://drive.google.com/uc?id=16vgufdp9xgkmYjbAlJwZoexbTW92yI5Y\n",
      "To: c:\\Users\\halom\\Desktop\\DSC180\\DSC180B-Capstone-Search\\data\\pdfs\\poster_pdfs\\40_pdf.pdf\n",
      "100%|██████████| 423k/423k [00:00<00:00, 458kB/s]\n"
     ]
    },
    {
     "name": "stdout",
     "output_type": "stream",
     "text": [
      "File  40  downloaded\n",
      "41 https://drive.google.com/file/d/1nQ_0AhbD1kauLRnFW9l199gv_LEPr0Ec/view?usp=drivesdk\n"
     ]
    },
    {
     "name": "stderr",
     "output_type": "stream",
     "text": [
      "Downloading...\n",
      "From: https://drive.google.com/uc?id=1nQ_0AhbD1kauLRnFW9l199gv_LEPr0Ec\n",
      "To: c:\\Users\\halom\\Desktop\\DSC180\\DSC180B-Capstone-Search\\data\\pdfs\\poster_pdfs\\41_pdf.pdf\n",
      "100%|██████████| 738k/738k [00:01<00:00, 697kB/s]\n"
     ]
    },
    {
     "name": "stdout",
     "output_type": "stream",
     "text": [
      "File  41  downloaded\n",
      "42 https://drive.google.com/file/d/1Sk7Ttb20bNryb6pgQ6DIOShOi1Fd6mGh/view?usp=drivesdk\n"
     ]
    },
    {
     "name": "stderr",
     "output_type": "stream",
     "text": [
      "Downloading...\n",
      "From: https://drive.google.com/uc?id=1Sk7Ttb20bNryb6pgQ6DIOShOi1Fd6mGh\n",
      "To: c:\\Users\\halom\\Desktop\\DSC180\\DSC180B-Capstone-Search\\data\\pdfs\\poster_pdfs\\42_pdf.pdf\n",
      "100%|██████████| 1.35M/1.35M [00:02<00:00, 584kB/s]\n"
     ]
    },
    {
     "name": "stdout",
     "output_type": "stream",
     "text": [
      "File  42  downloaded\n",
      "43 https://drive.google.com/file/d/1GgUirexlnhHoCEwiy7qBLzJ-s4npSRWW/view?usp=drivesdk\n"
     ]
    },
    {
     "name": "stderr",
     "output_type": "stream",
     "text": [
      "Downloading...\n",
      "From: https://drive.google.com/uc?id=1GgUirexlnhHoCEwiy7qBLzJ-s4npSRWW\n",
      "To: c:\\Users\\halom\\Desktop\\DSC180\\DSC180B-Capstone-Search\\data\\pdfs\\poster_pdfs\\43_pdf.pdf\n",
      "100%|██████████| 1.01M/1.01M [00:01<00:00, 717kB/s]\n"
     ]
    },
    {
     "name": "stdout",
     "output_type": "stream",
     "text": [
      "File  43  downloaded\n",
      "44 https://drive.google.com/file/d/15XovpYw3eAMhe3RkNWX1NMKOYU56wHb0/view?usp=drivesdk\n"
     ]
    },
    {
     "name": "stderr",
     "output_type": "stream",
     "text": [
      "Downloading...\n",
      "From: https://drive.google.com/uc?id=15XovpYw3eAMhe3RkNWX1NMKOYU56wHb0\n",
      "To: c:\\Users\\halom\\Desktop\\DSC180\\DSC180B-Capstone-Search\\data\\pdfs\\poster_pdfs\\44_pdf.pdf\n",
      "100%|██████████| 198k/198k [00:00<00:00, 1.37MB/s]\n"
     ]
    },
    {
     "name": "stdout",
     "output_type": "stream",
     "text": [
      "File  44  downloaded\n",
      "45 https://drive.google.com/file/d/1Fnf2VpkIiEIo0r51Q19Gcb6iA1KPj36L/view?usp=drivesdk\n"
     ]
    },
    {
     "name": "stderr",
     "output_type": "stream",
     "text": [
      "Downloading...\n",
      "From: https://drive.google.com/uc?id=1Fnf2VpkIiEIo0r51Q19Gcb6iA1KPj36L\n",
      "To: c:\\Users\\halom\\Desktop\\DSC180\\DSC180B-Capstone-Search\\data\\pdfs\\poster_pdfs\\45_pdf.pdf\n",
      "100%|██████████| 4.47M/4.47M [00:03<00:00, 1.38MB/s]\n"
     ]
    },
    {
     "name": "stdout",
     "output_type": "stream",
     "text": [
      "File  45  downloaded\n",
      "46 https://drive.google.com/file/d/1zuDZ1LgBUawGSnZ_qpPILettfygo343g/view?usp=drivesdk\n"
     ]
    },
    {
     "name": "stderr",
     "output_type": "stream",
     "text": [
      "Downloading...\n",
      "From: https://drive.google.com/uc?id=1zuDZ1LgBUawGSnZ_qpPILettfygo343g\n",
      "To: c:\\Users\\halom\\Desktop\\DSC180\\DSC180B-Capstone-Search\\data\\pdfs\\poster_pdfs\\46_pdf.pdf\n",
      "100%|██████████| 1.40M/1.40M [00:00<00:00, 2.03MB/s]\n"
     ]
    },
    {
     "name": "stdout",
     "output_type": "stream",
     "text": [
      "File  46  downloaded\n",
      "47 https://drive.google.com/file/d/1_EPfHNOpa4htesHFZ66yNJtGSkJgSJLa/view?usp=drivesdk\n"
     ]
    },
    {
     "name": "stderr",
     "output_type": "stream",
     "text": [
      "Downloading...\n",
      "From: https://drive.google.com/uc?id=1_EPfHNOpa4htesHFZ66yNJtGSkJgSJLa\n",
      "To: c:\\Users\\halom\\Desktop\\DSC180\\DSC180B-Capstone-Search\\data\\pdfs\\poster_pdfs\\47_pdf.pdf\n",
      "100%|██████████| 5.45M/5.45M [00:04<00:00, 1.23MB/s]\n"
     ]
    },
    {
     "name": "stdout",
     "output_type": "stream",
     "text": [
      "File  47  downloaded\n",
      "48 https://drive.google.com/file/d/1Ri9haaMSME1uKvQQPZWmJemlTMuPRnok/view?usp=drivesdk\n"
     ]
    },
    {
     "name": "stderr",
     "output_type": "stream",
     "text": [
      "Downloading...\n",
      "From: https://drive.google.com/uc?id=1Ri9haaMSME1uKvQQPZWmJemlTMuPRnok\n",
      "To: c:\\Users\\halom\\Desktop\\DSC180\\DSC180B-Capstone-Search\\data\\pdfs\\poster_pdfs\\48_pdf.pdf\n",
      "100%|██████████| 7.76M/7.76M [00:13<00:00, 590kB/s] \n"
     ]
    },
    {
     "name": "stdout",
     "output_type": "stream",
     "text": [
      "File  48  downloaded\n",
      "49 https://drive.google.com/file/d/1PRPiISiHrhC1dhesHjzwVfGtARPgiemu/view?usp=drivesdk\n"
     ]
    },
    {
     "name": "stderr",
     "output_type": "stream",
     "text": [
      "Downloading...\n",
      "From: https://drive.google.com/uc?id=1PRPiISiHrhC1dhesHjzwVfGtARPgiemu\n",
      "To: c:\\Users\\halom\\Desktop\\DSC180\\DSC180B-Capstone-Search\\data\\pdfs\\poster_pdfs\\49_pdf.pdf\n",
      "100%|██████████| 2.43M/2.43M [00:02<00:00, 951kB/s] \n"
     ]
    },
    {
     "name": "stdout",
     "output_type": "stream",
     "text": [
      "File  49  downloaded\n",
      "50 https://drive.google.com/file/d/1VsiIXG3CYeLJ-KCdiLdKLgavl5a5RE7o/view?usp=drivesdk\n"
     ]
    },
    {
     "name": "stderr",
     "output_type": "stream",
     "text": [
      "Downloading...\n",
      "From: https://drive.google.com/uc?id=1VsiIXG3CYeLJ-KCdiLdKLgavl5a5RE7o\n",
      "To: c:\\Users\\halom\\Desktop\\DSC180\\DSC180B-Capstone-Search\\data\\pdfs\\poster_pdfs\\50_pdf.pdf\n",
      "100%|██████████| 1.12M/1.12M [00:01<00:00, 819kB/s]\n"
     ]
    },
    {
     "name": "stdout",
     "output_type": "stream",
     "text": [
      "File  50  downloaded\n",
      "51 https://drive.google.com/file/d/1aHUgSted9FVi-XuNwBtiwZMyes6bn7JS/view?usp=drivesdk\n"
     ]
    },
    {
     "name": "stderr",
     "output_type": "stream",
     "text": [
      "Downloading...\n",
      "From: https://drive.google.com/uc?id=1aHUgSted9FVi-XuNwBtiwZMyes6bn7JS\n",
      "To: c:\\Users\\halom\\Desktop\\DSC180\\DSC180B-Capstone-Search\\data\\pdfs\\poster_pdfs\\51_pdf.pdf\n",
      "100%|██████████| 319k/319k [00:00<00:00, 1.38MB/s]\n"
     ]
    },
    {
     "name": "stdout",
     "output_type": "stream",
     "text": [
      "File  51  downloaded\n",
      "52 https://drive.google.com/file/d/1d-ahdQEAwBxy_3mLM-QXOPNAIQ_TvAiN/view?usp=drivesdk\n"
     ]
    },
    {
     "name": "stderr",
     "output_type": "stream",
     "text": [
      "Downloading...\n",
      "From: https://drive.google.com/uc?id=1d-ahdQEAwBxy_3mLM-QXOPNAIQ_TvAiN\n",
      "To: c:\\Users\\halom\\Desktop\\DSC180\\DSC180B-Capstone-Search\\data\\pdfs\\poster_pdfs\\52_pdf.pdf\n",
      "100%|██████████| 9.75M/9.75M [00:10<00:00, 957kB/s] \n"
     ]
    },
    {
     "name": "stdout",
     "output_type": "stream",
     "text": [
      "File  52  downloaded\n",
      "53 https://drive.google.com/file/d/13wPDo3P2QiyMIum-6sYac6VxIrPZs3mM/view?usp=drivesdk\n"
     ]
    },
    {
     "name": "stderr",
     "output_type": "stream",
     "text": [
      "Downloading...\n",
      "From: https://drive.google.com/uc?id=13wPDo3P2QiyMIum-6sYac6VxIrPZs3mM\n",
      "To: c:\\Users\\halom\\Desktop\\DSC180\\DSC180B-Capstone-Search\\data\\pdfs\\poster_pdfs\\53_pdf.pdf\n",
      "100%|██████████| 2.63M/2.63M [00:02<00:00, 1.28MB/s]\n"
     ]
    },
    {
     "name": "stdout",
     "output_type": "stream",
     "text": [
      "File  53  downloaded\n",
      "54 https://drive.google.com/file/d/1XCZIBruco_yHtsCDHUuW436nVk9j5uwr/view?usp=drivesdk\n"
     ]
    },
    {
     "name": "stderr",
     "output_type": "stream",
     "text": [
      "Downloading...\n",
      "From: https://drive.google.com/uc?id=1XCZIBruco_yHtsCDHUuW436nVk9j5uwr\n",
      "To: c:\\Users\\halom\\Desktop\\DSC180\\DSC180B-Capstone-Search\\data\\pdfs\\poster_pdfs\\54_pdf.pdf\n",
      "100%|██████████| 1.45M/1.45M [00:01<00:00, 948kB/s]\n"
     ]
    },
    {
     "name": "stdout",
     "output_type": "stream",
     "text": [
      "File  54  downloaded\n",
      "55 https://drive.google.com/file/d/1u0os3BdglShvWXPNe6rX03_oWegFYE_w/view?usp=drivesdk\n"
     ]
    },
    {
     "name": "stderr",
     "output_type": "stream",
     "text": [
      "Downloading...\n",
      "From: https://drive.google.com/uc?id=1u0os3BdglShvWXPNe6rX03_oWegFYE_w\n",
      "To: c:\\Users\\halom\\Desktop\\DSC180\\DSC180B-Capstone-Search\\data\\pdfs\\poster_pdfs\\55_pdf.pdf\n",
      "100%|██████████| 2.40M/2.40M [00:02<00:00, 1.01MB/s]\n"
     ]
    },
    {
     "name": "stdout",
     "output_type": "stream",
     "text": [
      "File  55  downloaded\n",
      "56 https://drive.google.com/file/d/1yJ2EiWQyIc9kA-kmm30YqsLdn3Lf_mCn/view?usp=drivesdk\n"
     ]
    },
    {
     "name": "stderr",
     "output_type": "stream",
     "text": [
      "Downloading...\n",
      "From: https://drive.google.com/uc?id=1yJ2EiWQyIc9kA-kmm30YqsLdn3Lf_mCn\n",
      "To: c:\\Users\\halom\\Desktop\\DSC180\\DSC180B-Capstone-Search\\data\\pdfs\\poster_pdfs\\56_pdf.pdf\n",
      "100%|██████████| 3.94M/3.94M [00:05<00:00, 727kB/s]\n"
     ]
    },
    {
     "name": "stdout",
     "output_type": "stream",
     "text": [
      "File  56  downloaded\n",
      "57 https://drive.google.com/file/d/1prmyy4H3QmzCm-rJTiUBtl7bP1oX8H2V/view?usp=drivesdk\n"
     ]
    },
    {
     "name": "stderr",
     "output_type": "stream",
     "text": [
      "Downloading...\n",
      "From: https://drive.google.com/uc?id=1prmyy4H3QmzCm-rJTiUBtl7bP1oX8H2V\n",
      "To: c:\\Users\\halom\\Desktop\\DSC180\\DSC180B-Capstone-Search\\data\\pdfs\\poster_pdfs\\57_pdf.pdf\n",
      "100%|██████████| 4.98M/4.98M [00:07<00:00, 649kB/s] \n"
     ]
    },
    {
     "name": "stdout",
     "output_type": "stream",
     "text": [
      "File  57  downloaded\n",
      "58 https://drive.google.com/file/d/1MRhqBWSuiBE9VimXrwj26__VRJsYxwXV/view?usp=drivesdk\n"
     ]
    },
    {
     "name": "stderr",
     "output_type": "stream",
     "text": [
      "Downloading...\n",
      "From: https://drive.google.com/uc?id=1MRhqBWSuiBE9VimXrwj26__VRJsYxwXV\n",
      "To: c:\\Users\\halom\\Desktop\\DSC180\\DSC180B-Capstone-Search\\data\\pdfs\\poster_pdfs\\58_pdf.pdf\n",
      "100%|██████████| 1.28M/1.28M [00:02<00:00, 506kB/s]\n"
     ]
    },
    {
     "name": "stdout",
     "output_type": "stream",
     "text": [
      "File  58  downloaded\n",
      "59 https://drive.google.com/file/d/14TEEnKOWJT1jHdKgAvF_KTrH47dZ3eau/view?usp=drivesdk\n"
     ]
    },
    {
     "name": "stderr",
     "output_type": "stream",
     "text": [
      "Downloading...\n",
      "From: https://drive.google.com/uc?id=14TEEnKOWJT1jHdKgAvF_KTrH47dZ3eau\n",
      "To: c:\\Users\\halom\\Desktop\\DSC180\\DSC180B-Capstone-Search\\data\\pdfs\\poster_pdfs\\59_pdf.pdf\n",
      "100%|██████████| 4.08M/4.08M [00:08<00:00, 469kB/s]\n"
     ]
    },
    {
     "name": "stdout",
     "output_type": "stream",
     "text": [
      "File  59  downloaded\n",
      "60 https://drive.google.com/file/d/1UQg8NNSWwe62T7VlVmEUdwHZ9geA-cqz/view?usp=drivesdk\n"
     ]
    },
    {
     "name": "stderr",
     "output_type": "stream",
     "text": [
      "Downloading...\n",
      "From: https://drive.google.com/uc?id=1UQg8NNSWwe62T7VlVmEUdwHZ9geA-cqz\n",
      "To: c:\\Users\\halom\\Desktop\\DSC180\\DSC180B-Capstone-Search\\data\\pdfs\\poster_pdfs\\60_pdf.pdf\n",
      "100%|██████████| 11.2M/11.2M [00:13<00:00, 823kB/s] \n"
     ]
    },
    {
     "name": "stdout",
     "output_type": "stream",
     "text": [
      "File  60  downloaded\n",
      "61 https://drive.google.com/file/d/1fmxXjlZmDWbdOV1L-jkvQLmwGpmatsnc/view?usp=drivesdk\n"
     ]
    },
    {
     "name": "stderr",
     "output_type": "stream",
     "text": [
      "Downloading...\n",
      "From: https://drive.google.com/uc?id=1fmxXjlZmDWbdOV1L-jkvQLmwGpmatsnc\n",
      "To: c:\\Users\\halom\\Desktop\\DSC180\\DSC180B-Capstone-Search\\data\\pdfs\\poster_pdfs\\61_pdf.pdf\n",
      "100%|██████████| 480k/480k [00:00<00:00, 1.15MB/s]\n"
     ]
    },
    {
     "name": "stdout",
     "output_type": "stream",
     "text": [
      "File  61  downloaded\n",
      "62 https://drive.google.com/file/d/1eNoyy83jYJXLBQGPFG0bf-T8JxqVTqmU/view?usp=drivesdk\n"
     ]
    },
    {
     "name": "stderr",
     "output_type": "stream",
     "text": [
      "Downloading...\n",
      "From: https://drive.google.com/uc?id=1eNoyy83jYJXLBQGPFG0bf-T8JxqVTqmU\n",
      "To: c:\\Users\\halom\\Desktop\\DSC180\\DSC180B-Capstone-Search\\data\\pdfs\\poster_pdfs\\62_pdf.pdf\n",
      "100%|██████████| 286k/286k [00:00<00:00, 972kB/s]\n"
     ]
    },
    {
     "name": "stdout",
     "output_type": "stream",
     "text": [
      "File  62  downloaded\n",
      "63 https://drive.google.com/file/d/1ZbUDECItRBHyN1bDyLNnCDWzydw5fNP3/view?usp=drivesdk\n"
     ]
    },
    {
     "name": "stderr",
     "output_type": "stream",
     "text": [
      "Downloading...\n",
      "From: https://drive.google.com/uc?id=1ZbUDECItRBHyN1bDyLNnCDWzydw5fNP3\n",
      "To: c:\\Users\\halom\\Desktop\\DSC180\\DSC180B-Capstone-Search\\data\\pdfs\\poster_pdfs\\63_pdf.pdf\n",
      "100%|██████████| 1.46M/1.46M [00:01<00:00, 1.09MB/s]\n"
     ]
    },
    {
     "name": "stdout",
     "output_type": "stream",
     "text": [
      "File  63  downloaded\n",
      "64 https://drive.google.com/file/d/1tiZzFn23mPv2GgIPWLb0iRCVGM1LPSMl/view?usp=drivesdk\n"
     ]
    },
    {
     "name": "stderr",
     "output_type": "stream",
     "text": [
      "Downloading...\n",
      "From: https://drive.google.com/uc?id=1tiZzFn23mPv2GgIPWLb0iRCVGM1LPSMl\n",
      "To: c:\\Users\\halom\\Desktop\\DSC180\\DSC180B-Capstone-Search\\data\\pdfs\\poster_pdfs\\64_pdf.pdf\n",
      "100%|██████████| 1.99M/1.99M [00:04<00:00, 421kB/s]\n"
     ]
    },
    {
     "name": "stdout",
     "output_type": "stream",
     "text": [
      "File  64  downloaded\n",
      "65 https://drive.google.com/file/d/1eigxdOn-8DmRpTvWlt0zbq38hhGgg_DZ/view?usp=drivesdk\n"
     ]
    },
    {
     "name": "stderr",
     "output_type": "stream",
     "text": [
      "Downloading...\n",
      "From: https://drive.google.com/uc?id=1eigxdOn-8DmRpTvWlt0zbq38hhGgg_DZ\n",
      "To: c:\\Users\\halom\\Desktop\\DSC180\\DSC180B-Capstone-Search\\data\\pdfs\\poster_pdfs\\65_pdf.pdf\n",
      "100%|██████████| 4.70M/4.70M [00:05<00:00, 921kB/s] "
     ]
    },
    {
     "name": "stdout",
     "output_type": "stream",
     "text": [
      "File  65  downloaded\n"
     ]
    },
    {
     "name": "stderr",
     "output_type": "stream",
     "text": [
      "\n"
     ]
    }
   ],
   "source": [
    "poster_pdf_dict = {}\n",
    "for i, link in enumerate(deliverables_posters_list):\n",
    "    print(i, link)\n",
    "\n",
    "    try:\n",
    "        pdf_dict_string = f\"../data/pdfs/poster_pdfs/{i}_pdf.pdf\"\n",
    "        gdown.download(link, pdf_dict_string, quiet=False,fuzzy=True)\n",
    "        print(\"File \", i, \" downloaded\")\n",
    "    except urllib.request.HTTPError:\n",
    "        print(\"Error downloading pdf\")\n",
    "        pdf_dict_string = \"None\"\n",
    "    poster_pdf_dict[link] = pdf_dict_string\n"
   ]
  },
  {
   "cell_type": "code",
   "execution_count": 36,
   "metadata": {},
   "outputs": [
    {
     "data": {
      "text/plain": [
       "{'https://drive.google.com/file/d/1wyzuWBjGV1FWsr0bxHz5ml0VPE5hU7MS/view?usp=drivesdk': '../data/pdfs/poster_pdfs/0_pdf.pdf',\n",
       " 'https://drive.google.com/file/d/1qNdCDuVi9iCtT_K80sjAAzl3AlYuNww1/view?usp=drivesdk': '../data/pdfs/poster_pdfs/1_pdf.pdf',\n",
       " 'https://drive.google.com/file/d/1CptK273nCwx4fXM86fK3R5A-sVFzrxfL/view?usp=drivesdk': '../data/pdfs/poster_pdfs/2_pdf.pdf',\n",
       " 'https://drive.google.com/file/d/1o4sLaCsXra1achSoUnr1Ym_56YwINxWw/view?usp=drivesdk': '../data/pdfs/poster_pdfs/3_pdf.pdf',\n",
       " 'https://drive.google.com/file/d/1ye-njQP6-B3w0860eFhcCqgWDOGlClgl/view?usp=drivesdk': '../data/pdfs/poster_pdfs/4_pdf.pdf',\n",
       " 'https://drive.google.com/file/d/1ygjGh_qmmjd8mi-vK1iNE1dA1QgAje3U/view?usp=drivesdk': '../data/pdfs/poster_pdfs/5_pdf.pdf',\n",
       " 'https://drive.google.com/file/d/1aa5irUMdCY-Pe-P3WKA6H-zYESMau2qL/view?usp=drivesdk': '../data/pdfs/poster_pdfs/6_pdf.pdf',\n",
       " 'https://drive.google.com/file/d/1i8Ujjdo-Jp6m2bO_zB-KN3S9DQSauJO1/view?usp=drivesdk': '../data/pdfs/poster_pdfs/7_pdf.pdf',\n",
       " 'https://drive.google.com/file/d/1AffI7myw-qf1fGdqKxGZbazlY_7Gb4rw/view?usp=drivesdk': '../data/pdfs/poster_pdfs/8_pdf.pdf',\n",
       " 'https://drive.google.com/file/d/1MUaHsWwEtzWefYMtEEhWLy0iv40ishuv/view?usp=drivesdk': '../data/pdfs/poster_pdfs/9_pdf.pdf',\n",
       " 'https://drive.google.com/file/d/1kOeHboSKFNY3PiyqN6NLkHB9KsmdtSlb/view?usp=drivesdk': '../data/pdfs/poster_pdfs/10_pdf.pdf',\n",
       " 'https://drive.google.com/file/d/1M7jZeyONCmcX7iyuN-xcikFsWJqQiOGm/view?usp=drivesdk': '../data/pdfs/poster_pdfs/11_pdf.pdf',\n",
       " 'https://drive.google.com/file/d/19W2pH0bbXj1rGs7mfSV6ENo6TCIJOZk7/view?usp=drivesdk': '../data/pdfs/poster_pdfs/12_pdf.pdf',\n",
       " 'https://drive.google.com/file/d/1iKGE2HfmKvYFZvRuB6oxed3C4vfjiW0q/view?usp=drivesdk': '../data/pdfs/poster_pdfs/13_pdf.pdf',\n",
       " 'https://drive.google.com/file/d/1C0Dvh5BTlnEOotPIMtA_xKFm4WNzuTBX/view?usp=drivesdk': '../data/pdfs/poster_pdfs/14_pdf.pdf',\n",
       " 'https://drive.google.com/file/d/1b4Wr6ltINa-Q44nwssO4qHwpL9llTJ2f/view?usp=drivesdk': '../data/pdfs/poster_pdfs/15_pdf.pdf',\n",
       " 'https://drive.google.com/file/d/1zUP6ChZon1qe9DQKVbvIbz8Qq9cnBMok/view?usp=drivesdk': '../data/pdfs/poster_pdfs/16_pdf.pdf',\n",
       " 'https://drive.google.com/file/d/1tKiHF_ltAvNAzFSAwpgmmbl7avw2M27I/view?usp=drivesdk': '../data/pdfs/poster_pdfs/17_pdf.pdf',\n",
       " 'https://drive.google.com/file/d/1gIrmHNx2_GwLhDZ133HCNFn7FEU2dVIn/view?usp=drivesdk': '../data/pdfs/poster_pdfs/18_pdf.pdf',\n",
       " 'https://drive.google.com/file/d/1NgGj4UpNht-vNUfaABUweVx21UsqxA48/view?usp=drivesdk': '../data/pdfs/poster_pdfs/19_pdf.pdf',\n",
       " 'https://drive.google.com/file/d/1f0kCAG-FQWb3-6IWrJ1T9XNd7KO15ArF/view?usp=drivesdk': '../data/pdfs/poster_pdfs/20_pdf.pdf',\n",
       " 'https://drive.google.com/file/d/1Z_sGXsESxykQD-AsoRo-1AnuJeaqQKR5/view?usp=drivesdk': '../data/pdfs/poster_pdfs/21_pdf.pdf',\n",
       " 'https://drive.google.com/file/d/16u2GqZZZSz5l72ng758ZbQwmU24GRo36/view?usp=drivesdk': '../data/pdfs/poster_pdfs/22_pdf.pdf',\n",
       " 'https://drive.google.com/file/d/1yBr5ZQ84aeFzGMUcrIXpWZ_Lpsuys4eh/view?usp=drivesdk': '../data/pdfs/poster_pdfs/23_pdf.pdf',\n",
       " 'https://drive.google.com/file/d/1KtxBB9TybZwfkFu8zqbnGzST42aPkQN5/view?usp=drivesdk': '../data/pdfs/poster_pdfs/24_pdf.pdf',\n",
       " 'https://drive.google.com/file/d/1vITeH0qZGgxF_Z0XJQ0dOaIJx_qTv5Nj/view?usp=drivesdk': '../data/pdfs/poster_pdfs/25_pdf.pdf',\n",
       " 'https://drive.google.com/file/d/130Y3qjN2Cebh09qblp4o7mN3IWXZPcJy/view?usp=drivesdk': '../data/pdfs/poster_pdfs/26_pdf.pdf',\n",
       " 'https://drive.google.com/file/d/1LVCq91qyz7mOgYmrz1iUlgvsiYosbfDX/view?usp=drivesdk': '../data/pdfs/poster_pdfs/27_pdf.pdf',\n",
       " 'https://drive.google.com/file/d/12MgZATLwzI8YPPkRNufTYJvVKgMyPdfH/view?usp=drivesdk': '../data/pdfs/poster_pdfs/28_pdf.pdf',\n",
       " 'https://drive.google.com/file/d/16df6AgzYgigNHRHZur8AZHEg7FTVAb7l/view?usp=drivesdk': '../data/pdfs/poster_pdfs/29_pdf.pdf',\n",
       " 'https://drive.google.com/file/d/1DOY9-qMOsoCTTyfNKpg0BaX3MhXKZ_EM/view?usp=drivesdk': '../data/pdfs/poster_pdfs/30_pdf.pdf',\n",
       " 'https://drive.google.com/file/d/1sjxEMrzplhf3KgLBxlC5IPeJza5qpJsn/view?usp=drivesdk': '../data/pdfs/poster_pdfs/31_pdf.pdf',\n",
       " 'https://drive.google.com/file/d/1zPQEc08fNN-1eQBWr7ljxBEo4QJ6QvTu/view?usp=drivesdk': '../data/pdfs/poster_pdfs/32_pdf.pdf',\n",
       " 'https://drive.google.com/file/d/1Qk1aTauN8f6v_Sz30doSAbByJLBF305S/view?usp=drivesdk': '../data/pdfs/poster_pdfs/33_pdf.pdf',\n",
       " 'https://drive.google.com/file/d/1m3Gy5ldjGqiTkYX6XV3meAU44MSHP9dL/view?usp=drivesdk': '../data/pdfs/poster_pdfs/34_pdf.pdf',\n",
       " 'https://drive.google.com/file/d/1_5LxtvDnnn0_wNrwpJSVRjxOmAf68b0J/view?usp=drivesdk': '../data/pdfs/poster_pdfs/35_pdf.pdf',\n",
       " 'https://drive.google.com/file/d/1rZY_sfGIvEIO1drWLJLJGIVraNOPUC5L/view?usp=drivesdk': '../data/pdfs/poster_pdfs/36_pdf.pdf',\n",
       " 'https://drive.google.com/file/d/1T6M5VM9Sk2oVjS5KWMFmPlLo1LKZBEyO/view?usp=drivesdk': '../data/pdfs/poster_pdfs/37_pdf.pdf',\n",
       " 'https://drive.google.com/file/d/1V60ldBhs-OwgSTrZ9DR_Gj_p6F4VbcA_/view?usp=drivesdk': '../data/pdfs/poster_pdfs/38_pdf.pdf',\n",
       " 'https://drive.google.com/file/d/1BjS6ZcwmB4TsGctyS56vNxZsTev8F0zF/view?usp=drivesdk': '../data/pdfs/poster_pdfs/39_pdf.pdf',\n",
       " 'https://drive.google.com/file/d/16vgufdp9xgkmYjbAlJwZoexbTW92yI5Y/view?usp=drivesdk': '../data/pdfs/poster_pdfs/40_pdf.pdf',\n",
       " 'https://drive.google.com/file/d/1nQ_0AhbD1kauLRnFW9l199gv_LEPr0Ec/view?usp=drivesdk': '../data/pdfs/poster_pdfs/41_pdf.pdf',\n",
       " 'https://drive.google.com/file/d/1Sk7Ttb20bNryb6pgQ6DIOShOi1Fd6mGh/view?usp=drivesdk': '../data/pdfs/poster_pdfs/42_pdf.pdf',\n",
       " 'https://drive.google.com/file/d/1GgUirexlnhHoCEwiy7qBLzJ-s4npSRWW/view?usp=drivesdk': '../data/pdfs/poster_pdfs/43_pdf.pdf',\n",
       " 'https://drive.google.com/file/d/15XovpYw3eAMhe3RkNWX1NMKOYU56wHb0/view?usp=drivesdk': '../data/pdfs/poster_pdfs/44_pdf.pdf',\n",
       " 'https://drive.google.com/file/d/1Fnf2VpkIiEIo0r51Q19Gcb6iA1KPj36L/view?usp=drivesdk': '../data/pdfs/poster_pdfs/45_pdf.pdf',\n",
       " 'https://drive.google.com/file/d/1zuDZ1LgBUawGSnZ_qpPILettfygo343g/view?usp=drivesdk': '../data/pdfs/poster_pdfs/46_pdf.pdf',\n",
       " 'https://drive.google.com/file/d/1_EPfHNOpa4htesHFZ66yNJtGSkJgSJLa/view?usp=drivesdk': '../data/pdfs/poster_pdfs/47_pdf.pdf',\n",
       " 'https://drive.google.com/file/d/1Ri9haaMSME1uKvQQPZWmJemlTMuPRnok/view?usp=drivesdk': '../data/pdfs/poster_pdfs/48_pdf.pdf',\n",
       " 'https://drive.google.com/file/d/1PRPiISiHrhC1dhesHjzwVfGtARPgiemu/view?usp=drivesdk': '../data/pdfs/poster_pdfs/49_pdf.pdf',\n",
       " 'https://drive.google.com/file/d/1VsiIXG3CYeLJ-KCdiLdKLgavl5a5RE7o/view?usp=drivesdk': '../data/pdfs/poster_pdfs/50_pdf.pdf',\n",
       " 'https://drive.google.com/file/d/1aHUgSted9FVi-XuNwBtiwZMyes6bn7JS/view?usp=drivesdk': '../data/pdfs/poster_pdfs/51_pdf.pdf',\n",
       " 'https://drive.google.com/file/d/1d-ahdQEAwBxy_3mLM-QXOPNAIQ_TvAiN/view?usp=drivesdk': '../data/pdfs/poster_pdfs/52_pdf.pdf',\n",
       " 'https://drive.google.com/file/d/13wPDo3P2QiyMIum-6sYac6VxIrPZs3mM/view?usp=drivesdk': '../data/pdfs/poster_pdfs/53_pdf.pdf',\n",
       " 'https://drive.google.com/file/d/1XCZIBruco_yHtsCDHUuW436nVk9j5uwr/view?usp=drivesdk': '../data/pdfs/poster_pdfs/54_pdf.pdf',\n",
       " 'https://drive.google.com/file/d/1u0os3BdglShvWXPNe6rX03_oWegFYE_w/view?usp=drivesdk': '../data/pdfs/poster_pdfs/55_pdf.pdf',\n",
       " 'https://drive.google.com/file/d/1yJ2EiWQyIc9kA-kmm30YqsLdn3Lf_mCn/view?usp=drivesdk': '../data/pdfs/poster_pdfs/56_pdf.pdf',\n",
       " 'https://drive.google.com/file/d/1prmyy4H3QmzCm-rJTiUBtl7bP1oX8H2V/view?usp=drivesdk': '../data/pdfs/poster_pdfs/57_pdf.pdf',\n",
       " 'https://drive.google.com/file/d/1MRhqBWSuiBE9VimXrwj26__VRJsYxwXV/view?usp=drivesdk': '../data/pdfs/poster_pdfs/58_pdf.pdf',\n",
       " 'https://drive.google.com/file/d/14TEEnKOWJT1jHdKgAvF_KTrH47dZ3eau/view?usp=drivesdk': '../data/pdfs/poster_pdfs/59_pdf.pdf',\n",
       " 'https://drive.google.com/file/d/1UQg8NNSWwe62T7VlVmEUdwHZ9geA-cqz/view?usp=drivesdk': '../data/pdfs/poster_pdfs/60_pdf.pdf',\n",
       " 'https://drive.google.com/file/d/1fmxXjlZmDWbdOV1L-jkvQLmwGpmatsnc/view?usp=drivesdk': '../data/pdfs/poster_pdfs/61_pdf.pdf',\n",
       " 'https://drive.google.com/file/d/1eNoyy83jYJXLBQGPFG0bf-T8JxqVTqmU/view?usp=drivesdk': '../data/pdfs/poster_pdfs/62_pdf.pdf',\n",
       " 'https://drive.google.com/file/d/1ZbUDECItRBHyN1bDyLNnCDWzydw5fNP3/view?usp=drivesdk': '../data/pdfs/poster_pdfs/63_pdf.pdf',\n",
       " 'https://drive.google.com/file/d/1tiZzFn23mPv2GgIPWLb0iRCVGM1LPSMl/view?usp=drivesdk': '../data/pdfs/poster_pdfs/64_pdf.pdf',\n",
       " 'https://drive.google.com/file/d/1eigxdOn-8DmRpTvWlt0zbq38hhGgg_DZ/view?usp=drivesdk': '../data/pdfs/poster_pdfs/65_pdf.pdf'}"
      ]
     },
     "execution_count": 36,
     "metadata": {},
     "output_type": "execute_result"
    }
   ],
   "source": [
    "poster_pdf_dict"
   ]
  },
  {
   "cell_type": "code",
   "execution_count": null,
   "metadata": {},
   "outputs": [],
   "source": []
  },
  {
   "cell_type": "code",
   "execution_count": 37,
   "metadata": {},
   "outputs": [],
   "source": [
    "# open a file, where you ant to store the data\n",
    "file = open(\"../data/poster_pdf_dict.pkl\", 'wb')\n",
    "\n",
    "# dump information to that file\n",
    "pickle.dump(poster_pdf_dict, file)\n",
    "\n",
    "# close the file\n",
    "file.close()"
   ]
  },
  {
   "cell_type": "code",
   "execution_count": 38,
   "metadata": {},
   "outputs": [],
   "source": [
    "# https://drive.google.com/drive/u/0/folders/1K5HJG9lRCFGjKDq9xTInXr2HFAuzxngD.pdf"
   ]
  },
  {
   "cell_type": "code",
   "execution_count": 39,
   "metadata": {},
   "outputs": [],
   "source": [
    "report_pdf_dict['https://drive.google.com/drive/u/0/folders/1K5HJG9lRCFGjKDq9xTInXr2HFAuzxngD.pdf'] = \"None\"\n",
    "\n",
    "# open a file, where you ant to store the data\n",
    "file = open(\"../data/report_pdf_dict.pkl\", 'wb')\n",
    "\n",
    "# dump information to that file\n",
    "pickle.dump(report_pdf_dict, file)\n",
    "\n",
    "# close the file\n",
    "file.close()"
   ]
  },
  {
   "cell_type": "code",
   "execution_count": null,
   "metadata": {},
   "outputs": [],
   "source": []
  },
  {
   "cell_type": "code",
   "execution_count": null,
   "metadata": {},
   "outputs": [],
   "source": []
  }
 ],
 "metadata": {
  "kernelspec": {
   "display_name": "test2",
   "language": "python",
   "name": "python3"
  },
  "language_info": {
   "codemirror_mode": {
    "name": "ipython",
    "version": 3
   },
   "file_extension": ".py",
   "mimetype": "text/x-python",
   "name": "python",
   "nbconvert_exporter": "python",
   "pygments_lexer": "ipython3",
   "version": "3.11.5"
  }
 },
 "nbformat": 4,
 "nbformat_minor": 2
}
