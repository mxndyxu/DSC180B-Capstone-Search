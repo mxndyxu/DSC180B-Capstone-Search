{
 "cells": [
  {
   "cell_type": "code",
   "execution_count": 1,
   "metadata": {},
   "outputs": [],
   "source": [
    "import pandas as pd"
   ]
  },
  {
   "cell_type": "code",
   "execution_count": 2,
   "metadata": {},
   "outputs": [],
   "source": [
    "es_data = pd.read_pickle(\"../../data/es_data.pkl\")"
   ]
  },
  {
   "cell_type": "code",
   "execution_count": 14,
   "metadata": {},
   "outputs": [],
   "source": [
    "es_data.to_csv('./es_data.csv')"
   ]
  },
  {
   "cell_type": "code",
   "execution_count": 6,
   "metadata": {},
   "outputs": [
    {
     "data": {
      "text/plain": [
       "Index([0, 1, 2, 121, 122, 192, 193], dtype='int64')"
      ]
     },
     "execution_count": 6,
     "metadata": {},
     "output_type": "execute_result"
    }
   ],
   "source": [
    "es_data[es_data[\"mentors\"] == \"Molly Roberts\"].index"
   ]
  },
  {
   "cell_type": "code",
   "execution_count": 8,
   "metadata": {},
   "outputs": [
    {
     "data": {
      "text/plain": [
       "Index([50, 51, 52, 53, 54, 55], dtype='int64')"
      ]
     },
     "execution_count": 8,
     "metadata": {},
     "output_type": "execute_result"
    }
   ],
   "source": [
    "es_data[es_data[\"domain\"] == \"Recommender Systems\"].index"
   ]
  },
  {
   "cell_type": "code",
   "execution_count": 11,
   "metadata": {},
   "outputs": [
    {
     "data": {
      "text/plain": [
       "Index([ 0,  1,  2,  3,  4,  5,  6,  7,  8,  9, 10, 11, 12, 13, 14, 15, 16, 17,\n",
       "       18, 19, 20, 21, 22, 23, 24, 25, 26],\n",
       "      dtype='int64')"
      ]
     },
     "execution_count": 11,
     "metadata": {},
     "output_type": "execute_result"
    }
   ],
   "source": [
    "es_data[es_data[\"year_presented\"] == 2020].index"
   ]
  },
  {
   "cell_type": "code",
   "execution_count": 12,
   "metadata": {},
   "outputs": [
    {
     "data": {
      "text/plain": [
       "Index([44, 45, 46, 47, 48, 49, 100, 101, 102, 103], dtype='int64')"
      ]
     },
     "execution_count": 12,
     "metadata": {},
     "output_type": "execute_result"
    }
   ],
   "source": [
    "es_data[es_data[\"domain\"] == \"Text Mining and NLP\"].index"
   ]
  },
  {
   "cell_type": "code",
   "execution_count": 15,
   "metadata": {},
   "outputs": [
    {
     "data": {
      "text/plain": [
       "year_presented                                                            2023\n",
       "domain                                                      Other Applications\n",
       "project_title                Graph Database Solutions for Perovskite Solar ...\n",
       "project_title_vector         [-0.22177674, 0.018375695, -0.25721452, 0.1739...\n",
       "mentors                                                          David Fenning\n",
       "industry                                                                  UCSD\n",
       "members                              Ryan Vo,Lauren Sidarto,Long Le,Justin Chu\n",
       "report_text_summarization    172    The Solar Energy Innovation Laboratory ...\n",
       "readme_summarization         201    # DSC 180 Capstone Project\\n\\n*Most of ...\n",
       "readme_vector                [-0.2343128, -0.22504538, -0.21722417, 0.32887...\n",
       "report_vector                [0.118040964, -0.30701822, -0.31402594, 0.2384...\n",
       "project_id                                                                 205\n",
       "github_repo                       https://github.com/rtvo20/dsc180_capstone_q2\n",
       "website                      https://lsidarto.github.io/perovskite-graph-da...\n",
       "report                       https://drive.google.com/file/d/1fvD2c6gMAdjvU...\n",
       "poster                       https://drive.google.com/file/d/1UQg8NNSWwe62T...\n",
       "contributors                           {'rtvo20': 'https://github.com/rtvo20'}\n",
       "language_breakdown                  {'Jupyter Notebook': 0.63, 'Python': 0.37}\n",
       "Name: 205, dtype: object"
      ]
     },
     "execution_count": 15,
     "metadata": {},
     "output_type": "execute_result"
    }
   ],
   "source": [
    "es_data.iloc[205]"
   ]
  },
  {
   "cell_type": "code",
   "execution_count": null,
   "metadata": {},
   "outputs": [],
   "source": []
  }
 ],
 "metadata": {
  "kernelspec": {
   "display_name": "test2",
   "language": "python",
   "name": "python3"
  },
  "language_info": {
   "codemirror_mode": {
    "name": "ipython",
    "version": 3
   },
   "file_extension": ".py",
   "mimetype": "text/x-python",
   "name": "python",
   "nbconvert_exporter": "python",
   "pygments_lexer": "ipython3",
   "version": "3.11.5"
  }
 },
 "nbformat": 4,
 "nbformat_minor": 2
}
