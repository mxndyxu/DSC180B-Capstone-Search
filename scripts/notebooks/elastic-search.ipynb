{
 "cells": [
  {
   "attachments": {},
   "cell_type": "markdown",
   "metadata": {},
   "source": [
    "# Elastic Search implementation\n",
    "\n",
    "## Goals\n",
    "* UNDERSTAND HOW ELASTIC-SEARCH WORKS\n",
    "* Utilize the following information: Student Names, Mentor Names, ReadMe summarizations, Report Summarizations, Raw Readmes, Raw Reports, Years, Project Title, Domain\n",
    "* Keyword Search - Student Names, Mentor Names, Domain, Project Title\n",
    "* Semantic Search - ReadMe Summarization, Report Summarization, Domain, Project Title\n",
    "* Fuzzy Match / autocorrect\n",
    "* Filtering\n",
    "\n",
    "CSVs to use\n",
    "\n",
    "* overall_data.csv - Year, Domain, Project Title\n",
    "* mentors.csv - Mentor\n",
    "* students.csv - Students\n",
    "* github.csv - readme raw, readme summarized\n",
    "* report_contents.csv - raw and processed text\n",
    "\n",
    "\n",
    "\n",
    "Things to note - Don't forget about language breakdown\n"
   ]
  },
  {
   "cell_type": "code",
   "execution_count": null,
   "metadata": {},
   "outputs": [],
   "source": [
    "from transformers import AutoTokenizer, AutoModel\n",
    "import torch\n",
    "import pandas as pd\n",
    "import numpy as np\n",
    "from elasticsearch import Elasticsearch, helpers, exceptions\n",
    "import pickle\n",
    "# from sentence_transformers import SentenceTransformer"
   ]
  },
  {
   "cell_type": "code",
   "execution_count": null,
   "metadata": {},
   "outputs": [],
   "source": [
    "print(torch.backends.cudnn.enabled)\n",
    "print(torch.cuda.is_available()) #We have GPU on deck and ready\n",
    "# print(f\"CUDA device: {torch.cuda.get_device_name(torch.cuda.current_device())}\")"
   ]
  },
  {
   "cell_type": "code",
   "execution_count": null,
   "metadata": {},
   "outputs": [],
   "source": [
    "model_ckpt = \"sentence-transformers/multi-qa-mpnet-base-dot-v1\"\n",
    "tokenizer = AutoTokenizer.from_pretrained(model_ckpt)\n",
    "model = AutoModel.from_pretrained(model_ckpt)"
   ]
  },
  {
   "cell_type": "code",
   "execution_count": null,
   "metadata": {},
   "outputs": [],
   "source": [
    "ovr_DF = pd.read_csv(\"../../data/overall_data.csv\", index_col= 0)\n",
    "ovr_DF.head(3)"
   ]
  },
  {
   "cell_type": "code",
   "execution_count": null,
   "metadata": {},
   "outputs": [],
   "source": [
    "mentor_DF = pd.read_csv(\"../../data/mentors.csv\")\n",
    "mentor_DF.head(3)"
   ]
  },
  {
   "cell_type": "code",
   "execution_count": null,
   "metadata": {},
   "outputs": [],
   "source": [
    "students_DF = pd.read_csv(\"../../data/students.csv\")\n",
    "students_DF.head(3)"
   ]
  },
  {
   "cell_type": "code",
   "execution_count": null,
   "metadata": {},
   "outputs": [],
   "source": [
    "github_DF = pd.read_csv(\"../../data/github.csv\")\n",
    "github_DF.head(5)\n",
    "github_DF[\"readme_summarized\"].fillna(\"Report Summary not available\", inplace=True)"
   ]
  },
  {
   "cell_type": "code",
   "execution_count": null,
   "metadata": {},
   "outputs": [],
   "source": [
    "report_contents_DF = pd.read_csv(\"../../data/report_contents.csv\")\n",
    "report_contents_DF.head(5)"
   ]
  },
  {
   "cell_type": "code",
   "execution_count": null,
   "metadata": {},
   "outputs": [],
   "source": [
    "for i, row in ovr_DF.iterrows():\n",
    "    # print(row)\n",
    "    print(f\"Project Title: {row['project_title']}\")\n",
    "    print(f\"Domain: {row['domain']}\")\n",
    "    print(f\"Year: {row['year_presented']}\")\n",
    "\n",
    "    # Mentor Portion\n",
    "    mentor_subset_DF = mentor_DF[mentor_DF['project_id'] == i]\n",
    "    industries = (\",\".join(list(set(mentor_subset_DF[\"ucsd_or_industry\"].to_list()))))\n",
    "    print(f\"Industry: {industries}\")\n",
    "\n",
    "    mentors = (\",\".join(list(set(mentor_subset_DF[\"mentor_name\"].fillna(\"Not Specified\").to_list()))))\n",
    "    print(f\"Mentors: {mentors}\")\n",
    "\n",
    "\n",
    "    #Student\n",
    "    student_subset_DF = students_DF[students_DF['project_id'] == i]\n",
    "    students = (\",\".join(list(set(student_subset_DF[\"student\"].fillna(\"Not Specified\").to_list()))))\n",
    "    print(f\"Students: {students}\")\n",
    "\n",
    "    #Github\n",
    "    if len(github_DF[github_DF[\"project_id\"] == i]) == 1:\n",
    "        readme_summary = str(github_DF[github_DF[\"project_id\"] == i][\"readme_summarized\"])\n",
    "    else:\n",
    "        readme_summary = \"README not available\"\n",
    "    print(f\"Readme Summary: {(readme_summary)}\")\n",
    "\n",
    "\n",
    "    #Github\n",
    "    if len(report_contents_DF[report_contents_DF[\"project_id\"] == i]) == 1:\n",
    "        report_summary = str(report_contents_DF[report_contents_DF[\"project_id\"] == i][\"text_processed\"])\n",
    "    else:\n",
    "        report_summary = \"Report Summary not available\"\n",
    "    print(f\"Report Summary: {(report_summary)}\")\n",
    "    \n",
    "\n",
    "\n",
    "\n",
    "    # print(f\"Project Title: {row['project_title']}\")\n",
    "    # print(f\"Project Title: {row['project_title']}\")\n",
    "    # print(f\"Project Title: {row['project_title']}\")\n",
    "    print(\"-\" * 75)\n",
    "    "
   ]
  },
  {
   "cell_type": "code",
   "execution_count": null,
   "metadata": {},
   "outputs": [],
   "source": [
    "# Run this line below to start up an elastic search cluster\n",
    "# docker run --rm -p 9200:9200 -p 9300:9300 -e \"xpack.security.enabled=false\" -e \"discovery.type=single-node\" docker.elastic.co/elasticsearch/elasticsearch:8.11.0"
   ]
  },
  {
   "cell_type": "code",
   "execution_count": null,
   "metadata": {},
   "outputs": [],
   "source": [
    "es = Elasticsearch(\"http://localhost:9200\")\n",
    "es.info().body"
   ]
  },
  {
   "cell_type": "code",
   "execution_count": null,
   "metadata": {},
   "outputs": [],
   "source": [
    "# delete model if already downloaded and deployed\n"
   ]
  },
  {
   "cell_type": "code",
   "execution_count": null,
   "metadata": {},
   "outputs": [],
   "source": [
    "# es.ml.put_"
   ]
  },
  {
   "cell_type": "code",
   "execution_count": null,
   "metadata": {},
   "outputs": [],
   "source": [
    "#From Hugging Face Tutorials\n",
    "def cls_pooling(model_output):\n",
    "    return model_output.last_hidden_state[:, 0]\n",
    "\n",
    "def get_embeddings(text_list):\n",
    "    encoded_input = tokenizer(\n",
    "        text_list, padding=True, truncation=True, return_tensors=\"pt\"\n",
    "    )\n",
    "    encoded_input = {k: v for k, v in encoded_input.items()}\n",
    "    model_output = model(**encoded_input)\n",
    "    return cls_pooling(model_output)"
   ]
  },
  {
   "cell_type": "code",
   "execution_count": null,
   "metadata": {},
   "outputs": [],
   "source": [
    "get_embeddings(\"Test sentence\").detach().numpy()[0]"
   ]
  },
  {
   "cell_type": "code",
   "execution_count": null,
   "metadata": {},
   "outputs": [],
   "source": [
    "# es.indices.delete(index='capstones')"
   ]
  },
  {
   "cell_type": "code",
   "execution_count": null,
   "metadata": {},
   "outputs": [],
   "source": [
    "mappings = {\n",
    "        \"properties\": {\n",
    "            \"year_presented\": {\"type\": \"text\"},\n",
    "            \"domain\": {\"type\": \"text\"},\n",
    "            \"project_title\": {\"type\": \"text\"},\n",
    "            \"project_title_vector\": {\"type\" : \"dense_vector\", \"dims\" : 768, \"similarity\" : \"cosine\"},\n",
    "            \"industry\": {\"type\": \"text\"},\n",
    "            \"mentors\": {\"type\": \"text\"},\n",
    "            \"members\": {\"type\": \"text\"},\n",
    "            \"report_text_summarization\": {\"type\": \"text\"},\n",
    "            \"readme_summarization\": {\"type\": \"text\", \"analyzer\" : \"english\"},\n",
    "            \"readme_vector\": {\"type\" : \"dense_vector\", \"dims\" : 768, \"similarity\" : \"cosine\"},\n",
    "            \"report_vector\": {\"type\" : \"dense_vector\", \"dims\" : 768, \"similarity\" : \"cosine\"}\n",
    "    }\n",
    "}\n",
    "\n",
    "es.indices.create(index=\"capstones\", mappings=mappings)"
   ]
  },
  {
   "cell_type": "code",
   "execution_count": null,
   "metadata": {},
   "outputs": [],
   "source": [
    "readme_vector_dict = pd.read_pickle(\"../../data/readme_vector_dict.pkl\")\n",
    "report_vector_dict = pd.read_pickle(\"../../data/report_vector_dict.pkl\")\n",
    "project_title_vector_dict = pd.read_pickle(\"../../data/project_title_vector_dict.pkl\")\n",
    "lst_es_data_dict = []\n",
    "\n",
    "\n",
    "\n",
    "for i, row in ovr_DF.iterrows():\n",
    "    # print(row)\n",
    "\n",
    "    # print(f\"Project Title: {row['project_title']}\")\n",
    "    # print(f\"Domain: {row['domain']}\")\n",
    "    # print(f\"Year: {row['year_presented']}\")\n",
    "\n",
    "    # project_title_vector = get_embeddings(row['project_title']).detach().numpy()[0]\n",
    "    project_title_vector = project_title_vector_dict[i] \n",
    "\n",
    "    # Mentor Portion\n",
    "    mentor_subset_DF = mentor_DF[mentor_DF['project_id'] == i]\n",
    "    industries = (\",\".join(list(set(mentor_subset_DF[\"ucsd_or_industry\"].to_list()))))\n",
    "    # print(f\"Industry: {industries}\")\n",
    "\n",
    "    mentors = (\",\".join(list(set(mentor_subset_DF[\"mentor_name\"].fillna(\"Not Specified\").to_list()))))\n",
    "    # print(f\"Mentors: {mentors}\")\n",
    "\n",
    "\n",
    "    #Student\n",
    "    student_subset_DF = students_DF[students_DF['project_id'] == i]\n",
    "    students = (\",\".join(list(set(student_subset_DF[\"student\"].fillna(\"Not Specified\").to_list()))))\n",
    "    # print(f\"Students: {students}\")\n",
    "\n",
    "    #Github\n",
    "    if len(github_DF[github_DF[\"project_id\"] == i]) == 1:\n",
    "        readme_summary = str(github_DF[github_DF[\"project_id\"] == i][\"readme_summarized\"])\n",
    "    else:\n",
    "        readme_summary = \"README not available\"\n",
    "    # print(f\"Readme Summary: {(readme_summary)}\")\n",
    "    # readme_vector = get_embeddings(readme_summary).detach().numpy()[0]\n",
    "    readme_vector = readme_vector_dict[i] \n",
    "\n",
    "\n",
    "    #Github\n",
    "    if len(report_contents_DF[report_contents_DF[\"project_id\"] == i]) == 1:\n",
    "        report_summary = str(report_contents_DF[report_contents_DF[\"project_id\"] == i][\"text_processed\"])\n",
    "    else:\n",
    "        report_summary = \"Report Summary not available\"\n",
    "    \n",
    "    # report_vector = get_embeddings(report_summary).detach().numpy()[0]\n",
    "    report_vector = report_vector_dict[i]\n",
    "    # print(f\"Report Summary: {(report_summary)}\")\n",
    "    \n",
    "\n",
    "    # \"year_presented\": {\"type\": \"integer\"},\n",
    "    #         \"domain\": {\"type\": \"text\"},\n",
    "    #         \"project_title\": {\"type\": \"text\"},\n",
    "    #         \"industry\": {\"type\": \"text\"},\n",
    "    #         \"mentors\": {\"type\": \"text\"},\n",
    "    #         \"members\": {\"type\": \"text\"},\n",
    "    #         \"report_text_summarization\": {\"type\": \"text\"},\n",
    "    #         \"readme_summarization\": {\"type\": \"text\", \"analyzer\" : \"english\"}\n",
    "\n",
    "    doc = {\n",
    "        \"year_presented\": row['year_presented'],\n",
    "        \"domain\": row[\"domain\"],\n",
    "        \"project_title\": row[\"project_title\"],\n",
    "        \"project_title_vector\": project_title_vector,\n",
    "        \"mentors\": mentors,\n",
    "        \"industry\": industries,\n",
    "        \"members\": students,\n",
    "        \"report_text_summarization\": report_summary,\n",
    "        \"readme_summarization\": readme_summary,\n",
    "        \"readme_vector\": readme_vector,\n",
    "        \"report_vector\": report_vector\n",
    "    }\n",
    "\n",
    "    doc[\"project_id\"] = i\n",
    "    lst_es_data_dict.append(doc)\n",
    "            \n",
    "    es.index(index=\"capstones\", id=i, document=doc)\n",
    "\n",
    "    # print(f\"Project Title: {row['project_title']}\")\n",
    "    # print(f\"Project Title: {row['project_title']}\")\n",
    "    # print(f\"Project Title: {row['project_title']}\")\n",
    "    # print(\"-\" * 75)\n",
    "    "
   ]
  },
  {
   "cell_type": "code",
   "execution_count": null,
   "metadata": {},
   "outputs": [],
   "source": [
    "len(lst_es_data_dict)"
   ]
  },
  {
   "cell_type": "code",
   "execution_count": null,
   "metadata": {},
   "outputs": [],
   "source": [
    "es_data_dict = pd.DataFrame(lst_es_data_dict)\n",
    "es_data_dict.to_pickle(\"../../data/es_data_DF.pkl\")"
   ]
  },
  {
   "cell_type": "code",
   "execution_count": null,
   "metadata": {},
   "outputs": [],
   "source": [
    "es_data_DF = pd.read_pickle(\"../../data/es_data_DF.pkl\")\n",
    "es_data_DF"
   ]
  },
  {
   "cell_type": "code",
   "execution_count": null,
   "metadata": {},
   "outputs": [],
   "source": [
    "# for "
   ]
  },
  {
   "cell_type": "code",
   "execution_count": null,
   "metadata": {},
   "outputs": [],
   "source": [
    "len(readme_vector_dict)"
   ]
  },
  {
   "cell_type": "code",
   "execution_count": null,
   "metadata": {},
   "outputs": [],
   "source": [
    "len(report_vector_dict)"
   ]
  },
  {
   "cell_type": "code",
   "execution_count": null,
   "metadata": {},
   "outputs": [],
   "source": [
    "len(project_title_vector_dict)"
   ]
  },
  {
   "cell_type": "code",
   "execution_count": null,
   "metadata": {},
   "outputs": [],
   "source": []
  },
  {
   "cell_type": "code",
   "execution_count": null,
   "metadata": {},
   "outputs": [],
   "source": [
    "# file = open(\"../data/readme_vector_dict.pkl\", 'wb')\n",
    "\n",
    "# # dump information to that file\n",
    "# pickle.dump(readme_vector_dict, file)\n",
    "\n",
    "# # close the file\n",
    "# file.close()"
   ]
  },
  {
   "cell_type": "code",
   "execution_count": null,
   "metadata": {},
   "outputs": [],
   "source": [
    "# file = open(\"../data/project_title_vector_dict.pkl\", 'wb')\n",
    "\n",
    "# # dump information to that file\n",
    "# pickle.dump(project_title_vector_dict, file)\n",
    "\n",
    "# # close the file\n",
    "# file.close()"
   ]
  },
  {
   "cell_type": "code",
   "execution_count": null,
   "metadata": {},
   "outputs": [],
   "source": []
  },
  {
   "cell_type": "code",
   "execution_count": null,
   "metadata": {},
   "outputs": [],
   "source": [
    "# resp = es.search(\n",
    "#     index=\"capstones\",\n",
    "#     query={\n",
    "#             \"bool\": {\n",
    "#                 \"must\": [{\n",
    "#                     \"multi_match\": {\n",
    "#                         \"query\": \"Social Analysis\",\n",
    "#                         \"fields\" : [\"project_title\", \"domain^2\"]\n",
    "#                     }\n",
    "#                 }, {\n",
    "#                     \"query\": {\n",
    "#                         \"mentors\": \"Justin Eldridge\",\n",
    "#                         \"fuzziness\" : \"AUTO\"\n",
    "#                     }\n",
    "#                 }]\n",
    "#             }\n",
    "#     }\n",
    "# )\n",
    "# resp.body"
   ]
  },
  {
   "cell_type": "code",
   "execution_count": null,
   "metadata": {},
   "outputs": [],
   "source": [
    "response = es.search(\n",
    "    index=\"capstones\",\n",
    "    knn={\n",
    "      \"field\": \"report_vector\",\n",
    "      \"query_vector\": get_embeddings(\"Crypto currency and blockchain\").detach().numpy()[0],\n",
    "      \"k\": 10,\n",
    "      \"num_candidates\": 100\n",
    "    }\n",
    ")\n",
    "\n",
    "response.body"
   ]
  },
  {
   "cell_type": "code",
   "execution_count": null,
   "metadata": {},
   "outputs": [],
   "source": [
    "resp = es.search(\n",
    "    index=\"capstones\",\n",
    "    query={\n",
    "            \"multi_match\": {\n",
    "                \"query\": \"Jastin Eldrige\",\n",
    "                \"fields\" : [\"mentors\"],\n",
    "                \"fuzziness\": \"AUTO\"\n",
    "            }\n",
    "        },            \n",
    ")\n",
    "resp.body"
   ]
  },
  {
   "cell_type": "code",
   "execution_count": null,
   "metadata": {},
   "outputs": [],
   "source": [
    "# healthcare crypo"
   ]
  },
  {
   "cell_type": "code",
   "execution_count": null,
   "metadata": {},
   "outputs": [],
   "source": [
    "resp = es.search(\n",
    "    index=\"capstones\",\n",
    "    query={\n",
    "            \"multi_match\": {\n",
    "                \"query\": \"Colin Jemmott recommender systems 2021\",\n",
    "                \"fields\" : [\"mentors\", \"project_title\"],\n",
    "                # \"fuzziness\": \"AUTO\"\n",
    "            }\n",
    "        },\n",
    "    knn={\n",
    "            \"field\": \"report_vector\",\n",
    "            \"query_vector\": get_embeddings(\"Colin Jemmott recommender systems 2021\").detach().numpy()[0],\n",
    "            \"k\": 10,\n",
    "            \"num_candidates\": 100\n",
    "    }            \n",
    ")\n",
    "resp.body"
   ]
  },
  {
   "cell_type": "code",
   "execution_count": null,
   "metadata": {},
   "outputs": [],
   "source": []
  },
  {
   "cell_type": "code",
   "execution_count": null,
   "metadata": {},
   "outputs": [],
   "source": []
  },
  {
   "cell_type": "code",
   "execution_count": null,
   "metadata": {},
   "outputs": [],
   "source": [
    "resp = es.search(\n",
    "    index=\"capstones\",\n",
    "    query={\n",
    "            \"multi_match\": {\n",
    "                \"query\": \"cancer data\",\n",
    "                \"type\": \"phrase\",\n",
    "                \"fields\" : [\"project_title^2\", \"domain^2\", \"year_presented\", \"industry^2\", \"mentors^3\", \"members^3\", \"readme_summarization\"],\n",
    "                \"fuzziness\": \"AUTO\",\n",
    "                # \"boost\": 0.9\n",
    "            },\n",
    "            \"multi_match\": {\n",
    "                \"query\": \"cancer data\",\n",
    "                \"fields\" : [\"project_title^2\", \"domain^2\", \"year_presented\", \"industry^2\", \"mentors^3\", \"members^3\", \"readme_summarization\"],\n",
    "                \"fuzziness\": \"AUTO\",\n",
    "                # \"boost\": 0.9\n",
    "            },\n",
    "        },\n",
    "    knn=[\n",
    "        {\n",
    "            \"field\": \"project_title_vector\",\n",
    "            \"query_vector\": get_embeddings(\"cancer data\").detach().numpy()[0],\n",
    "            \"k\": 10,\n",
    "            \"num_candidates\": 100,\n",
    "            # \"boost\": 0.1\n",
    "        },\n",
    "        {\n",
    "            \"field\": \"readme_vector\",\n",
    "            \"query_vector\": get_embeddings(\"cancer data\").detach().numpy()[0],\n",
    "            \"k\": 10,\n",
    "            \"num_candidates\": 100,\n",
    "            # \"boost\": 0.1\n",
    "        },\n",
    "        {\n",
    "            \"field\": \"report_vector\",\n",
    "            \"query_vector\": get_embeddings(\"cancer data\").detach().numpy()[0],\n",
    "            \"k\": 10,\n",
    "            \"num_candidates\": 100,\n",
    "            # \"boost\": 0.1\n",
    "        } \n",
    "    ],\n",
    "    size=10\n",
    ")\n",
    "# resp.body\n",
    "\n",
    "hits = resp.body['hits']['hits']\n",
    "print(f'Number of hits: {resp.body[\"hits\"][\"total\"][\"value\"]}')\n",
    "print('----------------')\n",
    "for hit in hits:\n",
    "    print(f'Score: {hit[\"_score\"]}')\n",
    "    print(f'Project: {hit[\"_source\"][\"project_title\"]}')\n",
    "    print(f'Domain: {hit[\"_source\"][\"domain\"]}')\n",
    "    print(f'Students: {hit[\"_source\"][\"members\"]}')\n",
    "    print(f'Industry/UCSD: {hit[\"_source\"][\"industry\"]}')\n",
    "    print(f'Mentor: {hit[\"_source\"][\"mentors\"]}')\n",
    "    print('----------------')\n",
    "\n",
    "\n",
    "\n",
    "# mappings = {\n",
    "#         \"properties\": {\n",
    "#             \"year_presented\": {\"type\": \"text\"},\n",
    "#             \"domain\": {\"type\": \"text\"},\n",
    "#             \"project_title\": {\"type\": \"text\"},\n",
    "#             \"project_title_vector\": {\"type\" : \"dense_vector\", \"dims\" : 768, \"similarity\" : \"cosine\"},\n",
    "#             \"industry\": {\"type\": \"text\"},\n",
    "#             \"mentors\": {\"type\": \"text\"},\n",
    "#             \"members\": {\"type\": \"text\"},\n",
    "#             \"report_text_summarization\": {\"type\": \"text\"},\n",
    "#             \"readme_summarization\": {\"type\": \"text\", \"analyzer\" : \"english\"},\n",
    "#             \"readme_vector\": {\"type\" : \"dense_vector\", \"dims\" : 768, \"similarity\" : \"cosine\"},\n",
    "#             \"report_vector\": {\"type\" : \"dense_vector\", \"dims\" : 768, \"similarity\" : \"cosine\"}\n",
    "#     }\n",
    "# }"
   ]
  },
  {
   "cell_type": "code",
   "execution_count": null,
   "metadata": {},
   "outputs": [],
   "source": [
    "# mappings = {\n",
    "#         \"properties\": {\n",
    "#             \"year_presented\": {\"type\": \"integer\"},\n",
    "#             \"domain\": {\"type\": \"text\"},\n",
    "#             \"project_title\": {\"type\": \"text\"},\n",
    "#             \"project_title_vector\": {\"type\" : \"dense_vector\", \"dims\" : 768, \"similarity\" : \"cosine\"},\n",
    "#             \"industry\": {\"type\": \"text\"},\n",
    "#             \"mentors\": {\"type\": \"text\"},\n",
    "#             \"members\": {\"type\": \"text\"},\n",
    "#             \"report_text_summarization\": {\"type\": \"text\"},\n",
    "#             \"readme_summarization\": {\"type\": \"text\", \"analyzer\" : \"english\"},\n",
    "#             \"readme_vector\": {\"type\" : \"dense_vector\", \"dims\" : 768, \"similarity\" : \"cosine\"},\n",
    "#             \"report_vector\": {\"type\" : \"dense_vector\", \"dims\" : 768, \"similarity\" : \"cosine\"}\n",
    "#     }\n",
    "# }"
   ]
  },
  {
   "cell_type": "code",
   "execution_count": null,
   "metadata": {},
   "outputs": [],
   "source": [
    "example_query_1 = \"Justin Eldridge\"\n",
    "example_query_2 = \"Crypto Currency\""
   ]
  },
  {
   "cell_type": "code",
   "execution_count": null,
   "metadata": {},
   "outputs": [],
   "source": [
    "# Figure out how to multi better\n",
    "# Add semantic manually"
   ]
  },
  {
   "cell_type": "markdown",
   "metadata": {},
   "source": [
    "### Building the search query function"
   ]
  },
  {
   "cell_type": "code",
   "execution_count": null,
   "metadata": {},
   "outputs": [],
   "source": []
  },
  {
   "cell_type": "code",
   "execution_count": null,
   "metadata": {},
   "outputs": [],
   "source": []
  },
  {
   "cell_type": "code",
   "execution_count": null,
   "metadata": {},
   "outputs": [],
   "source": []
  },
  {
   "cell_type": "code",
   "execution_count": null,
   "metadata": {},
   "outputs": [],
   "source": []
  },
  {
   "cell_type": "code",
   "execution_count": null,
   "metadata": {},
   "outputs": [],
   "source": []
  }
 ],
 "metadata": {
  "kernelspec": {
   "display_name": "test2",
   "language": "python",
   "name": "python3"
  },
  "language_info": {
   "codemirror_mode": {
    "name": "ipython",
    "version": 3
   },
   "file_extension": ".py",
   "mimetype": "text/x-python",
   "name": "python",
   "nbconvert_exporter": "python",
   "pygments_lexer": "ipython3",
   "version": "3.11.5"
  }
 },
 "nbformat": 4,
 "nbformat_minor": 2
}
