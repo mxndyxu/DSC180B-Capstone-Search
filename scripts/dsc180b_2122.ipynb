{
 "cells": [
  {
   "cell_type": "markdown",
   "id": "9f5ccbd8",
   "metadata": {},
   "source": [
    "All previous capstone projects:<br>\n",
    "https://docs.google.com/spreadsheets/d/1HJkTHUDJbfIPrPuMJ_DmWCvivxv5YU8Z_E8YCZao-84/edit#gid=511346602"
   ]
  },
  {
   "cell_type": "code",
   "execution_count": 1,
   "id": "96faa636",
   "metadata": {},
   "outputs": [],
   "source": [
    "import pandas as pd\n",
    "import numpy as np\n",
    "from bs4 import BeautifulSoup\n",
    "import requests"
   ]
  },
  {
   "cell_type": "code",
   "execution_count": 2,
   "id": "6f3f8e2d",
   "metadata": {},
   "outputs": [],
   "source": [
    "# to scrape:\n",
    "# https://dsc-capstone.org/archive/\n",
    "\n",
    "# scrape differently for each year (website formatted differently)"
   ]
  },
  {
   "cell_type": "code",
   "execution_count": 3,
   "id": "c747d942",
   "metadata": {},
   "outputs": [],
   "source": [
    "# dataframe structure:\n",
    "# year, project name, group members, mentor (what to do industry), website text, report text, github code url, poster url"
   ]
  },
  {
   "cell_type": "code",
   "execution_count": 4,
   "id": "e60dacaf",
   "metadata": {},
   "outputs": [],
   "source": [
    "# example scrape\n",
    "\n",
    "# url = 'https://davidzyx.github.io/HinDroid-with-Embeddings/'\n",
    "# response = requests.get(url)\n",
    "# soup = BeautifulSoup(response.text, 'html.parser')\n",
    "# soup"
   ]
  },
  {
   "cell_type": "code",
   "execution_count": 5,
   "id": "2ed1db99",
   "metadata": {},
   "outputs": [],
   "source": [
    "# 2022-2023\n",
    "url22 = 'https://dsc-capstone.org/projects-2021-2022/'\n",
    "\n",
    "# url22 = \"https://dsc-capstone.org/projects-2020-2021/\"\n",
    "\n",
    "# url22 = \"https://dsc-capstone.org/projects-2019-2020/\"\n",
    "response22 = requests.get(url22)\n",
    "soup22 = BeautifulSoup(response22.text, 'html.parser')"
   ]
  },
  {
   "cell_type": "code",
   "execution_count": 6,
   "id": "6e735b54",
   "metadata": {},
   "outputs": [],
   "source": [
    "# soup22"
   ]
  },
  {
   "cell_type": "code",
   "execution_count": 7,
   "id": "216392d7",
   "metadata": {},
   "outputs": [
    {
     "data": {
      "text/plain": [
       "3"
      ]
     },
     "execution_count": 7,
     "metadata": {},
     "output_type": "execute_result"
    }
   ],
   "source": [
    "tables = (soup22.find_all(\"div\", {\"id\": \"content\"}))[1:]\n",
    "len(tables)"
   ]
  },
  {
   "cell_type": "code",
   "execution_count": 8,
   "id": "f445ec43",
   "metadata": {},
   "outputs": [],
   "source": [
    "#Table 1: Areas of study\n",
    "\n",
    "domains = []\n",
    "mentors = []\n",
    "\n",
    "aos = tables[0]\n",
    "aos_tbody = aos.find(\"tbody\")\n",
    "aos_trs = aos_tbody.find_all(\"tr\")\n",
    "for tr in aos_trs:\n",
    "    tds = tr.find_all(\"td\")\n",
    "#     print(tds)\n",
    "    \n",
    "#     print(tds[0].find(\"a\").contents)\n",
    "#     print(tds[1].contents)\n",
    "    \n",
    "    domains.append(tds[0].find(\"a\").contents[0])\n",
    "    mentors.append(tds[1].contents[0])\n",
    "    \n",
    "#     for td in tds:\n",
    "#         print(td.contents)\n",
    "    "
   ]
  },
  {
   "cell_type": "code",
   "execution_count": 9,
   "id": "4e6e2009",
   "metadata": {},
   "outputs": [
    {
     "data": {
      "text/plain": [
       "(['Fair Policing',\n",
       "  'Text Mining and NLP',\n",
       "  'Blockchain / Smart-Contracts',\n",
       "  'spatiotemporal machine learning',\n",
       "  'High-dimensional Statistical Learning, Causal Inference, Robust ML, Fair ML',\n",
       "  'Machine Learning (TBA)',\n",
       "  'Wildfire and Environmental Data Analysis',\n",
       "  'Machine learning for physical systems',\n",
       "  'Environmental Monitoring, remote sensing, cyber-physical systems, Engineers for Exploration',\n",
       "  'Spread of Misinformation Online',\n",
       "  'Particle Physics',\n",
       "  'Mathematical Signal Processing (compression of deep nets, or optimization for data-science/ML)',\n",
       "  'graph neural networks',\n",
       "  'NLP, Misinformation',\n",
       "  'AI in Healthcare, Deep Reinforcement Learning, Trustworthy Machine Learning',\n",
       "  'Satellite image analysis',\n",
       "  'ML for Finance, ML for Healthcare, Fair ML, ML for Science',\n",
       "  'Social media; online communities; text analysis; ethics',\n",
       "  'Analyzing single cell multimodality data via (coupled) autoencoder neural networks',\n",
       "  'Machine Learning, Natural Language Processing',\n",
       "  'Activity Based Travel Models and Feature Selection',\n",
       "  'Explainable AI, Causal Inference',\n",
       "  'AutoML Platforms',\n",
       "  'AI/ML',\n",
       "  'Group Testing for Optimizing COVID-19 Testing',\n",
       "  'Causal Discovery',\n",
       "  'Time series analysis in health',\n",
       "  'Environmental health exposures & pollution modeling & land-use change dynamics',\n",
       "  'Network Performance Classification',\n",
       "  'System Usage Reporting'],\n",
       " ['Aaron Fraenkel',\n",
       "  'Jingbo Shang',\n",
       "  'Rajesh K. Gupta',\n",
       "  'Rose Yu',\n",
       "  'Jelena Bradic',\n",
       "  'Yian Ma',\n",
       "  'Ilkay Altintas',\n",
       "  'Peter Gerstoft',\n",
       "  'Ryan Kastner',\n",
       "  'Justin Eldridge',\n",
       "  'Javier Duarte',\n",
       "  'Rayan Saab',\n",
       "  'Aaron Fraenkel',\n",
       "  'Molly Roberts',\n",
       "  'Lily Weng',\n",
       "  'Armin Schwartzman',\n",
       "  'Berk Ustun',\n",
       "  'Stuart Geiger',\n",
       "  'Yusu Wang',\n",
       "  'Zhiting Hu',\n",
       "  'Alex Cloninger, Deloitte',\n",
       "  'Babak Salimi',\n",
       "  'Arun Kumar',\n",
       "  'Misha Belkin',\n",
       "  'Arya Mazumdar',\n",
       "  'David Danks',\n",
       "  'Benjamin Smarr',\n",
       "  'Jennifer Burney',\n",
       "  'Viasat',\n",
       "  'Intel'])"
      ]
     },
     "execution_count": 9,
     "metadata": {},
     "output_type": "execute_result"
    }
   ],
   "source": [
    "domains, mentors"
   ]
  },
  {
   "cell_type": "code",
   "execution_count": 10,
   "id": "8a14eb1c",
   "metadata": {},
   "outputs": [],
   "source": [
    "# Table 3: In depth project details (idpd)\n",
    "\n",
    "idpd = tables[2]"
   ]
  },
  {
   "cell_type": "code",
   "execution_count": 11,
   "id": "10287f21",
   "metadata": {},
   "outputs": [
    {
     "data": {
      "text/plain": [
       "<div class=\"domain\">\n",
       "<h3 id=\"Fair Policing\">Fair Policing</h3>\n",
       "<hr>\n",
       "</hr></div>"
      ]
     },
     "execution_count": 11,
     "metadata": {},
     "output_type": "execute_result"
    }
   ],
   "source": [
    "idpd_domains = idpd.find(\"div\", {\"class\": \"domain\"})\n",
    "idpd_domains"
   ]
  },
  {
   "cell_type": "code",
   "execution_count": 12,
   "id": "61093fc7",
   "metadata": {},
   "outputs": [],
   "source": [
    "#Project title\n"
   ]
  },
  {
   "cell_type": "code",
   "execution_count": 13,
   "id": "53f2c8e8",
   "metadata": {},
   "outputs": [],
   "source": [
    "idpd_uls_names = idpd.find_all(\"ul\")[0::2]\n",
    "idpd_uls_links = idpd.find_all(\"ul\")[1::2]"
   ]
  },
  {
   "cell_type": "code",
   "execution_count": 14,
   "id": "61fecb1f",
   "metadata": {},
   "outputs": [],
   "source": [
    "idpd_titles = (idpd.find_all(\"h4\"))"
   ]
  },
  {
   "cell_type": "code",
   "execution_count": 15,
   "id": "812f95ad",
   "metadata": {},
   "outputs": [
    {
     "name": "stdout",
     "output_type": "stream",
     "text": [
      "0 Traffic Policing And Its Relationship With Income\n",
      "0 Group members: Ronaldo Romano, Jason Sheu, Leon Kuo\n",
      "0 https://leonkuodsc.github.io/Policing-and-Income-Website/\n",
      "0 https://github.com/leonkuoDSC/Policing_and_Income.git\n",
      "0 https://raw.githubusercontent.com/leonkuoDSC/artifact-directory-template/main/report.pdf\n",
      "---------------------------------------------------------------------------\n",
      "1 Model Analysis of Stock Price Trend Predictions based on Financial News\n",
      "1 Group members: Liuyang Zheng, Yunhan Zhang, Mingjia Zhu\n",
      "1 https://aponyua991.github.io/AutoFiNews/\n",
      "1 https://github.com/lizheng1226/DSC180B_Project_AutoFiNews.git\n",
      "1 https://raw.githubusercontent.com/mingjiazhu/artifact-directory-template/main/report.pdf\n",
      "---------------------------------------------------------------------------\n",
      "2 Utilizing AutoPhrase on Computer Science papers over time\n",
      "2 Group members: Jason Lin, Cameron Brody, James Yu\n",
      "2 https://jamesjaeyu.github.io/autophrase_over_time/\n",
      "2 https://github.com/jamesjaeyu/autophrase_over_time.git\n",
      "2 https://raw.githubusercontent.com/jamesjaeyu/artifact-directory-template/main/report.pdf\n",
      "---------------------------------------------------------------------------\n",
      "3 Codenames AI\n",
      "3 Group members: Xuewei Yan, Cameron Shaw, Yongqing Li\n",
      "3 https://xueweiyan.github.io/codenames-ai-website/\n",
      "3 https://github.com/YongqingLi14/codenames-ai-analysis.git\n",
      "3 https://raw.githubusercontent.com/YongqingLi14/artifact-directory-template/main/report.pdf\n",
      "---------------------------------------------------------------------------\n",
      "4 Spam Detection Using Natural Language Processing\n",
      "4 Group members: Jonathan Tanoto\n",
      "4 https://jonathantanoto.github.io/spamdetection/\n",
      "4 https://github.com/jonathantanoto/spam_detection_180B/\n",
      "4 https://raw.githubusercontent.com/jonathantanoto/artifact-directory-template/main/report.pdf\n",
      "---------------------------------------------------------------------------\n",
      "5 An Exploration on Medical Records using Blockchain Technology\n",
      "5 Group members: Ruiwei Wan, Yifei Wang\n",
      "5 https://ellawan.github.io/\n",
      "5 https://github.com/mcelz/MedCoin-Authorization-Smart-Contract\n",
      "5 https://raw.githubusercontent.com/mcelz/artifact-directory-template/main/report.pdf\n",
      "---------------------------------------------------------------------------\n",
      "6 Uncertainty Quantification and Deep Learning for Scalable Spatiotemporal Analysis\n",
      "6 Group members: Kailing Ding, Judy Jin, Derek Leung, Miles Labrador\n",
      "6 https://dsc180a-a04.github.io/spatiotemporal_analysis/\n",
      "6 https://github.com/DSC180A-A04/spatiotemporal_analysis\n",
      "6 https://raw.githubusercontent.com/DSC180A-A04/artifact-directory-template/main/report.pdf\n",
      "---------------------------------------------------------------------------\n",
      "7 Post-Prediction Inference on Political Twitter\n",
      "7 Group members: Luis Ledezma-Ramos, Dylan Haar, Alicia Gunawan\n",
      "7 https://dhaar-data.github.io/DSC180B-project/\n",
      "7 https://github.com/dhaar-data/DSC180B-project.git\n",
      "7 https://raw.githubusercontent.com/alicegunawan/dsc180-artifact-directory/main/report.pdf\n",
      "---------------------------------------------------------------------------\n",
      "8 NFL-Analysis\n",
      "8 Group members: Jonathan Langley, Sujeet Yeramareddy, Yong Liu\n",
      "8 https://jonlangley2022.github.io\n",
      "8 https://github.com/sujeetyeramareddy9/NFL-Analysis\n",
      "8 https://raw.githubusercontent.com/yol146/artifact-directory-template/main/report.pdf\n",
      "---------------------------------------------------------------------------\n",
      "9 Investigation on Latent Dirichlet Allocation\n",
      "9 Group members: Duha Aldebakel, Rui Zhang, Anthony Limon, Yu Cao\n",
      "9 https://a1limon.github.io/DSC180B.visual.io/\n",
      "9 https://github.com/duha-aldebakel/DSC180B-LDACode\n",
      "9 https://raw.githubusercontent.com/a1limon/artifact-directory-template/main/report.pdf\n",
      "---------------------------------------------------------------------------\n",
      "10 Locating Sound with Machine Learning\n",
      "10 Group members: Raymond Zhao, Brady Zhou\n",
      "10 https://889884m.github.io/DSC180_Project/\n",
      "10 https://github.com/889884m/DSC180_Project.git\n",
      "10 https://raw.githubusercontent.com/889884m/artifact-directory/main/report.pdf\n",
      "---------------------------------------------------------------------------\n",
      "11 E4E MicroFaune Project\n",
      "11 Group members: Jinsong Yang, Qiaochen Sun\n",
      "11 https://github.com/sunqiaochen/NeurlPS_2022_DSC180\n",
      "11 https://github.com/sunqiaochen/NeurlPS_2022_DSC180\n",
      "11 https://raw.githubusercontent.com/sunqiaochen/artifact-directory-template/main/report.pdf\n",
      "---------------------------------------------------------------------------\n",
      "12 \n",
      "12 Group members: Harsha Jagarlamudi, Kelly Kong\n",
      "12 \n",
      "12 \n",
      "12 \n",
      "---------------------------------------------------------------------------\n",
      "13 Eco-Acoustic Event Detection: Classifying temporal presence of birds in recorded bird vocalization audio\n",
      "13 Group members: Alan Arce, Edmundo Zamora\n",
      "13 https://edmundozamora.github.io/DSC180-A09-Eco-Acoustic-Detection/\n",
      "13 https://github.com/EdmundoZamora/TweetyNet_CUDA_GPU_Adaptation.git\n",
      "13 https://raw.githubusercontent.com/EdmundoZamora/artifact-directory-template/main/report.pdf\n",
      "---------------------------------------------------------------------------\n",
      "14 Pyrenote - User Profile Design & Accessible Data\n",
      "14 Group members: Dylan Nelson\n",
      "14 https://www.dylan-nelson.com/Pyrenote/\n",
      "14 https://github.com/UCSD-E4E/Pyrenote\n",
      "14 https://raw.githubusercontent.com/dylannelson/artifact-directory-template/main/report.pdf\n",
      "---------------------------------------------------------------------------\n",
      "15 Pyrenote Webdeveloper\n",
      "15 Group members: Wesley Zhen\n",
      "15 https://wescodes.github.io/Wes_Project/\n",
      "15 https://github.com/UCSD-E4E/Pyrenote\n",
      "15 https://raw.githubusercontent.com/WesCodes/artifact-directory-template/main/report.pdf\n",
      "---------------------------------------------------------------------------\n",
      "16 Who is Spreading Misinformation and Worries in Twitter?\n",
      "16 Group members: Lehan Li, Ruojia Tao\n",
      "16 https://ruojiatao.github.io/Covid-Misinformation-Spread-on-Tweets/\n",
      "16 https://github.com/RuojiaTao/Covid-Misinformation-Spread-on-Tweets.git\n",
      "16 https://raw.githubusercontent.com/RuojiaTao/artifact-directory-template/main/report.pdf\n",
      "---------------------------------------------------------------------------\n",
      "17 Misinformation on Reddit\n",
      "17 Group members: Samuel Huang, David Aminifard\n",
      "17 https://davamini.com/dsc180_project.github.io/\n",
      "17 https://github.com/davamini/DSC180B_Reddit_MisInfo_Capstone\n",
      "17 https://raw.githubusercontent.com/helorise/artifact-directory-template/main/report.pdf\n",
      "---------------------------------------------------------------------------\n",
      "18 The Spread of YouTube Misinformation Through Twitter\n",
      "18 Group members: Alisha Sehgal, Anamika Gupta\n",
      "18 https://anaaamika.github.io/DSC180B-Misinformation/\n",
      "18 https://github.com/fieryashes/DSC180B_Misinformation_Project.git\n",
      "18 https://raw.githubusercontent.com/anaaamika/artifact-directory-template/main/report.pdf\n",
      "---------------------------------------------------------------------------\n",
      "19 Understanding Higgs Boson Particle Jets with Graph Neural Networks\n",
      "19 Group members: Charul Sharma, Rui Lu, Bryan Ambriz\n",
      "19 http://www.bambriz.me/wp-content/uploads/2022/02/dsc180b.html\n",
      "19 https://github.com/Bryan-Az/DSC-Capstone-Result-Replication\n",
      "19 https://raw.githubusercontent.com/Bryan-Az/artifact-directory-template/main/report.pdf\n",
      "---------------------------------------------------------------------------\n",
      "20 Predicting a Particle's True Mass\n",
      "20 Group members: Jayden Lee, Dan Ngo, Isac Lee\n",
      "20 https://isacmlee.github.io/particle-physics-visuals/\n",
      "20 https://github.com/UCSDJLEE/DSC180B-A11-Project\n",
      "20 https://raw.githubusercontent.com/isacmlee/artifact-directory-template/main/report.pdf\n",
      "---------------------------------------------------------------------------\n",
      "21 Graph Neural Network Based Recommender Systems for Spotify Playlists\n",
      "21 Group members: Benjamin Becze, Jiayun Wang, Shone Patil\n",
      "21 https://shonepatil.github.io/GNN-Spotify-Recommender-Website/\n",
      "21 https://github.com/shonepatil/GNN-Spotify-Recommender-Project\n",
      "21 https://raw.githubusercontent.com/shonepatil/artifact-directory-template/main/report.pdf\n",
      "---------------------------------------------------------------------------\n",
      "22 Dynamic Stock Industry Classification\n",
      "22 Group members: Sheng Yang\n",
      "22 https://yangshengaa.github.io/dynamic_stock_industry_classification/\n",
      "22 https://github.com/yangshengaa/dynamic_stock_industry_classification.git\n",
      "22 https://raw.githubusercontent.com/yangshengaa/artifact-directory-template/main/report.pdf\n",
      "---------------------------------------------------------------------------\n",
      "23 HDSI Faculty Exploration Tool\n",
      "23 Group members: Martha Yanez, Sijie Liu, Siddhi Patel, Brian Qian\n",
      "23 https://marthay01.github.io/hdsi_faculty_tool/\n",
      "23 https://github.com/MarthaY01/hdsi_faculty_tool/tree/main\n",
      "23 https://raw.githubusercontent.com/xd00099/HDSI-faculty-tool-artifact-directory/main/report.pdf\n",
      "---------------------------------------------------------------------------\n",
      "24 HDSI Faculty Exploration Tool\n",
      "24 Group members: Du Xiang\n",
      "24 https://marthay01.github.io/hdsi_faculty_tool/\n",
      "24 https://github.com/MarthaY01/hdsi_faculty_tool/tree/main\n",
      "24 https://raw.githubusercontent.com/xd00099/HDSI-faculty-tool-artifact-directory/main/report.pdf\n",
      "---------------------------------------------------------------------------\n",
      "25 Improving Robustness in Deep Fusion Modeling Against Adversarial Attacks\n",
      "25 Group members: Ayush More, Amy Nguyen\n",
      "25 https://ayushmore.github.io/2022-03-07-improving-robustness-via-adversarial-training/\n",
      "25 https://github.com/amuamushu/adv_avod_ssn.git\n",
      "25 https://raw.githubusercontent.com/amuamushu/artifact-directory-template/main/report.pdf\n",
      "---------------------------------------------------------------------------\n",
      "26 Healthcare: Adversarial Defense In Medical Deep Learning Systems\n",
      "26 Group members: Rakesh Senthilvelan, Madeline Tjoa\n",
      "26 https://medicala15.github.io/about/\n",
      "26 https://github.com/Maderlime/DSC180_Q1_Code\n",
      "26 https://raw.githubusercontent.com/rakeshsenthil/artifact-directory-template/main/report.pdf\n",
      "---------------------------------------------------------------------------\n",
      "27 Actionable Recourse\n",
      "27 Group members: Shweta Kumar, Trevor Tuttle, Takashi Yabuta, Mizuki Kadowaki, Jeffrey Feng\n",
      "27 https://recourse-api.herokuapp.com/recourse\n",
      "27 https://github.com/Actionable-Recourse/recourse-api\n",
      "27 https://raw.githubusercontent.com/Actionable-Recourse/artifact-directory/main/report.pdf\n",
      "---------------------------------------------------------------------------\n",
      "28 Finding Commonalities in misinformative Articles Across Topics\n",
      "28 Group members: Hwang Yu, Maximilian Halvax, Lucas Nguyen\n",
      "28 https://micmiccitymax.github.io/dsc180b02-site/\n",
      "28 https://github.com/freebreadstix/capstone_B02\n",
      "28 https://raw.githubusercontent.com/micmiccitymax/artifact-directory-template/main/report.pdf\n",
      "---------------------------------------------------------------------------\n",
      "29 The Effect of Twitter Cancel Culture on the Music Industry\n",
      "29 Group members: Peter Wu, Nikitha Gopal, Abigail Velasquez\n",
      "29 https://aavelasq.github.io/projects/Cancel-Culture-Sentiment/\n",
      "29 https://github.com/aavelasq/dsc180-Q2sentiment.git\n",
      "29 https://raw.githubusercontent.com/aavelasq/artifact-directory-template/main/report.pdf\n",
      "---------------------------------------------------------------------------\n",
      "30 Coupled Autoencoders for Single-Cell Data Analysis\n",
      "30 Group members: Alex Nguyen, Brian Vi\n",
      "30 https://18anguyen9.github.io/DSC_180_website/\n",
      "30 https://github.com/18anguyen9/Single_Cell_Coupled_Autoencoders\n",
      "30 https://raw.githubusercontent.com/brianvi-98/artifact-directory-template/main/report.pdf\n",
      "---------------------------------------------------------------------------\n",
      "31 On Evaluating the Robustness of Language Models with Tuning\n",
      "31 Group members: Lechuan Wang, Colin Wang, Yutong Luo\n",
      "31 https://rachelluoyt.github.io/T5_SQuAD_Prompt_Tuning/\n",
      "31 https://github.com/zwcolin/T5_SQuAD_Prompt_Tuning\n",
      "31 https://raw.githubusercontent.com/rachelluoyt/artifact-directory-template/main/report.pdf\n",
      "---------------------------------------------------------------------------\n",
      "32 A Tree-Based Model for Activity Based Travel Models and Feature Selection\n",
      "32 Group members: Lisa Kuwahara, Ruiqin Li, Sophia Lau\n",
      "32 https://lkuwahara.github.io/DSC180B.github.io-B05/\n",
      "32 https://github.com/lkuwahara/DSC180B.github.io-B05/tree/gh-pages\n",
      "32 https://raw.githubusercontent.com/Sapphirerain/artifact-directory-template/main/report.pdf\n",
      "---------------------------------------------------------------------------\n",
      "33 Explainable AI\n",
      "33 Group members: Jerry Chan, Apoorv Pochiraju, Zhendong Wang, Yujie Zhang\n",
      "33 https://yujiezhang0914.github.io/DSC180B-Project-Website/\n",
      "33 https://github.com/zhw005/DSC180B-Project\n",
      "33 https://raw.githubusercontent.com/yujiezhang0914/artifact-directory-template/main/report.pdf\n",
      "---------------------------------------------------------------------------\n",
      "34 Deep Learning Transformer Models for Feature Type Inference\n",
      "34 Group members: Andrew Shen, Tanveer Mittal\n",
      "34 https://tanveermittal.github.io/capstone/\n",
      "34 https://github.com/TanveerMittal/Feature_Type_Inference_Capstone\n",
      "34 https://raw.githubusercontent.com/TanveerMittal/artifact-directory-template/main/report.pdf\n",
      "---------------------------------------------------------------------------\n",
      "35 Exploring Noise in Data: Applications to ML Models\n",
      "35 Group members: Cheolmin Hwang, Amelia Kawasaki, Robert Dunn\n",
      "35 https://amelia-kawasaki.github.io/dsc_capstone/\n",
      "35 https://github.com/amelia-kawasaki/dsc_capstone\n",
      "35 https://raw.githubusercontent.com/rdunnUCSD/capstone-artifact-directory/main/report.pdf\n",
      "---------------------------------------------------------------------------\n",
      "36 COVID-19 Group Testing Optimization Strategies\n",
      "36 Group members: Mengfan Chen, Jeffrey Chu, Vincent Lee, Ethan Dinh-Luong\n",
      "36 https://v1leeucsd.github.io/\n",
      "36 https://github.com/edinhluo/DSC180-Capstone-Project\n",
      "36 https://raw.githubusercontent.com/edinhluo/artifact-directory-template/main/report.pdf\n",
      "---------------------------------------------------------------------------\n",
      "37 Patterns of Fairness in Machine Learning\n",
      "37 Group members: Daniel Tong, Anne Xu, Praveen Nair\n",
      "37 https://annemxu.github.io/ml-fairness/index.html\n",
      "37 https://github.com/pnair7/ml-fairness.git\n",
      "37 https://raw.githubusercontent.com/pnair7/artifact-directory-template/main/report.pdf\n",
      "---------------------------------------------------------------------------\n",
      "38 Causal Effects of Socioeconomic and Political Factors on Life Expectancy in 166 Different Countries\n",
      "38 Group members: Adam Kreitzman, Maxwell Levitt, Emily Ramond\n",
      "38 https://emily-ramond.github.io/Life-Expectancy-Causal-Analysis/\n",
      "38 https://github.com/mglevitt/Medical-Disparity-Causal-Analysis\n",
      "38 https://raw.githubusercontent.com/emily-ramond/artifact-directory-template/main/report.pdf\n",
      "---------------------------------------------------------------------------\n",
      "39 Time Series Analysis on the Effect of Light Exposure on Sleep Quality\n",
      "39 Group members: Shubham Kaushal, Yuxiang Hu, Alex Liu\n",
      "39 https://gogohyx.github.io/DSC180_sleep_apnea/\n",
      "39 https://github.com/GogoHYX/DSC180_sleep_apnea\n",
      "39 https://raw.githubusercontent.com/alxjareyliu/artifact-directory-template/main/report.pdf\n",
      "---------------------------------------------------------------------------\n",
      "40 Sleep Stage Classification for Patients With Sleep Apnea\n",
      "40 Group members: Kevin Chin, Yilan Guo, Shaheen Daneshvar\n",
      "40 https://yilang08.github.io/sleepstage/\n",
      "40 https://github.com/chinkevin/DSC180_sleep_apnea\n",
      "40 https://raw.githubusercontent.com/shaheendane/artifact-directory-template/main/report.pdf\n",
      "---------------------------------------------------------------------------\n",
      "41 Supervised Classification Approach to Wildfire Mapping in Northern California\n",
      "41 Group members: Alice Lu, Oscar Jimenez, Anthony Chi, Jaskaranpal Singh\n",
      "41 https://cashcountinchi.github.io/b12_capstone/\n",
      "41 https://github.com/a2lu/CAPSTONE_WILDFIRE.git\n",
      "41 https://raw.githubusercontent.com/Jsingh-23/artifact-directory-template/main/report.pdf\n",
      "---------------------------------------------------------------------------\n",
      "42 Network Signal Anomaly Detection\n",
      "42 Group members: Laura Diao, Benjamin Sam, Jenna Yang\n",
      "42 https://lauradiao.github.io/Anomaly_Detectives/\n",
      "42 https://github.com/LauraDiao/Anomaly_Detectives\n",
      "42 https://raw.githubusercontent.com/jenna-my/artifact-directory-template/main/report.pdf\n",
      "---------------------------------------------------------------------------\n",
      "43 Real Time Anomaly Detection in Networks\n",
      "43 Group members: Justin Harsono, Charlie Tran, Tatum Maston\n",
      "43 https://ctran0615.github.io/anomaly-network-detection/\n",
      "43 https://github.com/tatummaston/anomaly_network_detection\n",
      "43 https://raw.githubusercontent.com/tatummaston/artifact-directory-template/main/report.pdf\n",
      "---------------------------------------------------------------------------\n",
      "44 Intel Telemetry: Data Collection & Time-Series Prediction of App Usage\n",
      "44 Group members: Srikar Prayaga, Andrew Chin, Arjun Sawhney\n",
      "44 https://arjunsawhney1.github.io/intel-capstone-project\n",
      "44 https://github.com/arjunsawhney1/intel-capstone-project.git\n",
      "44 https://raw.githubusercontent.com/arjunsawhney1/artifact-directory-template/main/report.pdf\n",
      "---------------------------------------------------------------------------\n",
      "45 Predicting Application Use to Reduce User Wait Time\n",
      "45 Group members: Sasami Scott, Timothy Tran, Andy Do\n",
      "45 https://andydo1998.github.io\n",
      "45 https://github.com/andydo1998/dsc180-data-analysis\n",
      "45 https://raw.githubusercontent.com/andydo1998/artifact-directory-template/main/report.pdf\n",
      "---------------------------------------------------------------------------\n",
      "46 INTELlinext: A Fully Integrated LSTM and HMM-Based Solution for Next-App Prediction With Intel SUR SDK Data Collection\n",
      "46 Group members: Jared Thach, Hiroki Hoshida, Cyril Gorlla\n",
      "46 https://cgorlla.github.io/intel-sur-site/\n",
      "46 https://github.com/cgorlla/intel-sur.git\n",
      "46 https://raw.githubusercontent.com/cgorlla/intel-capstone-submission/main/report.pdf\n",
      "---------------------------------------------------------------------------\n"
     ]
    }
   ],
   "source": [
    "title = []\n",
    "group = []\n",
    "links = []\n",
    "\n",
    "for i in range(len(idpd_titles)):\n",
    "    title.append(idpd_titles[i].text)\n",
    "    print(i, idpd_titles[i].text)\n",
    "    group.append(idpd_uls_names[i].find(\"li\").text)\n",
    "    print(i, idpd_uls_names[i].find(\"li\").text)\n",
    "#     print(i, idpd_uls[i + 1])\n",
    "    \n",
    "    lst = []\n",
    "    for idpd_li in idpd_uls_links[i].find_all(\"li\"):\n",
    "        print(i, idpd_li.find(\"a\")[\"href\"])\n",
    "        lst.append(idpd_li.find(\"a\")[\"href\"])\n",
    "    links.append(lst)\n",
    "    \n",
    "    print(\"-\" * 75)"
   ]
  },
  {
   "cell_type": "code",
   "execution_count": 16,
   "id": "21fefdef",
   "metadata": {},
   "outputs": [
    {
     "data": {
      "text/plain": [
       "['https://leonkuodsc.github.io/Policing-and-Income-Website/',\n",
       " 'https://github.com/leonkuoDSC/Policing_and_Income.git',\n",
       " 'https://raw.githubusercontent.com/leonkuoDSC/artifact-directory-template/main/report.pdf']"
      ]
     },
     "execution_count": 16,
     "metadata": {},
     "output_type": "execute_result"
    }
   ],
   "source": [
    "links[0]"
   ]
  },
  {
   "cell_type": "code",
   "execution_count": 17,
   "id": "a6f2afc1",
   "metadata": {},
   "outputs": [
    {
     "data": {
      "text/plain": [
       "'Group members: Ronaldo Romano, Jason Sheu, Leon Kuo'"
      ]
     },
     "execution_count": 17,
     "metadata": {},
     "output_type": "execute_result"
    }
   ],
   "source": [
    "group[0]\n"
   ]
  },
  {
   "cell_type": "code",
   "execution_count": 18,
   "id": "8660cd70",
   "metadata": {},
   "outputs": [],
   "source": [
    "member_lst = []\n",
    "for g in group:\n",
    "    members = g.split(\":\")[-1]\n",
    "    member_lst.append([x.strip() for x in members.split(\",\")])"
   ]
  },
  {
   "cell_type": "code",
   "execution_count": 19,
   "id": "7a482e8b",
   "metadata": {},
   "outputs": [
    {
     "data": {
      "text/plain": [
       "[['Ronaldo Romano', 'Jason Sheu', 'Leon Kuo'],\n",
       " ['Liuyang Zheng', 'Yunhan Zhang', 'Mingjia Zhu'],\n",
       " ['Jason Lin', 'Cameron Brody', 'James Yu'],\n",
       " ['Xuewei Yan', 'Cameron Shaw', 'Yongqing Li'],\n",
       " ['Jonathan Tanoto'],\n",
       " ['Ruiwei Wan', 'Yifei Wang'],\n",
       " ['Kailing Ding', 'Judy Jin', 'Derek Leung', 'Miles Labrador'],\n",
       " ['Luis Ledezma-Ramos', 'Dylan Haar', 'Alicia Gunawan'],\n",
       " ['Jonathan Langley', 'Sujeet Yeramareddy', 'Yong Liu'],\n",
       " ['Duha Aldebakel', 'Rui Zhang', 'Anthony Limon', 'Yu Cao'],\n",
       " ['Raymond Zhao', 'Brady Zhou'],\n",
       " ['Jinsong Yang', 'Qiaochen Sun'],\n",
       " ['Harsha Jagarlamudi', 'Kelly Kong'],\n",
       " ['Alan Arce', 'Edmundo Zamora'],\n",
       " ['Dylan Nelson'],\n",
       " ['Wesley Zhen'],\n",
       " ['Lehan Li', 'Ruojia Tao'],\n",
       " ['Samuel Huang', 'David Aminifard'],\n",
       " ['Alisha Sehgal', 'Anamika Gupta'],\n",
       " ['Charul Sharma', 'Rui Lu', 'Bryan Ambriz'],\n",
       " ['Jayden Lee', 'Dan Ngo', 'Isac Lee'],\n",
       " ['Benjamin Becze', 'Jiayun Wang', 'Shone Patil'],\n",
       " ['Sheng Yang'],\n",
       " ['Martha Yanez', 'Sijie Liu', 'Siddhi Patel', 'Brian Qian'],\n",
       " ['Du Xiang'],\n",
       " ['Ayush More', 'Amy Nguyen'],\n",
       " ['Rakesh Senthilvelan', 'Madeline Tjoa'],\n",
       " ['Shweta Kumar',\n",
       "  'Trevor Tuttle',\n",
       "  'Takashi Yabuta',\n",
       "  'Mizuki Kadowaki',\n",
       "  'Jeffrey Feng'],\n",
       " ['Hwang Yu', 'Maximilian Halvax', 'Lucas Nguyen'],\n",
       " ['Peter Wu', 'Nikitha Gopal', 'Abigail Velasquez'],\n",
       " ['Alex Nguyen', 'Brian Vi'],\n",
       " ['Lechuan Wang', 'Colin Wang', 'Yutong Luo'],\n",
       " ['Lisa Kuwahara', 'Ruiqin Li', 'Sophia Lau'],\n",
       " ['Jerry Chan', 'Apoorv Pochiraju', 'Zhendong Wang', 'Yujie Zhang'],\n",
       " ['Andrew Shen', 'Tanveer Mittal'],\n",
       " ['Cheolmin Hwang', 'Amelia Kawasaki', 'Robert Dunn'],\n",
       " ['Mengfan Chen', 'Jeffrey Chu', 'Vincent Lee', 'Ethan Dinh-Luong'],\n",
       " ['Daniel Tong', 'Anne Xu', 'Praveen Nair'],\n",
       " ['Adam Kreitzman', 'Maxwell Levitt', 'Emily Ramond'],\n",
       " ['Shubham Kaushal', 'Yuxiang Hu', 'Alex Liu'],\n",
       " ['Kevin Chin', 'Yilan Guo', 'Shaheen Daneshvar'],\n",
       " ['Alice Lu', 'Oscar Jimenez', 'Anthony Chi', 'Jaskaranpal Singh'],\n",
       " ['Laura Diao', 'Benjamin Sam', 'Jenna Yang'],\n",
       " ['Justin Harsono', 'Charlie Tran', 'Tatum Maston'],\n",
       " ['Srikar Prayaga', 'Andrew Chin', 'Arjun Sawhney'],\n",
       " ['Sasami Scott', 'Timothy Tran', 'Andy Do'],\n",
       " ['Jared Thach', 'Hiroki Hoshida', 'Cyril Gorlla']]"
      ]
     },
     "execution_count": 19,
     "metadata": {},
     "output_type": "execute_result"
    }
   ],
   "source": [
    "member_lst"
   ]
  },
  {
   "cell_type": "code",
   "execution_count": 20,
   "id": "9e5b736a",
   "metadata": {},
   "outputs": [
    {
     "data": {
      "text/plain": [
       "'Traffic Policing And Its Relationship With Income'"
      ]
     },
     "execution_count": 20,
     "metadata": {},
     "output_type": "execute_result"
    }
   ],
   "source": [
    "title[0]"
   ]
  },
  {
   "cell_type": "code",
   "execution_count": 21,
   "id": "e3692343",
   "metadata": {},
   "outputs": [
    {
     "data": {
      "text/plain": [
       "(47, 30, 47)"
      ]
     },
     "execution_count": 21,
     "metadata": {},
     "output_type": "execute_result"
    }
   ],
   "source": [
    "len(title), len(domains), len(member_lst)"
   ]
  },
  {
   "cell_type": "code",
   "execution_count": 22,
   "id": "bc124276",
   "metadata": {},
   "outputs": [],
   "source": [
    "domain_freq = ([1,4, 1, 1, 2, 1, 0, 1, 5, 3, 2, 0, 2, 2, 2, 0, 1, 2, 1, 1, 1, 1, 1, 1, 1, 2, 2, 1, 2, 3])"
   ]
  },
  {
   "cell_type": "code",
   "execution_count": 23,
   "id": "8dac445a",
   "metadata": {},
   "outputs": [],
   "source": [
    "domain_lst = []\n",
    "mentor_lst = []\n",
    "for (x,y,z) in zip(domains, domain_freq, mentors):\n",
    "    domain_lst += ([x] * y)\n",
    "    mentor_lst += ([z] * y)"
   ]
  },
  {
   "cell_type": "code",
   "execution_count": 24,
   "id": "386829bc",
   "metadata": {},
   "outputs": [],
   "source": [
    "# domain_lst\n",
    "# mentor_lst"
   ]
  },
  {
   "cell_type": "code",
   "execution_count": 25,
   "id": "61d2229c",
   "metadata": {},
   "outputs": [],
   "source": [
    "project_urls = []\n",
    "code_urls = []\n",
    "reports = []\n",
    "\n",
    "for link in links:\n",
    "    project_urls.append(link[0])\n",
    "    code_urls.append(link[1])\n",
    "    reports.append(link[2])"
   ]
  },
  {
   "cell_type": "code",
   "execution_count": 26,
   "id": "d1fd65ff",
   "metadata": {},
   "outputs": [
    {
     "data": {
      "text/plain": [
       "True"
      ]
     },
     "execution_count": 26,
     "metadata": {},
     "output_type": "execute_result"
    }
   ],
   "source": [
    "len(project_urls) == len(title)"
   ]
  },
  {
   "cell_type": "code",
   "execution_count": 27,
   "id": "d3bf4492",
   "metadata": {},
   "outputs": [
    {
     "data": {
      "text/plain": [
       "['Traffic Policing And Its Relationship With Income',\n",
       " 'Model Analysis of Stock Price Trend Predictions based on Financial News',\n",
       " 'Utilizing AutoPhrase on Computer Science papers over time',\n",
       " 'Codenames AI',\n",
       " 'Spam Detection Using Natural Language Processing',\n",
       " 'An Exploration on Medical Records using Blockchain Technology',\n",
       " 'Uncertainty Quantification and Deep Learning for Scalable Spatiotemporal Analysis',\n",
       " 'Post-Prediction Inference on Political Twitter',\n",
       " 'NFL-Analysis',\n",
       " 'Investigation on Latent Dirichlet Allocation',\n",
       " 'Locating Sound with Machine Learning',\n",
       " 'E4E MicroFaune Project',\n",
       " '',\n",
       " 'Eco-Acoustic Event Detection: Classifying temporal presence of birds in recorded bird vocalization audio',\n",
       " 'Pyrenote - User Profile Design & Accessible Data',\n",
       " 'Pyrenote Webdeveloper',\n",
       " 'Who is Spreading Misinformation and Worries in Twitter?',\n",
       " 'Misinformation on Reddit',\n",
       " 'The Spread of YouTube Misinformation Through Twitter',\n",
       " 'Understanding Higgs Boson Particle Jets with Graph Neural Networks',\n",
       " \"Predicting a Particle's True Mass\",\n",
       " 'Graph Neural Network Based Recommender Systems for Spotify Playlists',\n",
       " 'Dynamic Stock Industry Classification',\n",
       " 'HDSI Faculty Exploration Tool',\n",
       " 'HDSI Faculty Exploration Tool',\n",
       " 'Improving Robustness in Deep Fusion Modeling Against Adversarial Attacks',\n",
       " 'Healthcare: Adversarial Defense In Medical Deep Learning Systems',\n",
       " 'Actionable Recourse',\n",
       " 'Finding Commonalities in misinformative Articles Across Topics',\n",
       " 'The Effect of Twitter Cancel Culture on the Music Industry',\n",
       " 'Coupled Autoencoders for Single-Cell Data Analysis',\n",
       " 'On Evaluating the Robustness of Language Models with Tuning',\n",
       " 'A Tree-Based Model for Activity Based Travel Models and Feature Selection',\n",
       " 'Explainable AI',\n",
       " 'Deep Learning Transformer Models for Feature Type Inference',\n",
       " 'Exploring Noise in Data: Applications to ML Models',\n",
       " 'COVID-19 Group Testing Optimization Strategies',\n",
       " 'Patterns of Fairness in Machine Learning',\n",
       " 'Causal Effects of Socioeconomic and Political Factors on Life Expectancy in 166 Different Countries',\n",
       " 'Time Series Analysis on the Effect of Light Exposure on Sleep Quality',\n",
       " 'Sleep Stage Classification for Patients With Sleep Apnea',\n",
       " 'Supervised Classification Approach to Wildfire Mapping in Northern California',\n",
       " 'Network Signal Anomaly Detection',\n",
       " 'Real Time Anomaly Detection in Networks',\n",
       " 'Intel Telemetry: Data Collection & Time-Series Prediction of App Usage',\n",
       " 'Predicting Application Use to Reduce User Wait Time',\n",
       " 'INTELlinext: A Fully Integrated LSTM and HMM-Based Solution for Next-App Prediction With Intel SUR SDK Data Collection']"
      ]
     },
     "execution_count": 27,
     "metadata": {},
     "output_type": "execute_result"
    }
   ],
   "source": [
    "title"
   ]
  },
  {
   "cell_type": "code",
   "execution_count": 28,
   "id": "d56ea03a",
   "metadata": {},
   "outputs": [],
   "source": [
    "posters = [None for i in range(len(domain_lst))]"
   ]
  },
  {
   "cell_type": "code",
   "execution_count": 29,
   "id": "a54a20cd",
   "metadata": {},
   "outputs": [],
   "source": [
    "projectsDF_2122 = pd.DataFrame({\"Domain\" : domain_lst, \"Project\" : title, \"Mentors\" : mentor_lst, \"Members\" : member_lst,\n",
    "             \"Report\" : reports, \"CodeRepo\" : code_urls, \"Website\" : project_urls, \"Posters\" : posters})"
   ]
  },
  {
   "cell_type": "code",
   "execution_count": 41,
   "id": "74fdc54a",
   "metadata": {},
   "outputs": [],
   "source": []
  },
  {
   "cell_type": "code",
   "execution_count": 40,
   "id": "7e680153",
   "metadata": {},
   "outputs": [
    {
     "data": {
      "text/plain": [
       "(46, 8)"
      ]
     },
     "execution_count": 40,
     "metadata": {},
     "output_type": "execute_result"
    }
   ],
   "source": [
    "projectsDF_2122.shape"
   ]
  },
  {
   "cell_type": "code",
   "execution_count": 42,
   "id": "7e042fc5",
   "metadata": {},
   "outputs": [],
   "source": [
    "projectsDF_2122 = projectsDF_2122[projectsDF_2122[\"Report\"] != \"\"].reset_index()"
   ]
  },
  {
   "cell_type": "code",
   "execution_count": 43,
   "id": "92f3d16d",
   "metadata": {},
   "outputs": [],
   "source": [
    "projectsDF_2122.to_csv(\"../data/projectsDF_2122.csv\")"
   ]
  },
  {
   "cell_type": "code",
   "execution_count": null,
   "id": "1b8d76bd",
   "metadata": {},
   "outputs": [],
   "source": []
  }
 ],
 "metadata": {
  "kernelspec": {
   "display_name": "Python 3 (ipykernel)",
   "language": "python",
   "name": "python3"
  },
  "language_info": {
   "codemirror_mode": {
    "name": "ipython",
    "version": 3
   },
   "file_extension": ".py",
   "mimetype": "text/x-python",
   "name": "python",
   "nbconvert_exporter": "python",
   "pygments_lexer": "ipython3",
   "version": "3.11.5"
  }
 },
 "nbformat": 4,
 "nbformat_minor": 5
}
