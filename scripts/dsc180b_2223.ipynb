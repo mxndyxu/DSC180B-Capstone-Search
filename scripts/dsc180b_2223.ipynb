{
 "cells": [
  {
   "cell_type": "markdown",
   "id": "9f5ccbd8",
   "metadata": {},
   "source": [
    "All previous capstone projects:<br>\n",
    "https://docs.google.com/spreadsheets/d/1HJkTHUDJbfIPrPuMJ_DmWCvivxv5YU8Z_E8YCZao-84/edit#gid=511346602"
   ]
  },
  {
   "cell_type": "code",
   "execution_count": 1,
   "id": "96faa636",
   "metadata": {},
   "outputs": [],
   "source": [
    "import pandas as pd\n",
    "import numpy as np\n",
    "import re\n",
    "from bs4 import BeautifulSoup\n",
    "import requests"
   ]
  },
  {
   "cell_type": "code",
   "execution_count": 2,
   "id": "6f3f8e2d",
   "metadata": {},
   "outputs": [],
   "source": [
    "# to scrape:\n",
    "# https://dsc-capstone.org/archive/\n",
    "\n",
    "# scrape differently for each year (website formatted differently)"
   ]
  },
  {
   "cell_type": "code",
   "execution_count": 3,
   "id": "c747d942",
   "metadata": {},
   "outputs": [],
   "source": [
    "# dataframe structure:\n",
    "# year, project name, group members, mentor (what to do industry), website text, report text, github code url, poster url"
   ]
  },
  {
   "cell_type": "code",
   "execution_count": 4,
   "id": "e60dacaf",
   "metadata": {},
   "outputs": [],
   "source": [
    "# example scrape\n",
    "\n",
    "# url = 'https://davidzyx.github.io/HinDroid-with-Embeddings/'\n",
    "# response = requests.get(url)\n",
    "# soup = BeautifulSoup(response.text, 'html.parser')\n",
    "# soup"
   ]
  },
  {
   "cell_type": "code",
   "execution_count": 5,
   "id": "fec21bcb",
   "metadata": {},
   "outputs": [],
   "source": [
    "# 2022-2023\n",
    "url23 = 'https://dsc-capstone.org/showcase-23/'\n",
    "response23 = requests.get(url23)\n",
    "soup23 = BeautifulSoup(response23.text, 'html.parser')"
   ]
  },
  {
   "cell_type": "markdown",
   "id": "915837e2",
   "metadata": {},
   "source": [
    "#### Project titles"
   ]
  },
  {
   "cell_type": "code",
   "execution_count": 6,
   "id": "40158d1a",
   "metadata": {},
   "outputs": [],
   "source": [
    "proj_names = [title.text for title in soup23.find_all('b')[4:]]"
   ]
  },
  {
   "cell_type": "code",
   "execution_count": 7,
   "id": "0ddcf560",
   "metadata": {},
   "outputs": [
    {
     "data": {
      "text/plain": [
       "['Escryptow: Design and Implementation of an E-commerce Dapp',\n",
       " 'BlockBazaar - Smart Contracts for Decentralized E-Commerce',\n",
       " 'Fine-tuned Transformers For Financial Sentiment Analysis',\n",
       " 'Stock Market Prediction ',\n",
       " 'Servicechain.io']"
      ]
     },
     "execution_count": 7,
     "metadata": {},
     "output_type": "execute_result"
    }
   ],
   "source": [
    "proj_names[:5]"
   ]
  },
  {
   "cell_type": "markdown",
   "id": "33912d67",
   "metadata": {},
   "source": [
    "#### Domain"
   ]
  },
  {
   "cell_type": "code",
   "execution_count": 8,
   "id": "a9668204",
   "metadata": {},
   "outputs": [],
   "source": [
    "# chatgpt\n",
    "emoji_pattern = re.compile(\"[\"\n",
    "                               u\"\\U0001F600-\\U0001F64F\"  # emoticons\n",
    "                               u\"\\U0001F300-\\U0001F5FF\"  # symbols & pictographs\n",
    "                               u\"\\U0001F680-\\U0001F6FF\"  # transport & map symbols\n",
    "                               u\"\\U0001F700-\\U0001F77F\"  # alchemical symbols\n",
    "                               u\"\\U0001F780-\\U0001F7FF\"  # Geometric Shapes Extended\n",
    "                               u\"\\U0001F800-\\U0001F8FF\"  # Supplemental Arrows-C\n",
    "                               u\"\\U0001F900-\\U0001F9FF\"  # Supplemental Symbols and Pictographs\n",
    "                               u\"\\U0001FA00-\\U0001FA6F\"  # Chess Symbols\n",
    "                               u\"\\U0001FA70-\\U0001FAFF\"  # Symbols and Pictographs Extended-A\n",
    "                               u\"\\U00002702-\\U000027B0\"  # Dingbats\n",
    "                               u\"\\U000024C2-\\U0001F251\" \n",
    "                               \"]+\", flags=re.UNICODE)"
   ]
  },
  {
   "cell_type": "code",
   "execution_count": 9,
   "id": "0f1514a9",
   "metadata": {},
   "outputs": [],
   "source": [
    "domains_raw = soup23.find_all('h4')[2:]\n",
    "domain_freqs = [5, 13, 17, 5, 12, 14]\n",
    "domains = []\n",
    "for i, domain in enumerate(domains_raw):\n",
    "    domain_cleaned = re.sub(emoji_pattern, '', domain.text).strip() # remove emojis\n",
    "    domains += [domain_cleaned] * domain_freqs[i]"
   ]
  },
  {
   "cell_type": "code",
   "execution_count": 10,
   "id": "f79716a9",
   "metadata": {},
   "outputs": [
    {
     "data": {
      "text/plain": [
       "['Finance and Blockchain',\n",
       " 'Finance and Blockchain',\n",
       " 'Finance and Blockchain',\n",
       " 'Finance and Blockchain',\n",
       " 'Finance and Blockchain',\n",
       " 'Graphs and Deep Learning',\n",
       " 'Graphs and Deep Learning',\n",
       " 'Graphs and Deep Learning',\n",
       " 'Graphs and Deep Learning',\n",
       " 'Graphs and Deep Learning']"
      ]
     },
     "execution_count": 10,
     "metadata": {},
     "output_type": "execute_result"
    }
   ],
   "source": [
    "domains[:10]"
   ]
  },
  {
   "cell_type": "markdown",
   "id": "1f65be4a",
   "metadata": {},
   "source": [
    "#### Group members"
   ]
  },
  {
   "cell_type": "code",
   "execution_count": 11,
   "id": "3c9e236c",
   "metadata": {},
   "outputs": [],
   "source": [
    "groups = []\n",
    "for pg in soup23.find_all('p'):\n",
    "    if 'Group' in pg.text:\n",
    "        groups.append(pg.text.split('\\n')[0])"
   ]
  },
  {
   "cell_type": "code",
   "execution_count": 12,
   "id": "0ea0c9d4",
   "metadata": {},
   "outputs": [],
   "source": [
    "students_raw = []\n",
    "mentors_raw = []\n",
    "for group in groups:\n",
    "    group_split = group.split('(')\n",
    "    students_raw.append(group_split[0])\n",
    "    mentors_raw.append(group_split[1])"
   ]
  },
  {
   "cell_type": "code",
   "execution_count": 13,
   "id": "6ff079c9",
   "metadata": {},
   "outputs": [],
   "source": [
    "group_members = {}\n",
    "\n",
    "for i, grp in enumerate(students_raw):\n",
    "    group_members[i] = [members.strip() for members in grp.split(':')[1].split(',')]"
   ]
  },
  {
   "cell_type": "code",
   "execution_count": 14,
   "id": "f4d3bb87",
   "metadata": {
    "scrolled": true
   },
   "outputs": [
    {
     "data": {
      "text/plain": [
       "['William Li', 'Antoni Liria-Sala', 'Huy Trinh', 'Guangyu Yang']"
      ]
     },
     "execution_count": 14,
     "metadata": {},
     "output_type": "execute_result"
    }
   ],
   "source": [
    "group_members[0]"
   ]
  },
  {
   "cell_type": "markdown",
   "id": "8e3505b6",
   "metadata": {},
   "source": [
    "#### Mentors"
   ]
  },
  {
   "cell_type": "code",
   "execution_count": 15,
   "id": "39f65385",
   "metadata": {},
   "outputs": [
    {
     "data": {
      "text/plain": [
       "['Mentor: Franklin Templeton: Sheffield Nolan)',\n",
       " 'Mentor: Franklin Templeton: Sheffield Nolan)',\n",
       " 'Mentor: Zhiting Hu)',\n",
       " 'Mentor: Zhiting Hu)',\n",
       " 'Mentor: Rajesh Gupta)',\n",
       " 'Mentors: TigerGraph: Jonathan Herke, Jay Yu, Andrew Wei; UCSD: Biwei Huang)',\n",
       " 'Mentors: TigerGraph: Jonathan Herke, Jay Yu, Andrew Wei; UCSD: Biwei Huang)',\n",
       " 'Mentors: TigerGraph: Jonathan Herke, Jay Yu, Andrew Wei; UCSD: Biwei Huang)',\n",
       " 'Mentor: Barna Saha)',\n",
       " 'Mentor: Yusu Wang)',\n",
       " 'Mentor: Yusu Wang)',\n",
       " 'Mentor: Gal Mishne)',\n",
       " 'Mentor: Arya Mazumdar)',\n",
       " 'Mentor: Arya Mazumdar)',\n",
       " 'Mentor: Arya Mazumdar)',\n",
       " 'Mentor: Lily Weng)',\n",
       " 'Mentor: Lily Weng)',\n",
       " 'Mentor: Mikhail Belkin)',\n",
       " 'Mentor: Talmo Pereira)',\n",
       " 'Mentor: Albert Hsiao)',\n",
       " 'Mentor: Albert Hsiao)',\n",
       " 'Mentor: Albert Hsiao)',\n",
       " 'Mentor: Albert Hsiao)',\n",
       " 'Mentor: Mikio Aoi)',\n",
       " 'Mentor: Tiffany Amariuta)',\n",
       " 'Mentor: Tiffany Amariuta)',\n",
       " 'Mentor: Benjamin Smarr)',\n",
       " 'Mentor: Benjamin Smarr)',\n",
       " 'Mentor: Armin Schwartzman)',\n",
       " 'Mentor: Rob Knight)',\n",
       " 'Mentor: Rob Knight)',\n",
       " 'Mentor: Tauhidur Rahman)',\n",
       " 'Mentors: Yian Ma, Rose Yu)',\n",
       " 'Mentors: Yian Ma, Rose Yu)',\n",
       " 'Mentors: Yian Ma, Rose Yu)',\n",
       " 'Mentors: Deloitte: Rasmus Nielsen, Jeffry Liu, Nandita Rahman, Aritra Nath, Emma Harvey, Meira Gilbert; UCSD: David Danks)',\n",
       " 'Mentors: Deloitte: Rasmus Nielsen, Jeffry Liu, Nandita Rahman, Aritra Nath, Emma Harvey, Meira Gilbert; UCSD: David Danks)',\n",
       " 'Mentor: Jelena Bradic)',\n",
       " 'Mentor: Babak Salimi)',\n",
       " 'Mentor: Yuhua Zhu)',\n",
       " 'Mentors: DataStax: Jonathan Shook, Derrick Cosmas; UCSD: Justin Eldridge)',\n",
       " 'Mentors: DataStax: Jonathan Shook, Derrick Cosmas; UCSD: Justin Eldridge)',\n",
       " 'Mentors: DataStax: Jonathan Shook, Derrick Cosmas; UCSD: Justin Eldridge)',\n",
       " 'Mentor: Petal: Brian Duke; UCSD: Berk Ustun)',\n",
       " 'Mentor: Petal: Brian Duke; UCSD: Berk Ustun)',\n",
       " 'Mentor: Stuart Geiger)',\n",
       " 'Mentor: Stuart Geiger)',\n",
       " 'Mentor: Molly Roberts)',\n",
       " 'Mentor: Molly Roberts)',\n",
       " 'Mentor: Jingbo Shang)',\n",
       " 'Mentor: Jingbo Shang)',\n",
       " 'Mentor: Jingbo Shang)',\n",
       " 'Mentors: Intel: Jamel Tayeb, Bijan Arbab; UCSD: Teresa Rexin)',\n",
       " 'Mentors: Intel: Jamel Tayeb, Bijan Arbab; UCSD: Teresa Rexin)',\n",
       " 'Mentors: Intel: Jamel Tayeb, Bijan Arbab; UCSD: Teresa Rexin)',\n",
       " 'Mentor: Flock Freight: Matt Stirling; UCSD: Soohyun Liao)',\n",
       " 'Mentor: Flock Freight: Matt Stirling; UCSD: Soohyun Liao)',\n",
       " 'Mentor: Rajesh Gupta)',\n",
       " 'Mentor: Armin Schwartzman)',\n",
       " 'Mentor: Armin Schwartzman)',\n",
       " 'Mentor: David Fenning)',\n",
       " 'Mentor: Haojian Jin)',\n",
       " 'Mentor: Haojian Jin)',\n",
       " 'Mentors: Alex Cloninger, Yoav Freund)',\n",
       " 'Mentors: Alex Cloninger, Yoav Freund)',\n",
       " 'Mentors: Alex Cloninger, Yoav Freund)']"
      ]
     },
     "execution_count": 15,
     "metadata": {},
     "output_type": "execute_result"
    }
   ],
   "source": [
    "# needs further processing\n",
    "mentors_raw\n",
    "\n"
   ]
  },
  {
   "cell_type": "code",
   "execution_count": 16,
   "id": "03cd905e",
   "metadata": {},
   "outputs": [
    {
     "data": {
      "text/plain": [
       "(['Franklin Templeton: Sheffield Nolan',\n",
       "  'Franklin Templeton: Sheffield Nolan',\n",
       "  'Zhiting Hu',\n",
       "  'Zhiting Hu',\n",
       "  'Rajesh Gupta',\n",
       "  ' TigerGraph: Jonathan Herke, Jay Yu, Andrew Wei; UCSD: Biwei Huang',\n",
       "  ' TigerGraph: Jonathan Herke, Jay Yu, Andrew Wei; UCSD: Biwei Huang',\n",
       "  ' TigerGraph: Jonathan Herke, Jay Yu, Andrew Wei; UCSD: Biwei Huang',\n",
       "  'Barna Saha',\n",
       "  'Yusu Wang'],\n",
       " 'Mentors: TigerGraph: Jonathan Herke, Jay Yu, Andrew Wei; UCSD: Biwei Huang)')"
      ]
     },
     "execution_count": 16,
     "metadata": {},
     "output_type": "execute_result"
    }
   ],
   "source": [
    "test_mentor = mentors_raw[5]\n",
    "\n",
    "stripped_mentors = [x[8:-1] for x in mentors_raw]\n",
    "stripped_mentors[:10], test_mentor"
   ]
  },
  {
   "cell_type": "code",
   "execution_count": 17,
   "id": "0191c149",
   "metadata": {},
   "outputs": [
    {
     "name": "stdout",
     "output_type": "stream",
     "text": [
      "[' TigerGraph']\n",
      "[' Jonathan Herke', ' Jay Yu', ' Andrew Wei']\n"
     ]
    }
   ],
   "source": [
    "if \";\" in test_mentor:\n",
    "    test_tm = (test_mentor.split(\";\"))\n",
    "    \n",
    "    print(test_tm[0].split(\":\")[-2].split(\",\"))\n",
    "    print(test_tm[0].split(\":\")[-1].split(\",\"))\n",
    "    \n",
    "    "
   ]
  },
  {
   "cell_type": "code",
   "execution_count": 18,
   "id": "4b85c91e",
   "metadata": {},
   "outputs": [],
   "source": [
    "lst_mentor_dict = []\n",
    "for mentor_string in stripped_mentors:\n",
    "    mentor_dict = {}\n",
    "    if \";\" in mentor_string:\n",
    "        ms_sc_lst = mentor_string.split(\";\")\n",
    "        \n",
    "        industry = ms_sc_lst[0].split(\":\")[-2].strip()\n",
    "#         print(industry)\n",
    "        industry_mentors = [x.strip() for x in ms_sc_lst[0].split(\":\")[-1].split(\",\")]\n",
    "#         print(industry_mentors)\n",
    "        \n",
    "        #UCSD Portion\n",
    "        ucsd = ms_sc_lst[1].split(\":\")[-2].strip()\n",
    "#         print(ucsd)\n",
    "        ucsd_mentors = [x.strip() for x in ms_sc_lst[1].split(\":\")[-1].split(\",\")]\n",
    "#         print(ucsd_mentors)\n",
    "        \n",
    "        mentor_dict[industry] = industry_mentors\n",
    "        mentor_dict[ucsd] = ucsd_mentors\n",
    "    else:\n",
    "        mentor_dict[\"UCSD\"] = [x.strip() for x in mentor_string.split(\",\")]\n",
    "    \n",
    "    lst_mentor_dict.append(mentor_dict)\n",
    "    "
   ]
  },
  {
   "cell_type": "code",
   "execution_count": 19,
   "id": "ea4f1122",
   "metadata": {},
   "outputs": [],
   "source": [
    "mentors = lst_mentor_dict"
   ]
  },
  {
   "cell_type": "markdown",
   "id": "6b6cb00c",
   "metadata": {},
   "source": [
    "#### Posters, Website URLs, Reports, Code URLs"
   ]
  },
  {
   "cell_type": "code",
   "execution_count": 20,
   "id": "608372d0",
   "metadata": {},
   "outputs": [],
   "source": [
    "posters = []\n",
    "website_urls = []\n",
    "reports = []\n",
    "code_urls = []\n",
    "\n",
    "for link in soup23.find_all('a'):\n",
    "    if 'Poster' in link.text:\n",
    "        posters.append(link['href'])\n",
    "    elif 'Website' in link.text:\n",
    "        website_urls.append(link['href'])\n",
    "    elif 'Report' in link.text:\n",
    "        reports.append(link['href'])\n",
    "    elif 'Code' in link.text:\n",
    "        code_urls.append(link['href'])"
   ]
  },
  {
   "cell_type": "code",
   "execution_count": 21,
   "id": "fa02e3c3",
   "metadata": {},
   "outputs": [
    {
     "data": {
      "text/plain": [
       "['https://drive.google.com/file/d/1wyzuWBjGV1FWsr0bxHz5ml0VPE5hU7MS/view?usp=drivesdk',\n",
       " 'https://drive.google.com/file/d/1qNdCDuVi9iCtT_K80sjAAzl3AlYuNww1/view?usp=drivesdk',\n",
       " 'https://drive.google.com/file/d/1CptK273nCwx4fXM86fK3R5A-sVFzrxfL/view?usp=drivesdk',\n",
       " 'https://drive.google.com/file/d/1o4sLaCsXra1achSoUnr1Ym_56YwINxWw/view?usp=drivesdk',\n",
       " 'https://drive.google.com/file/d/1ye-njQP6-B3w0860eFhcCqgWDOGlClgl/view?usp=drivesdk']"
      ]
     },
     "execution_count": 21,
     "metadata": {},
     "output_type": "execute_result"
    }
   ],
   "source": [
    "posters[:5]"
   ]
  },
  {
   "cell_type": "code",
   "execution_count": 22,
   "id": "977bfced",
   "metadata": {},
   "outputs": [
    {
     "data": {
      "text/plain": [
       "['https://wolftossh.github.io/DSC--180AB-escrow-report/',\n",
       " 'https://wenyuanchen1326.github.io/BlockBazaar/',\n",
       " 'https://findl.crv-zeus.synology.me/',\n",
       " 'https://nathansng.github.io/fintech_library/',\n",
       " 'https://anyachandorkar.github.io/servicechain.io/']"
      ]
     },
     "execution_count": 22,
     "metadata": {},
     "output_type": "execute_result"
    }
   ],
   "source": [
    "website_urls[:5]"
   ]
  },
  {
   "cell_type": "code",
   "execution_count": 23,
   "id": "016e4593",
   "metadata": {},
   "outputs": [
    {
     "data": {
      "text/plain": [
       "['https://drive.google.com/file/d/1UrN4tA0_7iL1MNYRo18lMy3BSNwW27WI/view?usp=drivesdk.pdf',\n",
       " 'https://drive.google.com/file/d/190sUeABNC-E0qooRXufQDKANdHkc-RxM/view?usp=drivesdk.pdf',\n",
       " 'https://drive.google.com/file/d/1cEuRrEtS43C81IrKWcEqVuC81JNc3NU-/view?usp=drivesdk.pdf',\n",
       " 'https://drive.google.com/file/d/1XZFodTmqfSjhs_77ln-pnKJfeRohLKqq/view?usp=drivesdk.pdf',\n",
       " 'https://drive.google.com/file/d/1KVcQPXKCKVXNh5Ug-qzFNA31YzJXzKEb/view?usp=drivesdk.pdf']"
      ]
     },
     "execution_count": 23,
     "metadata": {},
     "output_type": "execute_result"
    }
   ],
   "source": [
    "reports[:5]"
   ]
  },
  {
   "cell_type": "code",
   "execution_count": 24,
   "id": "00e7afe5",
   "metadata": {},
   "outputs": [
    {
     "data": {
      "text/plain": [
       "['https://github.com/wolftossH/DSC--180AB-escrow',\n",
       " 'https://github.com/matin-g/Q2-DSC180B-A02',\n",
       " 'https://github.com/crvander/capstoneproj2023',\n",
       " 'https://github.com/nathansng/fintech_library',\n",
       " 'https://github.com/vineettalla/Servicechain.io']"
      ]
     },
     "execution_count": 24,
     "metadata": {},
     "output_type": "execute_result"
    }
   ],
   "source": [
    "code_urls[:5]"
   ]
  },
  {
   "cell_type": "code",
   "execution_count": 25,
   "id": "62721fd4",
   "metadata": {},
   "outputs": [
    {
     "data": {
      "text/plain": [
       "[['William Li', 'Antoni Liria-Sala', 'Huy Trinh', 'Guangyu Yang'],\n",
       " ['Matin Ghaffari', 'Yu Huang', 'Alan Amirian', 'Wenyuan Chen'],\n",
       " ['Xing Hong', 'Carlos van der Ley', 'Cain Chen', 'Dylan Newman'],\n",
       " ['Nathan Ng', 'Richard Tang', 'Gao Mo'],\n",
       " ['Vineet Tallavajhala',\n",
       "  'Ananya Chandorkar',\n",
       "  'John Mauricio',\n",
       "  'Kristina Shahatit']]"
      ]
     },
     "execution_count": 25,
     "metadata": {},
     "output_type": "execute_result"
    }
   ],
   "source": [
    "list(group_members.values())[:5]"
   ]
  },
  {
   "cell_type": "code",
   "execution_count": 26,
   "id": "91c714c4",
   "metadata": {},
   "outputs": [
    {
     "data": {
      "text/plain": [
       "[{'UCSD': ['Franklin Templeton: Sheffield Nolan']},\n",
       " {'UCSD': ['Franklin Templeton: Sheffield Nolan']},\n",
       " {'UCSD': ['Zhiting Hu']},\n",
       " {'UCSD': ['Zhiting Hu']},\n",
       " {'UCSD': ['Rajesh Gupta']}]"
      ]
     },
     "execution_count": 26,
     "metadata": {},
     "output_type": "execute_result"
    }
   ],
   "source": [
    "lst_mentor_dict[:5]"
   ]
  },
  {
   "cell_type": "code",
   "execution_count": 27,
   "id": "0c9fbd39",
   "metadata": {},
   "outputs": [
    {
     "data": {
      "text/plain": [
       "['Escryptow: Design and Implementation of an E-commerce Dapp',\n",
       " 'BlockBazaar - Smart Contracts for Decentralized E-Commerce',\n",
       " 'Fine-tuned Transformers For Financial Sentiment Analysis',\n",
       " 'Stock Market Prediction ',\n",
       " 'Servicechain.io']"
      ]
     },
     "execution_count": 27,
     "metadata": {},
     "output_type": "execute_result"
    }
   ],
   "source": [
    "proj_names[:5]"
   ]
  },
  {
   "cell_type": "code",
   "execution_count": 28,
   "id": "b16691c0",
   "metadata": {},
   "outputs": [
    {
     "data": {
      "text/plain": [
       "['Finance and Blockchain',\n",
       " 'Finance and Blockchain',\n",
       " 'Finance and Blockchain',\n",
       " 'Finance and Blockchain',\n",
       " 'Finance and Blockchain']"
      ]
     },
     "execution_count": 28,
     "metadata": {},
     "output_type": "execute_result"
    }
   ],
   "source": [
    "domains[:5]"
   ]
  },
  {
   "cell_type": "code",
   "execution_count": null,
   "id": "2a0c0ead",
   "metadata": {},
   "outputs": [],
   "source": []
  },
  {
   "cell_type": "code",
   "execution_count": 29,
   "id": "8a187b12",
   "metadata": {},
   "outputs": [],
   "source": [
    "projectsDF_2223 = pd.DataFrame({\"Domain\" : domains, \"Project\" : proj_names, \"Mentors\" : mentors, \"Members\" : list(group_members.values()),\n",
    "             \"Report\" : reports, \"CodeRepo\" : code_urls, \"Website\" : website_urls, \"Posters\" : posters})"
   ]
  },
  {
   "cell_type": "code",
   "execution_count": 30,
   "id": "c2f8ad8c",
   "metadata": {},
   "outputs": [],
   "source": [
    "projectsDF_2223.to_csv(\"projectsDF_2223.csv\")"
   ]
  },
  {
   "cell_type": "code",
   "execution_count": 31,
   "id": "aeaa2a79",
   "metadata": {},
   "outputs": [
    {
     "data": {
      "text/html": [
       "<div>\n",
       "<style scoped>\n",
       "    .dataframe tbody tr th:only-of-type {\n",
       "        vertical-align: middle;\n",
       "    }\n",
       "\n",
       "    .dataframe tbody tr th {\n",
       "        vertical-align: top;\n",
       "    }\n",
       "\n",
       "    .dataframe thead th {\n",
       "        text-align: right;\n",
       "    }\n",
       "</style>\n",
       "<table border=\"1\" class=\"dataframe\">\n",
       "  <thead>\n",
       "    <tr style=\"text-align: right;\">\n",
       "      <th></th>\n",
       "      <th>Domain</th>\n",
       "      <th>Project</th>\n",
       "      <th>Mentors</th>\n",
       "      <th>Members</th>\n",
       "      <th>Report</th>\n",
       "      <th>CodeRepo</th>\n",
       "      <th>Website</th>\n",
       "      <th>Posters</th>\n",
       "    </tr>\n",
       "  </thead>\n",
       "  <tbody>\n",
       "    <tr>\n",
       "      <th>0</th>\n",
       "      <td>Finance and Blockchain</td>\n",
       "      <td>Escryptow: Design and Implementation of an E-c...</td>\n",
       "      <td>{'UCSD': ['Franklin Templeton: Sheffield Nolan']}</td>\n",
       "      <td>[William Li, Antoni Liria-Sala, Huy Trinh, Gua...</td>\n",
       "      <td>https://drive.google.com/file/d/1UrN4tA0_7iL1M...</td>\n",
       "      <td>https://github.com/wolftossH/DSC--180AB-escrow</td>\n",
       "      <td>https://wolftossh.github.io/DSC--180AB-escrow-...</td>\n",
       "      <td>https://drive.google.com/file/d/1wyzuWBjGV1FWs...</td>\n",
       "    </tr>\n",
       "    <tr>\n",
       "      <th>1</th>\n",
       "      <td>Finance and Blockchain</td>\n",
       "      <td>BlockBazaar - Smart Contracts for Decentralize...</td>\n",
       "      <td>{'UCSD': ['Franklin Templeton: Sheffield Nolan']}</td>\n",
       "      <td>[Matin Ghaffari, Yu Huang, Alan Amirian, Wenyu...</td>\n",
       "      <td>https://drive.google.com/file/d/190sUeABNC-E0q...</td>\n",
       "      <td>https://github.com/matin-g/Q2-DSC180B-A02</td>\n",
       "      <td>https://wenyuanchen1326.github.io/BlockBazaar/</td>\n",
       "      <td>https://drive.google.com/file/d/1qNdCDuVi9iCtT...</td>\n",
       "    </tr>\n",
       "    <tr>\n",
       "      <th>2</th>\n",
       "      <td>Finance and Blockchain</td>\n",
       "      <td>Fine-tuned Transformers For Financial Sentimen...</td>\n",
       "      <td>{'UCSD': ['Zhiting Hu']}</td>\n",
       "      <td>[Xing Hong, Carlos van der Ley, Cain Chen, Dyl...</td>\n",
       "      <td>https://drive.google.com/file/d/1cEuRrEtS43C81...</td>\n",
       "      <td>https://github.com/crvander/capstoneproj2023</td>\n",
       "      <td>https://findl.crv-zeus.synology.me/</td>\n",
       "      <td>https://drive.google.com/file/d/1CptK273nCwx4f...</td>\n",
       "    </tr>\n",
       "    <tr>\n",
       "      <th>3</th>\n",
       "      <td>Finance and Blockchain</td>\n",
       "      <td>Stock Market Prediction</td>\n",
       "      <td>{'UCSD': ['Zhiting Hu']}</td>\n",
       "      <td>[Nathan Ng, Richard Tang, Gao Mo]</td>\n",
       "      <td>https://drive.google.com/file/d/1XZFodTmqfSjhs...</td>\n",
       "      <td>https://github.com/nathansng/fintech_library</td>\n",
       "      <td>https://nathansng.github.io/fintech_library/</td>\n",
       "      <td>https://drive.google.com/file/d/1o4sLaCsXra1ac...</td>\n",
       "    </tr>\n",
       "    <tr>\n",
       "      <th>4</th>\n",
       "      <td>Finance and Blockchain</td>\n",
       "      <td>Servicechain.io</td>\n",
       "      <td>{'UCSD': ['Rajesh Gupta']}</td>\n",
       "      <td>[Vineet Tallavajhala, Ananya Chandorkar, John ...</td>\n",
       "      <td>https://drive.google.com/file/d/1KVcQPXKCKVXNh...</td>\n",
       "      <td>https://github.com/vineettalla/Servicechain.io</td>\n",
       "      <td>https://anyachandorkar.github.io/servicechain.io/</td>\n",
       "      <td>https://drive.google.com/file/d/1ye-njQP6-B3w0...</td>\n",
       "    </tr>\n",
       "    <tr>\n",
       "      <th>...</th>\n",
       "      <td>...</td>\n",
       "      <td>...</td>\n",
       "      <td>...</td>\n",
       "      <td>...</td>\n",
       "      <td>...</td>\n",
       "      <td>...</td>\n",
       "      <td>...</td>\n",
       "      <td>...</td>\n",
       "    </tr>\n",
       "    <tr>\n",
       "      <th>61</th>\n",
       "      <td>Other Applications</td>\n",
       "      <td>Decentralized Location Consensus Through Proxi...</td>\n",
       "      <td>{'UCSD': ['Haojian Jin']}</td>\n",
       "      <td>[Alex Guan, Mason Chan, Alan Miyazaki, Nathan ...</td>\n",
       "      <td>https://drive.google.com/file/d/1TIRdVPAMzYCFy...</td>\n",
       "      <td>https://github.com/nahmann/DSC180-B16</td>\n",
       "      <td>https://nahmann.github.io/DSC180-B16/</td>\n",
       "      <td>https://drive.google.com/file/d/1fmxXjlZmDWbdO...</td>\n",
       "    </tr>\n",
       "    <tr>\n",
       "      <th>62</th>\n",
       "      <td>Other Applications</td>\n",
       "      <td>Decentralized Location Consensus Through Proxi...</td>\n",
       "      <td>{'UCSD': ['Haojian Jin']}</td>\n",
       "      <td>[Andrew Canonigo, Frans Timothy Juacalla, Arya...</td>\n",
       "      <td>https://drive.google.com/file/d/1ebad7RuKX5CAM...</td>\n",
       "      <td>https://github.com/acanonig/DSC180B-Proxensus-</td>\n",
       "      <td>https://aryamansinha2704.github.io/Public_Faci...</td>\n",
       "      <td>https://drive.google.com/file/d/1eNoyy83jYJXLB...</td>\n",
       "    </tr>\n",
       "    <tr>\n",
       "      <th>63</th>\n",
       "      <td>Other Applications</td>\n",
       "      <td>Unsupervised Domain Adaptation on Satellite Im...</td>\n",
       "      <td>{'UCSD': ['Alex Cloninger', 'Yoav Freund']}</td>\n",
       "      <td>[Luke Lloyd, Priyanka Nagasamudra]</td>\n",
       "      <td>https://drive.google.com/file/d/1Jrr19qlQAOZJN...</td>\n",
       "      <td>https://github.com/pnagasam/dsc180a_capstone_p...</td>\n",
       "      <td>https://lalaluke413.github.io/</td>\n",
       "      <td>https://drive.google.com/file/d/1ZbUDECItRBHyN...</td>\n",
       "    </tr>\n",
       "    <tr>\n",
       "      <th>64</th>\n",
       "      <td>Other Applications</td>\n",
       "      <td>Build CNN model for animal recognition</td>\n",
       "      <td>{'UCSD': ['Alex Cloninger', 'Yoav Freund']}</td>\n",
       "      <td>[Xuzhe Zhi, Guanlin Qian, Zhipeng Chen]</td>\n",
       "      <td>https://drive.google.com/file/d/1iGsZFQrWNduOy...</td>\n",
       "      <td>https://github.com/BillChen24/DSC180B-Project-...</td>\n",
       "      <td>https://guanlin-99.github.io/</td>\n",
       "      <td>https://drive.google.com/file/d/1tiZzFn23mPv2G...</td>\n",
       "    </tr>\n",
       "    <tr>\n",
       "      <th>65</th>\n",
       "      <td>Other Applications</td>\n",
       "      <td>DOTA2 Match Winning Rate Prediction</td>\n",
       "      <td>{'UCSD': ['Alex Cloninger', 'Yoav Freund']}</td>\n",
       "      <td>[Junlin Wu, Niehao Chen, Irene Jiang]</td>\n",
       "      <td>https://drive.google.com/file/d/18Fvo1gpB-MmCy...</td>\n",
       "      <td>https://github.com/TallMessiWu/dota2-drafting-...</td>\n",
       "      <td>http://116.62.23.28/</td>\n",
       "      <td>https://drive.google.com/file/d/1eigxdOn-8DmRp...</td>\n",
       "    </tr>\n",
       "  </tbody>\n",
       "</table>\n",
       "<p>66 rows × 8 columns</p>\n",
       "</div>"
      ],
      "text/plain": [
       "                    Domain                                            Project  \\\n",
       "0   Finance and Blockchain  Escryptow: Design and Implementation of an E-c...   \n",
       "1   Finance and Blockchain  BlockBazaar - Smart Contracts for Decentralize...   \n",
       "2   Finance and Blockchain  Fine-tuned Transformers For Financial Sentimen...   \n",
       "3   Finance and Blockchain                           Stock Market Prediction    \n",
       "4   Finance and Blockchain                                    Servicechain.io   \n",
       "..                     ...                                                ...   \n",
       "61      Other Applications  Decentralized Location Consensus Through Proxi...   \n",
       "62      Other Applications  Decentralized Location Consensus Through Proxi...   \n",
       "63      Other Applications  Unsupervised Domain Adaptation on Satellite Im...   \n",
       "64      Other Applications             Build CNN model for animal recognition   \n",
       "65      Other Applications                DOTA2 Match Winning Rate Prediction   \n",
       "\n",
       "                                              Mentors  \\\n",
       "0   {'UCSD': ['Franklin Templeton: Sheffield Nolan']}   \n",
       "1   {'UCSD': ['Franklin Templeton: Sheffield Nolan']}   \n",
       "2                            {'UCSD': ['Zhiting Hu']}   \n",
       "3                            {'UCSD': ['Zhiting Hu']}   \n",
       "4                          {'UCSD': ['Rajesh Gupta']}   \n",
       "..                                                ...   \n",
       "61                          {'UCSD': ['Haojian Jin']}   \n",
       "62                          {'UCSD': ['Haojian Jin']}   \n",
       "63        {'UCSD': ['Alex Cloninger', 'Yoav Freund']}   \n",
       "64        {'UCSD': ['Alex Cloninger', 'Yoav Freund']}   \n",
       "65        {'UCSD': ['Alex Cloninger', 'Yoav Freund']}   \n",
       "\n",
       "                                              Members  \\\n",
       "0   [William Li, Antoni Liria-Sala, Huy Trinh, Gua...   \n",
       "1   [Matin Ghaffari, Yu Huang, Alan Amirian, Wenyu...   \n",
       "2   [Xing Hong, Carlos van der Ley, Cain Chen, Dyl...   \n",
       "3                   [Nathan Ng, Richard Tang, Gao Mo]   \n",
       "4   [Vineet Tallavajhala, Ananya Chandorkar, John ...   \n",
       "..                                                ...   \n",
       "61  [Alex Guan, Mason Chan, Alan Miyazaki, Nathan ...   \n",
       "62  [Andrew Canonigo, Frans Timothy Juacalla, Arya...   \n",
       "63                 [Luke Lloyd, Priyanka Nagasamudra]   \n",
       "64            [Xuzhe Zhi, Guanlin Qian, Zhipeng Chen]   \n",
       "65              [Junlin Wu, Niehao Chen, Irene Jiang]   \n",
       "\n",
       "                                               Report  \\\n",
       "0   https://drive.google.com/file/d/1UrN4tA0_7iL1M...   \n",
       "1   https://drive.google.com/file/d/190sUeABNC-E0q...   \n",
       "2   https://drive.google.com/file/d/1cEuRrEtS43C81...   \n",
       "3   https://drive.google.com/file/d/1XZFodTmqfSjhs...   \n",
       "4   https://drive.google.com/file/d/1KVcQPXKCKVXNh...   \n",
       "..                                                ...   \n",
       "61  https://drive.google.com/file/d/1TIRdVPAMzYCFy...   \n",
       "62  https://drive.google.com/file/d/1ebad7RuKX5CAM...   \n",
       "63  https://drive.google.com/file/d/1Jrr19qlQAOZJN...   \n",
       "64  https://drive.google.com/file/d/1iGsZFQrWNduOy...   \n",
       "65  https://drive.google.com/file/d/18Fvo1gpB-MmCy...   \n",
       "\n",
       "                                             CodeRepo  \\\n",
       "0      https://github.com/wolftossH/DSC--180AB-escrow   \n",
       "1           https://github.com/matin-g/Q2-DSC180B-A02   \n",
       "2        https://github.com/crvander/capstoneproj2023   \n",
       "3        https://github.com/nathansng/fintech_library   \n",
       "4      https://github.com/vineettalla/Servicechain.io   \n",
       "..                                                ...   \n",
       "61              https://github.com/nahmann/DSC180-B16   \n",
       "62     https://github.com/acanonig/DSC180B-Proxensus-   \n",
       "63  https://github.com/pnagasam/dsc180a_capstone_p...   \n",
       "64  https://github.com/BillChen24/DSC180B-Project-...   \n",
       "65  https://github.com/TallMessiWu/dota2-drafting-...   \n",
       "\n",
       "                                              Website  \\\n",
       "0   https://wolftossh.github.io/DSC--180AB-escrow-...   \n",
       "1      https://wenyuanchen1326.github.io/BlockBazaar/   \n",
       "2                 https://findl.crv-zeus.synology.me/   \n",
       "3        https://nathansng.github.io/fintech_library/   \n",
       "4   https://anyachandorkar.github.io/servicechain.io/   \n",
       "..                                                ...   \n",
       "61              https://nahmann.github.io/DSC180-B16/   \n",
       "62  https://aryamansinha2704.github.io/Public_Faci...   \n",
       "63                     https://lalaluke413.github.io/   \n",
       "64                      https://guanlin-99.github.io/   \n",
       "65                               http://116.62.23.28/   \n",
       "\n",
       "                                              Posters  \n",
       "0   https://drive.google.com/file/d/1wyzuWBjGV1FWs...  \n",
       "1   https://drive.google.com/file/d/1qNdCDuVi9iCtT...  \n",
       "2   https://drive.google.com/file/d/1CptK273nCwx4f...  \n",
       "3   https://drive.google.com/file/d/1o4sLaCsXra1ac...  \n",
       "4   https://drive.google.com/file/d/1ye-njQP6-B3w0...  \n",
       "..                                                ...  \n",
       "61  https://drive.google.com/file/d/1fmxXjlZmDWbdO...  \n",
       "62  https://drive.google.com/file/d/1eNoyy83jYJXLB...  \n",
       "63  https://drive.google.com/file/d/1ZbUDECItRBHyN...  \n",
       "64  https://drive.google.com/file/d/1tiZzFn23mPv2G...  \n",
       "65  https://drive.google.com/file/d/1eigxdOn-8DmRp...  \n",
       "\n",
       "[66 rows x 8 columns]"
      ]
     },
     "execution_count": 31,
     "metadata": {},
     "output_type": "execute_result"
    }
   ],
   "source": [
    "projectsDF_2223"
   ]
  },
  {
   "cell_type": "code",
   "execution_count": null,
   "id": "de7c3b3b",
   "metadata": {},
   "outputs": [],
   "source": []
  }
 ],
 "metadata": {
  "kernelspec": {
   "display_name": "Python 3 (ipykernel)",
   "language": "python",
   "name": "python3"
  },
  "language_info": {
   "codemirror_mode": {
    "name": "ipython",
    "version": 3
   },
   "file_extension": ".py",
   "mimetype": "text/x-python",
   "name": "python",
   "nbconvert_exporter": "python",
   "pygments_lexer": "ipython3",
   "version": "3.9.5"
  }
 },
 "nbformat": 4,
 "nbformat_minor": 5
}
